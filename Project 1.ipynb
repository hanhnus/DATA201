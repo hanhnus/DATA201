{
 "cells": [
  {
   "cell_type": "markdown",
   "metadata": {},
   "source": [
    "This is the first of two projects for DATA201. It is due at the end of the first half of the trimester, i.e., Friday 12th April, before midnight. \n",
    "\n",
    "As with the assignments, please submit only this single jupyter notebook with your code added into it at the appropriate places to http://apps.ecs.vuw.ac.nz/submit/DATA201.\n",
    "\n",
    "There are two tasks in this project. The first is fairly freeform. The second is more guided, but a bit harder. Not everybody will finish the second one. The two datasets are available on the course webpage.\n",
    "\n",
    "To get a reasonable grade on this project you should attempt both questions, and do a good job on task 1. Making the PCA work on the shape of the hands as well is what will get you an excellent grade."
   ]
  },
  {
   "cell_type": "code",
   "execution_count": 30,
   "metadata": {},
   "outputs": [],
   "source": [
    "import numpy as np\n",
    "import pandas as pd\n",
    "import matplotlib.pyplot as pl\n",
    "import math\n",
    "import re\n",
    "import matplotlib.dates as mdates\n",
    "from datetime import datetime\n",
    "import statsmodels.api as sm\n",
    "%matplotlib inline"
   ]
  },
  {
   "cell_type": "code",
   "execution_count": null,
   "metadata": {},
   "outputs": [],
   "source": []
  },
  {
   "cell_type": "markdown",
   "metadata": {},
   "source": [
    "Task 1: Fisheries Bycatch\n",
    "==="
   ]
  },
  {
   "cell_type": "code",
   "execution_count": 2,
   "metadata": {
    "scrolled": false
   },
   "outputs": [
    {
     "data": {
      "text/html": [
       "<div>\n",
       "<style scoped>\n",
       "    .dataframe tbody tr th:only-of-type {\n",
       "        vertical-align: middle;\n",
       "    }\n",
       "\n",
       "    .dataframe tbody tr th {\n",
       "        vertical-align: top;\n",
       "    }\n",
       "\n",
       "    .dataframe thead th {\n",
       "        text-align: right;\n",
       "    }\n",
       "</style>\n",
       "<table border=\"1\" class=\"dataframe\">\n",
       "  <thead>\n",
       "    <tr style=\"text-align: right;\">\n",
       "      <th></th>\n",
       "      <th>fishing_year</th>\n",
       "      <th>datetime</th>\n",
       "      <th>taxon</th>\n",
       "      <th>status</th>\n",
       "      <th>identification</th>\n",
       "      <th>capture_method</th>\n",
       "      <th>method</th>\n",
       "      <th>target</th>\n",
       "      <th>vessel_size</th>\n",
       "      <th>area</th>\n",
       "      <th>version</th>\n",
       "      <th>latitude</th>\n",
       "      <th>longitude</th>\n",
       "      <th>mitigation_equipment</th>\n",
       "      <th>excluded</th>\n",
       "    </tr>\n",
       "  </thead>\n",
       "  <tbody>\n",
       "    <tr>\n",
       "      <th>0</th>\n",
       "      <td>2002/2003</td>\n",
       "      <td>2002-09-30 21:45:00+00:00</td>\n",
       "      <td>sooty shearwater</td>\n",
       "      <td>dead</td>\n",
       "      <td>necropsy</td>\n",
       "      <td>net</td>\n",
       "      <td>trawl</td>\n",
       "      <td>Hoki</td>\n",
       "      <td>43+</td>\n",
       "      <td>Fiordland</td>\n",
       "      <td>v20180001</td>\n",
       "      <td>166.055313</td>\n",
       "      <td>-46.704290</td>\n",
       "      <td>NaN</td>\n",
       "      <td>NaN</td>\n",
       "    </tr>\n",
       "    <tr>\n",
       "      <th>1</th>\n",
       "      <td>2002/2003</td>\n",
       "      <td>2002-09-30 21:45:00+00:00</td>\n",
       "      <td>sooty shearwater</td>\n",
       "      <td>dead</td>\n",
       "      <td>necropsy</td>\n",
       "      <td>net</td>\n",
       "      <td>trawl</td>\n",
       "      <td>Hoki</td>\n",
       "      <td>43+</td>\n",
       "      <td>Fiordland</td>\n",
       "      <td>v20180001</td>\n",
       "      <td>166.025787</td>\n",
       "      <td>-46.696851</td>\n",
       "      <td>NaN</td>\n",
       "      <td>NaN</td>\n",
       "    </tr>\n",
       "    <tr>\n",
       "      <th>2</th>\n",
       "      <td>2002/2003</td>\n",
       "      <td>2002-09-30 21:45:00+00:00</td>\n",
       "      <td>sooty shearwater</td>\n",
       "      <td>dead</td>\n",
       "      <td>necropsy</td>\n",
       "      <td>net</td>\n",
       "      <td>trawl</td>\n",
       "      <td>Hoki</td>\n",
       "      <td>43+</td>\n",
       "      <td>Fiordland</td>\n",
       "      <td>v20180001</td>\n",
       "      <td>166.032242</td>\n",
       "      <td>-46.708154</td>\n",
       "      <td>NaN</td>\n",
       "      <td>NaN</td>\n",
       "    </tr>\n",
       "    <tr>\n",
       "      <th>3</th>\n",
       "      <td>2002/2003</td>\n",
       "      <td>2002-09-30 21:45:00+00:00</td>\n",
       "      <td>sooty shearwater</td>\n",
       "      <td>dead</td>\n",
       "      <td>necropsy</td>\n",
       "      <td>net</td>\n",
       "      <td>trawl</td>\n",
       "      <td>Hoki</td>\n",
       "      <td>43+</td>\n",
       "      <td>Fiordland</td>\n",
       "      <td>v20180001</td>\n",
       "      <td>166.057565</td>\n",
       "      <td>-46.683379</td>\n",
       "      <td>NaN</td>\n",
       "      <td>NaN</td>\n",
       "    </tr>\n",
       "    <tr>\n",
       "      <th>4</th>\n",
       "      <td>2002/2003</td>\n",
       "      <td>2002-09-30 21:45:00+00:00</td>\n",
       "      <td>white-chinned petrel</td>\n",
       "      <td>dead</td>\n",
       "      <td>necropsy</td>\n",
       "      <td>net</td>\n",
       "      <td>trawl</td>\n",
       "      <td>Hoki</td>\n",
       "      <td>43+</td>\n",
       "      <td>Fiordland</td>\n",
       "      <td>v20180001</td>\n",
       "      <td>166.057377</td>\n",
       "      <td>-46.685194</td>\n",
       "      <td>NaN</td>\n",
       "      <td>NaN</td>\n",
       "    </tr>\n",
       "  </tbody>\n",
       "</table>\n",
       "</div>"
      ],
      "text/plain": [
       "  fishing_year                   datetime                 taxon status  \\\n",
       "0    2002/2003  2002-09-30 21:45:00+00:00      sooty shearwater   dead   \n",
       "1    2002/2003  2002-09-30 21:45:00+00:00      sooty shearwater   dead   \n",
       "2    2002/2003  2002-09-30 21:45:00+00:00      sooty shearwater   dead   \n",
       "3    2002/2003  2002-09-30 21:45:00+00:00      sooty shearwater   dead   \n",
       "4    2002/2003  2002-09-30 21:45:00+00:00  white-chinned petrel   dead   \n",
       "\n",
       "  identification capture_method method target vessel_size       area  \\\n",
       "0       necropsy            net  trawl   Hoki         43+  Fiordland   \n",
       "1       necropsy            net  trawl   Hoki         43+  Fiordland   \n",
       "2       necropsy            net  trawl   Hoki         43+  Fiordland   \n",
       "3       necropsy            net  trawl   Hoki         43+  Fiordland   \n",
       "4       necropsy            net  trawl   Hoki         43+  Fiordland   \n",
       "\n",
       "     version    latitude  longitude mitigation_equipment excluded  \n",
       "0  v20180001  166.055313 -46.704290                  NaN      NaN  \n",
       "1  v20180001  166.025787 -46.696851                  NaN      NaN  \n",
       "2  v20180001  166.032242 -46.708154                  NaN      NaN  \n",
       "3  v20180001  166.057565 -46.683379                  NaN      NaN  \n",
       "4  v20180001  166.057377 -46.685194                  NaN      NaN  "
      ]
     },
     "execution_count": 2,
     "metadata": {},
     "output_type": "execute_result"
    }
   ],
   "source": [
    "df = pd.read_csv('http://sms.victoria.ac.nz/foswiki/pub/Courses/DATA201_2019T1/WebHome/protected_species_captures.csv')\n",
    "df.head()"
   ]
  },
  {
   "cell_type": "code",
   "execution_count": 3,
   "metadata": {},
   "outputs": [
    {
     "data": {
      "text/html": [
       "<div>\n",
       "<style scoped>\n",
       "    .dataframe tbody tr th:only-of-type {\n",
       "        vertical-align: middle;\n",
       "    }\n",
       "\n",
       "    .dataframe tbody tr th {\n",
       "        vertical-align: top;\n",
       "    }\n",
       "\n",
       "    .dataframe thead th {\n",
       "        text-align: right;\n",
       "    }\n",
       "</style>\n",
       "<table border=\"1\" class=\"dataframe\">\n",
       "  <thead>\n",
       "    <tr style=\"text-align: right;\">\n",
       "      <th></th>\n",
       "      <th>fishing_year</th>\n",
       "      <th>datetime</th>\n",
       "      <th>taxon</th>\n",
       "      <th>status</th>\n",
       "      <th>identification</th>\n",
       "      <th>capture_method</th>\n",
       "      <th>method</th>\n",
       "      <th>target</th>\n",
       "      <th>vessel_size</th>\n",
       "      <th>area</th>\n",
       "      <th>version</th>\n",
       "      <th>latitude</th>\n",
       "      <th>longitude</th>\n",
       "      <th>mitigation_equipment</th>\n",
       "      <th>excluded</th>\n",
       "    </tr>\n",
       "  </thead>\n",
       "  <tbody>\n",
       "    <tr>\n",
       "      <th>12656</th>\n",
       "      <td>2016/2017</td>\n",
       "      <td>2017-09-26 18:20:00+00:00</td>\n",
       "      <td>Buller's shearwater</td>\n",
       "      <td>alive</td>\n",
       "      <td>observer</td>\n",
       "      <td>deck</td>\n",
       "      <td>trawl</td>\n",
       "      <td>Trevally</td>\n",
       "      <td>17-28</td>\n",
       "      <td>West Coast North Island</td>\n",
       "      <td>v20180001</td>\n",
       "      <td>172.923840</td>\n",
       "      <td>-34.413029</td>\n",
       "      <td>none</td>\n",
       "      <td>deck</td>\n",
       "    </tr>\n",
       "    <tr>\n",
       "      <th>12657</th>\n",
       "      <td>2016/2017</td>\n",
       "      <td>2017-09-26 18:20:00+00:00</td>\n",
       "      <td>Buller's shearwater</td>\n",
       "      <td>alive</td>\n",
       "      <td>observer</td>\n",
       "      <td>deck</td>\n",
       "      <td>trawl</td>\n",
       "      <td>Trevally</td>\n",
       "      <td>17-28</td>\n",
       "      <td>West Coast North Island</td>\n",
       "      <td>v20180001</td>\n",
       "      <td>172.895511</td>\n",
       "      <td>-34.377766</td>\n",
       "      <td>none</td>\n",
       "      <td>deck</td>\n",
       "    </tr>\n",
       "    <tr>\n",
       "      <th>12658</th>\n",
       "      <td>2016/2017</td>\n",
       "      <td>2017-09-26 18:20:00+00:00</td>\n",
       "      <td>Cook's Petrel</td>\n",
       "      <td>alive</td>\n",
       "      <td>imputation</td>\n",
       "      <td>deck</td>\n",
       "      <td>trawl</td>\n",
       "      <td>Trevally</td>\n",
       "      <td>17-28</td>\n",
       "      <td>West Coast North Island</td>\n",
       "      <td>v20180001</td>\n",
       "      <td>172.919118</td>\n",
       "      <td>-34.375103</td>\n",
       "      <td>none</td>\n",
       "      <td>deck</td>\n",
       "    </tr>\n",
       "    <tr>\n",
       "      <th>12659</th>\n",
       "      <td>2016/2017</td>\n",
       "      <td>2017-09-26 18:20:00+00:00</td>\n",
       "      <td>Buller's shearwater</td>\n",
       "      <td>alive</td>\n",
       "      <td>observer</td>\n",
       "      <td>deck</td>\n",
       "      <td>trawl</td>\n",
       "      <td>Trevally</td>\n",
       "      <td>17-28</td>\n",
       "      <td>West Coast North Island</td>\n",
       "      <td>v20180001</td>\n",
       "      <td>172.922471</td>\n",
       "      <td>-34.386383</td>\n",
       "      <td>none</td>\n",
       "      <td>deck</td>\n",
       "    </tr>\n",
       "    <tr>\n",
       "      <th>12660</th>\n",
       "      <td>2016/2017</td>\n",
       "      <td>2017-09-26 18:20:00+00:00</td>\n",
       "      <td>Buller's shearwater</td>\n",
       "      <td>alive</td>\n",
       "      <td>imputation</td>\n",
       "      <td>deck</td>\n",
       "      <td>trawl</td>\n",
       "      <td>Trevally</td>\n",
       "      <td>17-28</td>\n",
       "      <td>West Coast North Island</td>\n",
       "      <td>v20180001</td>\n",
       "      <td>172.898423</td>\n",
       "      <td>-34.408640</td>\n",
       "      <td>none</td>\n",
       "      <td>deck</td>\n",
       "    </tr>\n",
       "  </tbody>\n",
       "</table>\n",
       "</div>"
      ],
      "text/plain": [
       "      fishing_year                   datetime                taxon status  \\\n",
       "12656    2016/2017  2017-09-26 18:20:00+00:00  Buller's shearwater  alive   \n",
       "12657    2016/2017  2017-09-26 18:20:00+00:00  Buller's shearwater  alive   \n",
       "12658    2016/2017  2017-09-26 18:20:00+00:00        Cook's Petrel  alive   \n",
       "12659    2016/2017  2017-09-26 18:20:00+00:00  Buller's shearwater  alive   \n",
       "12660    2016/2017  2017-09-26 18:20:00+00:00  Buller's shearwater  alive   \n",
       "\n",
       "      identification capture_method method    target vessel_size  \\\n",
       "12656       observer           deck  trawl  Trevally       17-28   \n",
       "12657       observer           deck  trawl  Trevally       17-28   \n",
       "12658     imputation           deck  trawl  Trevally       17-28   \n",
       "12659       observer           deck  trawl  Trevally       17-28   \n",
       "12660     imputation           deck  trawl  Trevally       17-28   \n",
       "\n",
       "                          area    version    latitude  longitude  \\\n",
       "12656  West Coast North Island  v20180001  172.923840 -34.413029   \n",
       "12657  West Coast North Island  v20180001  172.895511 -34.377766   \n",
       "12658  West Coast North Island  v20180001  172.919118 -34.375103   \n",
       "12659  West Coast North Island  v20180001  172.922471 -34.386383   \n",
       "12660  West Coast North Island  v20180001  172.898423 -34.408640   \n",
       "\n",
       "      mitigation_equipment excluded  \n",
       "12656                 none     deck  \n",
       "12657                 none     deck  \n",
       "12658                 none     deck  \n",
       "12659                 none     deck  \n",
       "12660                 none     deck  "
      ]
     },
     "execution_count": 3,
     "metadata": {},
     "output_type": "execute_result"
    }
   ],
   "source": [
    "df.tail()"
   ]
  },
  {
   "cell_type": "code",
   "execution_count": 4,
   "metadata": {},
   "outputs": [
    {
     "data": {
      "text/html": [
       "<div>\n",
       "<style scoped>\n",
       "    .dataframe tbody tr th:only-of-type {\n",
       "        vertical-align: middle;\n",
       "    }\n",
       "\n",
       "    .dataframe tbody tr th {\n",
       "        vertical-align: top;\n",
       "    }\n",
       "\n",
       "    .dataframe thead th {\n",
       "        text-align: right;\n",
       "    }\n",
       "</style>\n",
       "<table border=\"1\" class=\"dataframe\">\n",
       "  <thead>\n",
       "    <tr style=\"text-align: right;\">\n",
       "      <th></th>\n",
       "      <th>fishing_year</th>\n",
       "      <th>datetime</th>\n",
       "      <th>taxon</th>\n",
       "      <th>status</th>\n",
       "      <th>identification</th>\n",
       "      <th>capture_method</th>\n",
       "      <th>method</th>\n",
       "      <th>target</th>\n",
       "      <th>vessel_size</th>\n",
       "      <th>area</th>\n",
       "      <th>version</th>\n",
       "      <th>latitude</th>\n",
       "      <th>longitude</th>\n",
       "      <th>mitigation_equipment</th>\n",
       "      <th>excluded</th>\n",
       "    </tr>\n",
       "  </thead>\n",
       "  <tbody>\n",
       "    <tr>\n",
       "      <th>12623</th>\n",
       "      <td>2016/2017</td>\n",
       "      <td>2017-09-26 18:20:00+00:00</td>\n",
       "      <td>Buller's shearwater</td>\n",
       "      <td>alive</td>\n",
       "      <td>observer</td>\n",
       "      <td>deck</td>\n",
       "      <td>trawl</td>\n",
       "      <td>Trevally</td>\n",
       "      <td>17-28</td>\n",
       "      <td>West Coast North Island</td>\n",
       "      <td>v20180001</td>\n",
       "      <td>172.923840</td>\n",
       "      <td>-34.413029</td>\n",
       "      <td>none</td>\n",
       "      <td>deck</td>\n",
       "    </tr>\n",
       "    <tr>\n",
       "      <th>12624</th>\n",
       "      <td>2016/2017</td>\n",
       "      <td>2017-09-26 18:20:00+00:00</td>\n",
       "      <td>Buller's shearwater</td>\n",
       "      <td>alive</td>\n",
       "      <td>observer</td>\n",
       "      <td>deck</td>\n",
       "      <td>trawl</td>\n",
       "      <td>Trevally</td>\n",
       "      <td>17-28</td>\n",
       "      <td>West Coast North Island</td>\n",
       "      <td>v20180001</td>\n",
       "      <td>172.895511</td>\n",
       "      <td>-34.377766</td>\n",
       "      <td>none</td>\n",
       "      <td>deck</td>\n",
       "    </tr>\n",
       "    <tr>\n",
       "      <th>12625</th>\n",
       "      <td>2016/2017</td>\n",
       "      <td>2017-09-26 18:20:00+00:00</td>\n",
       "      <td>Cook's Petrel</td>\n",
       "      <td>alive</td>\n",
       "      <td>imputation</td>\n",
       "      <td>deck</td>\n",
       "      <td>trawl</td>\n",
       "      <td>Trevally</td>\n",
       "      <td>17-28</td>\n",
       "      <td>West Coast North Island</td>\n",
       "      <td>v20180001</td>\n",
       "      <td>172.919118</td>\n",
       "      <td>-34.375103</td>\n",
       "      <td>none</td>\n",
       "      <td>deck</td>\n",
       "    </tr>\n",
       "    <tr>\n",
       "      <th>12626</th>\n",
       "      <td>2016/2017</td>\n",
       "      <td>2017-09-26 18:20:00+00:00</td>\n",
       "      <td>Buller's shearwater</td>\n",
       "      <td>alive</td>\n",
       "      <td>observer</td>\n",
       "      <td>deck</td>\n",
       "      <td>trawl</td>\n",
       "      <td>Trevally</td>\n",
       "      <td>17-28</td>\n",
       "      <td>West Coast North Island</td>\n",
       "      <td>v20180001</td>\n",
       "      <td>172.922471</td>\n",
       "      <td>-34.386383</td>\n",
       "      <td>none</td>\n",
       "      <td>deck</td>\n",
       "    </tr>\n",
       "    <tr>\n",
       "      <th>12627</th>\n",
       "      <td>2016/2017</td>\n",
       "      <td>2017-09-26 18:20:00+00:00</td>\n",
       "      <td>Buller's shearwater</td>\n",
       "      <td>alive</td>\n",
       "      <td>imputation</td>\n",
       "      <td>deck</td>\n",
       "      <td>trawl</td>\n",
       "      <td>Trevally</td>\n",
       "      <td>17-28</td>\n",
       "      <td>West Coast North Island</td>\n",
       "      <td>v20180001</td>\n",
       "      <td>172.898423</td>\n",
       "      <td>-34.408640</td>\n",
       "      <td>none</td>\n",
       "      <td>deck</td>\n",
       "    </tr>\n",
       "  </tbody>\n",
       "</table>\n",
       "</div>"
      ],
      "text/plain": [
       "      fishing_year                   datetime                taxon status  \\\n",
       "12623    2016/2017  2017-09-26 18:20:00+00:00  Buller's shearwater  alive   \n",
       "12624    2016/2017  2017-09-26 18:20:00+00:00  Buller's shearwater  alive   \n",
       "12625    2016/2017  2017-09-26 18:20:00+00:00        Cook's Petrel  alive   \n",
       "12626    2016/2017  2017-09-26 18:20:00+00:00  Buller's shearwater  alive   \n",
       "12627    2016/2017  2017-09-26 18:20:00+00:00  Buller's shearwater  alive   \n",
       "\n",
       "      identification capture_method method    target vessel_size  \\\n",
       "12623       observer           deck  trawl  Trevally       17-28   \n",
       "12624       observer           deck  trawl  Trevally       17-28   \n",
       "12625     imputation           deck  trawl  Trevally       17-28   \n",
       "12626       observer           deck  trawl  Trevally       17-28   \n",
       "12627     imputation           deck  trawl  Trevally       17-28   \n",
       "\n",
       "                          area    version    latitude  longitude  \\\n",
       "12623  West Coast North Island  v20180001  172.923840 -34.413029   \n",
       "12624  West Coast North Island  v20180001  172.895511 -34.377766   \n",
       "12625  West Coast North Island  v20180001  172.919118 -34.375103   \n",
       "12626  West Coast North Island  v20180001  172.922471 -34.386383   \n",
       "12627  West Coast North Island  v20180001  172.898423 -34.408640   \n",
       "\n",
       "      mitigation_equipment excluded  \n",
       "12623                 none     deck  \n",
       "12624                 none     deck  \n",
       "12625                 none     deck  \n",
       "12626                 none     deck  \n",
       "12627                 none     deck  "
      ]
     },
     "execution_count": 4,
     "metadata": {},
     "output_type": "execute_result"
    }
   ],
   "source": [
    "# Data Cleansing\n",
    "#     to calculate and compare the alive rate among different locations, method, target fish, and so on,\n",
    "# the rows whose \"status\" column are \"NaN\" need to be removed temporarily.\n",
    "df = df.dropna(subset = [\"status\"])\n",
    "df = df.reset_index(drop = True)\n",
    "df.tail()"
   ]
  },
  {
   "cell_type": "markdown",
   "metadata": {},
   "source": [
    "Carry out some exploratory data analysis on this dataset. You might want to consider things like: \n",
    "* how many different species were killed?\n",
    "* which is the worst fisheries location for bycatch?\n",
    "* which is the worst type of fishery (by method or target fish)?\n",
    "* is the problem getting better or worse?\n",
    "* does the mitigation equipment work?"
   ]
  },
  {
   "cell_type": "code",
   "execution_count": 6,
   "metadata": {},
   "outputs": [],
   "source": [
    "# how many different species were killed?"
   ]
  },
  {
   "cell_type": "code",
   "execution_count": 7,
   "metadata": {},
   "outputs": [
    {
     "name": "stdout",
     "output_type": "stream",
     "text": [
      "There are 7 different species were killed.\n",
      "They are: \n",
      "     giant petrels\n",
      "     Cape petrel\n",
      "     fairy prion\n",
      "     southern royal albatross\n",
      "     southern Buller's albatross\n",
      "     New Zealand white-capped albatross\n",
      "     New Zealand fur seal\n"
     ]
    }
   ],
   "source": [
    "# taxon: a taxonomic group of any rank, \n",
    "#        such as a species, family, or class.\n",
    "df_taxon = df[[\"taxon\", \"status\"]]\n",
    "#print(df_taxon.head())\n",
    "#print(\"status: \", df.status.unique())\n",
    "df_taxon_killed = df_taxon[df_taxon.status == \"killed\"]\n",
    "#print(df_taxon_killed.head())\n",
    "print(\"There are\", df_taxon_killed.taxon.nunique(), \"different species were killed.\")\n",
    "print(\"They are: \")\n",
    "for species in df_taxon_killed.taxon.unique():\n",
    "    print(\"    \", species)"
   ]
  },
  {
   "cell_type": "code",
   "execution_count": 8,
   "metadata": {},
   "outputs": [],
   "source": [
    "# which is the worst fisheries location for bycatch?"
   ]
  },
  {
   "cell_type": "code",
   "execution_count": 9,
   "metadata": {},
   "outputs": [
    {
     "name": "stdout",
     "output_type": "stream",
     "text": [
      "status                    alive    dead  decomposed  killed\n",
      "area                                                       \n",
      "Auckland Islands          628.0  1123.0        33.0     NaN\n",
      "Bay of Plenty             177.0    92.0         NaN     NaN\n",
      "Chatham Rise              231.0   528.0         6.0     3.0\n",
      "Cook Strait                74.0   258.0         NaN     NaN\n",
      "East Coast North Island   109.0   182.0         2.0     NaN\n",
      "East Coast South Island   347.0   678.0        12.0     NaN\n",
      "Fiordland                 496.0   409.0         2.0     NaN\n",
      "Kermadec Islands           21.0    59.0         1.0     NaN\n",
      "Northland and Hauraki     252.0   209.0         NaN     NaN\n",
      "Stewart Snares Shelf     1722.0  2198.0        23.0     1.0\n",
      "Subantarctic              272.0   807.0        11.0     3.0\n",
      "Taranaki                   79.0   204.0         2.0     1.0\n",
      "West Coast North Island   127.0   118.0         NaN     NaN\n",
      "West Coast South Island   330.0   784.0        13.0     1.0\n",
      "\n",
      "                         Alive Rate\n",
      "Auckland Islands           0.352018\n",
      "Bay of Plenty              0.657993\n",
      "Chatham Rise               0.300781\n",
      "Cook Strait                0.222892\n",
      "East Coast North Island    0.372014\n",
      "East Coast South Island    0.334619\n",
      "Fiordland                  0.546858\n",
      "Kermadec Islands           0.259259\n",
      "Northland and Hauraki      0.546638\n",
      "Stewart Snares Shelf       0.436613\n",
      "Subantarctic               0.248856\n",
      "Taranaki                   0.276224\n",
      "West Coast North Island    0.518367\n",
      "West Coast South Island    0.292553\n",
      "\n",
      "The worst fisheries location for bycatch is: Cook Strait, whose alive rate is the lowest: 22.289156626506024%.\n"
     ]
    }
   ],
   "source": [
    "df_area = df[[\"area\", \"status\", \"version\"]]\n",
    "df_pivot_area_status = pd.pivot_table(df_area, index = \"area\", columns = \"status\", values  = \"version\", aggfunc = \"count\")\n",
    "print(df_pivot_area_status)\n",
    "print()\n",
    "\n",
    "df_alive_rate_byArea = pd.DataFrame(columns = [\"Alive Rate\"])\n",
    "for i, row in df_pivot_area_status.iterrows():\n",
    "    count_alive = row[\"alive\"]\n",
    "    # count_all counts the total number of caese recorded for a certain area\n",
    "    count_all   = df.groupby(\"area\").count()[\"version\"][i]\n",
    "    alive_rate  = count_alive / count_all\n",
    "    df_alive_rate_byArea.loc[i]={\"Alive Rate\": alive_rate}\n",
    "print(df_alive_rate_byArea)\n",
    "print()\n",
    "\n",
    "worst_location = df_alive_rate_byArea[\"Alive Rate\"].idxmin()\n",
    "lowest_alive_rate = df_alive_rate_byArea[\"Alive Rate\"].loc[worst_location]\n",
    "print(\"The worst fisheries location for bycatch is: \" + worst_location \n",
    "      + \", whose alive rate is the lowest: \" + str(lowest_alive_rate * 100) + \"%.\")"
   ]
  },
  {
   "cell_type": "code",
   "execution_count": 10,
   "metadata": {},
   "outputs": [],
   "source": [
    "# which is the worst type of fishery (by method or target fish)?"
   ]
  },
  {
   "cell_type": "code",
   "execution_count": 11,
   "metadata": {},
   "outputs": [
    {
     "name": "stdout",
     "output_type": "stream",
     "text": [
      "status             alive    dead  decomposed  killed\n",
      "method                                              \n",
      "bottom longline    775.0   739.0        13.0     4.0\n",
      "purse seine         92.0     7.0         NaN     NaN\n",
      "setnet              74.0   113.0         3.0     NaN\n",
      "surface longline   716.0   826.0         6.0     NaN\n",
      "trawl             3208.0  5964.0        83.0     5.0\n",
      "\n",
      "                  Alive Rate\n",
      "bottom longline     0.506205\n",
      "purse seine         0.929293\n",
      "setnet              0.389474\n",
      "surface longline    0.462532\n",
      "trawl               0.346436\n",
      "\n",
      "The worst fisheries method for bycatch is: trawl, whose alive rate is the lowest: 34.64362850971922%.\n"
     ]
    }
   ],
   "source": [
    "df_method = df[[\"method\", \"status\", \"version\"]]\n",
    "df_pivot_method_status = pd.pivot_table(df_method, index = \"method\", columns = \"status\", values  = \"version\", aggfunc = \"count\")\n",
    "print(df_pivot_method_status)\n",
    "print()\n",
    "\n",
    "df_alive_rate_byMethod = pd.DataFrame(columns = [\"Alive Rate\"])\n",
    "for i, row in df_pivot_method_status.iterrows():\n",
    "    count_alive = row[\"alive\"]\n",
    "    # count_all counts the total number of caese recorded for a certain method\n",
    "    count_all   = df.groupby(\"method\").count()[\"version\"][i]\n",
    "    alive_rate  = count_alive / count_all\n",
    "    df_alive_rate_byMethod.loc[i]={\"Alive Rate\": alive_rate}\n",
    "print(df_alive_rate_byMethod)\n",
    "print()\n",
    "\n",
    "worst_method = df_alive_rate_byMethod[\"Alive Rate\"].idxmin()\n",
    "lowest_alive_rate = df_alive_rate_byMethod[\"Alive Rate\"].loc[worst_method]\n",
    "print(\"The worst fisheries method for bycatch is: \" + worst_method \n",
    "      + \", whose alive rate is the lowest: \" + str(lowest_alive_rate * 100) + \"%.\")"
   ]
  },
  {
   "cell_type": "code",
   "execution_count": 13,
   "metadata": {},
   "outputs": [
    {
     "name": "stdout",
     "output_type": "stream",
     "text": [
      "status                          alive    dead  decomposed  killed\n",
      "target                                                           \n",
      "Albacore tuna                     2.0    72.0         NaN     NaN\n",
      "Alfonsino & long-finned beryx     5.0     4.0         NaN     NaN\n",
      "Arrow squid                    1436.0  2548.0        45.0     1.0\n",
      "Barracouta                       94.0   261.0         NaN     NaN\n",
      "Bass groper                       1.0     NaN         NaN     NaN\n",
      "status                alive  dead  decomposed  killed\n",
      "target                                               \n",
      "Squid                   NaN   6.0         NaN     NaN\n",
      "Tarakihi               89.0  56.0         2.0     NaN\n",
      "Trevally               40.0  13.0         NaN     NaN\n",
      "White warehou          17.0  38.0         NaN     NaN\n",
      "Yellowbelly flounder    NaN   1.0         NaN     NaN\n",
      "\n",
      "            Alive Rate\n",
      "Lemon sole         0.0\n",
      "Squid              0.0\n",
      "Sea perch          0.0\n",
      "Ribaldo            0.0\n",
      "Redbait            0.0\n",
      "                      Alive Rate\n",
      "Giant stargazer         0.932584\n",
      "Bass groper             1.000000\n",
      "Gemfish                 1.000000\n",
      "Patagonian toothfish    1.000000\n",
      "Rubyfish                1.000000\n",
      "\n",
      "The worst fisheries target for bycatch are: Lemon sole, Squid, Sea perch, Ribaldo, Redbait, Hapuku, Elephant fish, Yellowbelly flounder, Blue cod, whose alive rates are all 0%.\n"
     ]
    }
   ],
   "source": [
    "df_target = df[[\"target\", \"status\", \"version\"]]\n",
    "df_pivot_target_status = pd.pivot_table(df_target, index = \"target\", columns = \"status\", values  = \"version\", aggfunc = \"count\")\n",
    "print(df_pivot_target_status.head())\n",
    "print(df_pivot_target_status.tail())\n",
    "print()\n",
    "\n",
    "df_alive_rate_byTarget = pd.DataFrame(columns = [\"Alive Rate\"])\n",
    "for i, row in df_pivot_target_status.iterrows():\n",
    "    count_alive = row[\"alive\"]\n",
    "    if math.isnan(count_alive):\n",
    "        count_alive = 0\n",
    "    # count_all counts the total number of caese recorded for a certain method\n",
    "    count_all   = df.groupby(\"target\").count()[\"version\"][i]\n",
    "    alive_rate  = count_alive / count_all\n",
    "    df_alive_rate_byTarget.loc[i]={\"Alive Rate\": alive_rate}\n",
    "df_alive_rate_byTarget = df_alive_rate_byTarget.sort_values(by = \"Alive Rate\")\n",
    "print(df_alive_rate_byTarget.head())\n",
    "print(df_alive_rate_byTarget.tail())\n",
    "print()\n",
    "\n",
    "worst_target_list    = df_alive_rate_byTarget[df_alive_rate_byTarget[\"Alive Rate\"] == 0].index\n",
    "worst_targets_string = \"\"\n",
    "for worst_target in list(worst_target_list):\n",
    "    worst_targets_string += str(worst_target)\n",
    "    worst_targets_string += \", \"\n",
    "print(\"The worst fisheries target for bycatch are: \" + worst_targets_string + \"whose alive rates are all 0%.\")"
   ]
  },
  {
   "cell_type": "code",
   "execution_count": 14,
   "metadata": {},
   "outputs": [],
   "source": [
    "# is the problem getting better or worse?"
   ]
  },
  {
   "cell_type": "code",
   "execution_count": 15,
   "metadata": {},
   "outputs": [
    {
     "name": "stdout",
     "output_type": "stream",
     "text": [
      "status        alive   dead  decomposed  killed\n",
      "fishing_year                                  \n",
      "2002/2003     383.0  632.0         1.0     3.0\n",
      "2003/2004     172.0  447.0         5.0     1.0\n",
      "2004/2005     317.0  652.0         8.0     1.0\n",
      "2005/2006     185.0  498.0         3.0     NaN\n",
      "2006/2007     155.0  466.0         6.0     1.0\n",
      "2007/2008     186.0  402.0        11.0     NaN\n",
      "2008/2009     255.0  524.0        10.0     NaN\n",
      "2009/2010     430.0  389.0         5.0     NaN\n",
      "2010/2011     255.0  384.0        15.0     NaN\n",
      "2011/2012     214.0  327.0         1.0     NaN\n",
      "2012/2013     465.0  619.0        12.0     1.0\n",
      "2013/2014     396.0  620.0         7.0     2.0\n",
      "2014/2015     490.0  518.0         3.0     NaN\n",
      "2015/2016     579.0  680.0         7.0     NaN\n",
      "2016/2017     383.0  491.0        11.0     NaN\n",
      "\n",
      "           Alive Rate\n",
      "2002/2003    0.375859\n",
      "2003/2004    0.275200\n",
      "2004/2005    0.324131\n",
      "2005/2006    0.269679\n",
      "2006/2007    0.246815\n",
      "2007/2008    0.310518\n",
      "2008/2009    0.323194\n",
      "2009/2010    0.521845\n",
      "2010/2011    0.389908\n",
      "2011/2012    0.394834\n",
      "2012/2013    0.423883\n",
      "2013/2014    0.386341\n",
      "2014/2015    0.484669\n",
      "2015/2016    0.457346\n",
      "2016/2017    0.432768\n",
      "\n"
     ]
    }
   ],
   "source": [
    "df_year = df[[\"fishing_year\", \"status\", \"version\"]]\n",
    "df_pivot_year_status = pd.pivot_table(df_year, index = \"fishing_year\", columns = \"status\", values  = \"version\", aggfunc = \"count\")\n",
    "print(df_pivot_year_status)\n",
    "print()\n",
    "\n",
    "df_alive_rate_byYear = pd.DataFrame(columns = [\"Alive Rate\"])\n",
    "for i, row in df_pivot_year_status.iterrows():\n",
    "    count_alive = row[\"alive\"]\n",
    "    # count_all counts the total number of caese recorded for a certain method\n",
    "    count_all   = df.groupby(\"fishing_year\").count()[\"version\"][i]\n",
    "    alive_rate  = count_alive / count_all\n",
    "    df_alive_rate_byYear.loc[i]={\"Alive Rate\": alive_rate}\n",
    "print(df_alive_rate_byYear)\n",
    "print()"
   ]
  },
  {
   "cell_type": "code",
   "execution_count": 17,
   "metadata": {},
   "outputs": [
    {
     "name": "stdout",
     "output_type": "stream",
     "text": [
      "           Alive Rate\n",
      "2002-09-01          0\n",
      "2002-10-01   0.754967\n",
      "2002-11-01   0.239437\n",
      "2002-12-01   0.333333\n",
      "2003-01-01  0.0333333\n",
      "\n"
     ]
    }
   ],
   "source": [
    "df_year_month = df[[\"datetime\", \"status\", \"version\"]]\n",
    "# in datatime format\n",
    "df_year_month.loc[:,\"date_time\"] = df_year_month[\"datetime\"].apply(lambda x : datetime.strptime(x.split(\"+\")[0], '%Y-%m-%d %H:%M:%S'))\n",
    "# year in datatime format\n",
    "df_year_month.loc[:,\"year\"]  = df_year_month[\"date_time\"].apply(lambda x : x.year)\n",
    "df_year_month.loc[:,\"month\"] = df_year_month[\"date_time\"].apply(lambda x : x.month)\n",
    "df_year_month.drop(['datetime'],  axis = 1, inplace = True)\n",
    "df_year_month.drop(['date_time'], axis = 1, inplace = True)\n",
    "df_year_month.loc[:,\"year-month\"] = df_year_month.apply(lambda row : str(row[\"year\"]) + \"-\" + str(row[\"month\"]), axis = 1)\n",
    "# string -> datetime\n",
    "df_year_month.loc[:,\"year-month\"] = df_year_month[\"year-month\"].apply(lambda x : datetime.strptime(x, '%Y-%m'))\n",
    "#print(df_year_month)\n",
    "\n",
    "df_pivot_year_month_status = pd.pivot_table(df_year_month, index = \"year-month\", columns = \"status\", values  = \"version\", aggfunc = \"count\")\n",
    "#print(df_pivot_year_month_status)\n",
    "#print()\n",
    "\n",
    "df_alive_rate_byYearMonth = pd.DataFrame(columns = [\"Alive Rate\"])\n",
    "for i, row in df_pivot_year_month_status.iterrows():\n",
    "    count_alive = row[\"alive\"]\n",
    "    # count_all counts the total number of caese recorded for a certain method\n",
    "    count_all   = df_year_month.groupby(\"year-month\").count()[\"version\"][i]\n",
    "    alive_rate  = count_alive / count_all\n",
    "    if math.isnan(alive_rate) == True:\n",
    "        alive_rate = 0\n",
    "    #year = df_pivot_year_month_status.index[i]\n",
    "    df_alive_rate_byYearMonth.loc[i]={\"Alive Rate\": alive_rate}\n",
    "print(df_alive_rate_byYearMonth.head())\n",
    "print()"
   ]
  },
  {
   "cell_type": "code",
   "execution_count": 18,
   "metadata": {},
   "outputs": [],
   "source": [
    "# to prepare tuples for box-chart plotting\n",
    "alive_rate_list = []\n",
    "year_list = []\n",
    "for y in range(2002, 2018):  \n",
    "    df_each_year_month = df_alive_rate_byYearMonth[df_alive_rate_byYearMonth.index.year == y] \n",
    "    alive_rate_list.append(tuple(df_each_year_month[\"Alive Rate\"]))\n",
    "    year_list.append(y)    \n",
    "alive_rate_tuple = tuple(alive_rate_list)\n",
    "year_tuple = tuple(year_list)"
   ]
  },
  {
   "cell_type": "code",
   "execution_count": 68,
   "metadata": {},
   "outputs": [],
   "source": [
    "# Description: \n",
    "#          to return the linearly fitted log(count) \n",
    "# Input:   Date column in DataFrame (in Datetime dtype)\n",
    "#          Count column in DataFrame\n",
    "# Output:  Linearly fitted log(count)\n",
    "# e.g.:    linear_fit_log_count(df_HBR.Date, df_HBR.Count)\n",
    "#          linear_fit_log_count(df_STP.Date, df_STP.Count)\n",
    "def linear_fit_rate(date, rate):\n",
    "    date       = df_alive_rate_byYearMonth.index\n",
    "    date_value = date.map(datetime.toordinal).values       # -> numpy.ndarray\n",
    "    rate       = df_alive_rate_byYearMonth[\"Alive Rate\"]  \n",
    "    rate_value = rate.values                               # -> numpy.ndarray \n",
    "    date_const = sm.add_constant(date_value)\n",
    "    model      = sm.OLS(rate_value, date_const)\n",
    "    results    = model.fit()\n",
    "    pred_rate  = results.fittedvalues.copy()\n",
    "    return pred_rate"
   ]
  },
  {
   "cell_type": "code",
   "execution_count": 71,
   "metadata": {},
   "outputs": [
    {
     "data": {
      "image/png": "[encoded data removed]",
      "text/plain": [
       "<Figure size 1080x720 with 2 Axes>"
      ]
     },
     "metadata": {
      "needs_background": "light"
     },
     "output_type": "display_data"
    }
   ],
   "source": [
    "fig, ax = pl.subplots(2, 1, figsize = (15, 10))             # create a new figure & set the figure size\n",
    "ax[0].boxplot(alive_rate_tuple, labels = year_tuple) \n",
    "ax[0].set_xlabel('Time', fontsize = 14) \n",
    "ax[0].set_ylabel('Alive Rate', fontsize = 14) \n",
    "ax[0].set_title('Bycatch Taxon Alive Rate - Year', fontsize = 16, pad = 10)     # pad: offset of the title from the top of the axes\n",
    "ax[0].set_ylim(0, 1)\n",
    "ax[0].set_yticks(np.arange(0, 1.1, 0.1))\n",
    "ax[0].xaxis.grid(which = \"both\", linestyle = \":\")\n",
    "ax[0].yaxis.grid(which = \"both\", linestyle = \":\")\n",
    "\n",
    "\n",
    "ax[1].plot(df_alive_rate_byYearMonth.index, df_alive_rate_byYearMonth[\"Alive Rate\"], linewidth = 0.2, color='royalblue', marker='^', linestyle='solid')  \n",
    "ax[1].plot(df_alive_rate_byYearMonth.index, linear_fit_rate(df_alive_rate_byYearMonth.index, df_alive_rate_byYearMonth[\"Alive Rate\"]), linewidth = 2, color = 'orange', linestyle = 'solid') \n",
    "ax[1].set_xlabel('Time', fontsize = 14) \n",
    "ax[1].set_ylabel('EColi count', fontsize = 14) \n",
    "ax[1].set_title('Bycatch Taxon Alive Rate - Month', fontsize = 16, pad = 10)     # pad: offset of the title from the top of the axes\n",
    "ax[1].set_yticks(np.arange(0, 1.1, 0.1))\n",
    "ax[1].xaxis.grid(which = \"both\", linestyle = \":\")\n",
    "ax[1].yaxis.grid(which = \"both\", linestyle = \":\")\n",
    "ax[1].legend([\"Alive Rate for each month\", \"Fitted linear regression\"], loc = \"upper right\")\n",
    "\n",
    "pl.subplots_adjust(hspace = 0.3)                           # adjust the space between the 2 subplots\n",
    "pl.show()"
   ]
  },
  {
   "cell_type": "code",
   "execution_count": 72,
   "metadata": {},
   "outputs": [],
   "source": [
    "# does the mitigation equipment work?"
   ]
  },
  {
   "cell_type": "code",
   "execution_count": null,
   "metadata": {},
   "outputs": [],
   "source": []
  },
  {
   "cell_type": "code",
   "execution_count": null,
   "metadata": {},
   "outputs": [],
   "source": []
  },
  {
   "cell_type": "code",
   "execution_count": 265,
   "metadata": {},
   "outputs": [],
   "source": [
    "\n",
    "\n",
    "\n",
    "# print(\"identification:\")\n",
    "# print(df.identification.unique())\n",
    "# print(\"capture_method:\")\n",
    "# print(df.capture_method.unique())\n",
    "# print(\"method:\")\n",
    "# print(df.method.unique())\n",
    "# print(\"target:\")\n",
    "# print(df.target.unique())\n",
    "# print(\"vessel_size:\")\n",
    "# print(df.vessel_size.unique())\n",
    "# print(\"area:\")\n",
    "# print(df.area.unique())\n",
    "# print(\"mitigation_equipment:\")\n",
    "# print(df.mitigation_equipment.unique())\n",
    "# print(\"excluded:\")\n",
    "# print(df.excluded.unique())"
   ]
  },
  {
   "cell_type": "code",
   "execution_count": null,
   "metadata": {},
   "outputs": [],
   "source": []
  },
  {
   "cell_type": "code",
   "execution_count": 267,
   "metadata": {},
   "outputs": [],
   "source": []
  },
  {
   "cell_type": "code",
   "execution_count": null,
   "metadata": {},
   "outputs": [],
   "source": []
  },
  {
   "cell_type": "markdown",
   "metadata": {},
   "source": [
    "Earlier versions of this kind of data lead to the Ministry of Primary Industries taking bycatch seriously. Briefly discuss how this data could best be used, and what, if any, ethical implications there are for it."
   ]
  },
  {
   "cell_type": "markdown",
   "metadata": {},
   "source": [
    "Task 2: Hand Shapes\n",
    "==="
   ]
  },
  {
   "cell_type": "markdown",
   "metadata": {},
   "source": [
    "In this task you are going to see an interesting thing that you can do with PCA, namely deform shapes. We describe each shape with a set of landmark points, and then look at how each landmark varies in its position across the dataset. \n",
    "There are 40 images of hands from 4 people, with 56 landmarks in 2D on each. The first 56 points in each line are the x coordinates, and the next 56 are the y coordinates. The data is in hands.txt on the course webpage."
   ]
  },
  {
   "cell_type": "code",
   "execution_count": 268,
   "metadata": {},
   "outputs": [
    {
     "ename": "OSError",
     "evalue": "/home/marslast/Dropbox/Transfer/Teaching/DATA201/Datasets/hands/shapes/hands.txt not found.",
     "output_type": "error",
     "traceback": [
      "\u001b[0;31m---------------------------------------------------------------------------\u001b[0m",
      "\u001b[0;31mOSError\u001b[0m                                   Traceback (most recent call last)",
      "\u001b[0;32m<ipython-input-268-2097ca3647f8>\u001b[0m in \u001b[0;36m<module>\u001b[0;34m\u001b[0m\n\u001b[1;32m      1\u001b[0m \u001b[0;31m# Load the data\u001b[0m\u001b[0;34m\u001b[0m\u001b[0;34m\u001b[0m\u001b[0;34m\u001b[0m\u001b[0m\n\u001b[0;32m----> 2\u001b[0;31m \u001b[0mpoints\u001b[0m \u001b[0;34m=\u001b[0m \u001b[0mnp\u001b[0m\u001b[0;34m.\u001b[0m\u001b[0mloadtxt\u001b[0m\u001b[0;34m(\u001b[0m\u001b[0;34m'/home/marslast/Dropbox/Transfer/Teaching/DATA201/Datasets/hands/shapes/hands.txt'\u001b[0m\u001b[0;34m,\u001b[0m\u001b[0mdelimiter\u001b[0m\u001b[0;34m=\u001b[0m\u001b[0;34m' '\u001b[0m\u001b[0;34m)\u001b[0m\u001b[0;34m\u001b[0m\u001b[0;34m\u001b[0m\u001b[0m\n\u001b[0m",
      "\u001b[0;32m~/anaconda3/lib/python3.7/site-packages/numpy/lib/npyio.py\u001b[0m in \u001b[0;36mloadtxt\u001b[0;34m(fname, dtype, comments, delimiter, converters, skiprows, usecols, unpack, ndmin, encoding)\u001b[0m\n\u001b[1;32m    924\u001b[0m             \u001b[0mfname\u001b[0m \u001b[0;34m=\u001b[0m \u001b[0mstr\u001b[0m\u001b[0;34m(\u001b[0m\u001b[0mfname\u001b[0m\u001b[0;34m)\u001b[0m\u001b[0;34m\u001b[0m\u001b[0;34m\u001b[0m\u001b[0m\n\u001b[1;32m    925\u001b[0m         \u001b[0;32mif\u001b[0m \u001b[0m_is_string_like\u001b[0m\u001b[0;34m(\u001b[0m\u001b[0mfname\u001b[0m\u001b[0;34m)\u001b[0m\u001b[0;34m:\u001b[0m\u001b[0;34m\u001b[0m\u001b[0;34m\u001b[0m\u001b[0m\n\u001b[0;32m--> 926\u001b[0;31m             \u001b[0mfh\u001b[0m \u001b[0;34m=\u001b[0m \u001b[0mnp\u001b[0m\u001b[0;34m.\u001b[0m\u001b[0mlib\u001b[0m\u001b[0;34m.\u001b[0m\u001b[0m_datasource\u001b[0m\u001b[0;34m.\u001b[0m\u001b[0mopen\u001b[0m\u001b[0;34m(\u001b[0m\u001b[0mfname\u001b[0m\u001b[0;34m,\u001b[0m \u001b[0;34m'rt'\u001b[0m\u001b[0;34m,\u001b[0m \u001b[0mencoding\u001b[0m\u001b[0;34m=\u001b[0m\u001b[0mencoding\u001b[0m\u001b[0;34m)\u001b[0m\u001b[0;34m\u001b[0m\u001b[0;34m\u001b[0m\u001b[0m\n\u001b[0m\u001b[1;32m    927\u001b[0m             \u001b[0mfencoding\u001b[0m \u001b[0;34m=\u001b[0m \u001b[0mgetattr\u001b[0m\u001b[0;34m(\u001b[0m\u001b[0mfh\u001b[0m\u001b[0;34m,\u001b[0m \u001b[0;34m'encoding'\u001b[0m\u001b[0;34m,\u001b[0m \u001b[0;34m'latin1'\u001b[0m\u001b[0;34m)\u001b[0m\u001b[0;34m\u001b[0m\u001b[0;34m\u001b[0m\u001b[0m\n\u001b[1;32m    928\u001b[0m             \u001b[0mfh\u001b[0m \u001b[0;34m=\u001b[0m \u001b[0miter\u001b[0m\u001b[0;34m(\u001b[0m\u001b[0mfh\u001b[0m\u001b[0;34m)\u001b[0m\u001b[0;34m\u001b[0m\u001b[0;34m\u001b[0m\u001b[0m\n",
      "\u001b[0;32m~/anaconda3/lib/python3.7/site-packages/numpy/lib/_datasource.py\u001b[0m in \u001b[0;36mopen\u001b[0;34m(path, mode, destpath, encoding, newline)\u001b[0m\n\u001b[1;32m    260\u001b[0m \u001b[0;34m\u001b[0m\u001b[0m\n\u001b[1;32m    261\u001b[0m     \u001b[0mds\u001b[0m \u001b[0;34m=\u001b[0m \u001b[0mDataSource\u001b[0m\u001b[0;34m(\u001b[0m\u001b[0mdestpath\u001b[0m\u001b[0;34m)\u001b[0m\u001b[0;34m\u001b[0m\u001b[0;34m\u001b[0m\u001b[0m\n\u001b[0;32m--> 262\u001b[0;31m     \u001b[0;32mreturn\u001b[0m \u001b[0mds\u001b[0m\u001b[0;34m.\u001b[0m\u001b[0mopen\u001b[0m\u001b[0;34m(\u001b[0m\u001b[0mpath\u001b[0m\u001b[0;34m,\u001b[0m \u001b[0mmode\u001b[0m\u001b[0;34m,\u001b[0m \u001b[0mencoding\u001b[0m\u001b[0;34m=\u001b[0m\u001b[0mencoding\u001b[0m\u001b[0;34m,\u001b[0m \u001b[0mnewline\u001b[0m\u001b[0;34m=\u001b[0m\u001b[0mnewline\u001b[0m\u001b[0;34m)\u001b[0m\u001b[0;34m\u001b[0m\u001b[0;34m\u001b[0m\u001b[0m\n\u001b[0m\u001b[1;32m    263\u001b[0m \u001b[0;34m\u001b[0m\u001b[0m\n\u001b[1;32m    264\u001b[0m \u001b[0;34m\u001b[0m\u001b[0m\n",
      "\u001b[0;32m~/anaconda3/lib/python3.7/site-packages/numpy/lib/_datasource.py\u001b[0m in \u001b[0;36mopen\u001b[0;34m(self, path, mode, encoding, newline)\u001b[0m\n\u001b[1;32m    616\u001b[0m                                       encoding=encoding, newline=newline)\n\u001b[1;32m    617\u001b[0m         \u001b[0;32melse\u001b[0m\u001b[0;34m:\u001b[0m\u001b[0;34m\u001b[0m\u001b[0;34m\u001b[0m\u001b[0m\n\u001b[0;32m--> 618\u001b[0;31m             \u001b[0;32mraise\u001b[0m \u001b[0mIOError\u001b[0m\u001b[0;34m(\u001b[0m\u001b[0;34m\"%s not found.\"\u001b[0m \u001b[0;34m%\u001b[0m \u001b[0mpath\u001b[0m\u001b[0;34m)\u001b[0m\u001b[0;34m\u001b[0m\u001b[0;34m\u001b[0m\u001b[0m\n\u001b[0m\u001b[1;32m    619\u001b[0m \u001b[0;34m\u001b[0m\u001b[0m\n\u001b[1;32m    620\u001b[0m \u001b[0;34m\u001b[0m\u001b[0m\n",
      "\u001b[0;31mOSError\u001b[0m: /home/marslast/Dropbox/Transfer/Teaching/DATA201/Datasets/hands/shapes/hands.txt not found."
     ]
    }
   ],
   "source": [
    "# Load the data\n",
    "points = np.loadtxt('/home/marslast/Dropbox/Transfer/Teaching/DATA201/Datasets/hands/shapes/hands.txt',delimiter=' ')"
   ]
  },
  {
   "cell_type": "markdown",
   "metadata": {},
   "source": [
    "Now plot a couple of the hands to see what they look like. The $x$ coordinates are the first 56 numbers, and the $y$ coordinates the next 56, so you can plot points[:56,0] and points[56:,0]"
   ]
  },
  {
   "cell_type": "code",
   "execution_count": null,
   "metadata": {},
   "outputs": [],
   "source": []
  },
  {
   "cell_type": "markdown",
   "metadata": {},
   "source": [
    "Plot the points for all the hands, so that you can see what a mess it is. You will need to write a loop over the rows of points to plot them all.\n",
    "\n",
    "Plot the first hand on top (with a line between the points) to see if you can see any structure."
   ]
  },
  {
   "cell_type": "code",
   "execution_count": null,
   "metadata": {},
   "outputs": [],
   "source": []
  },
  {
   "cell_type": "markdown",
   "metadata": {},
   "source": [
    "Now use the standardisation from scikit-learn to transform the data and plot it again. You will see that it hasn't made things better. "
   ]
  },
  {
   "cell_type": "code",
   "execution_count": null,
   "metadata": {},
   "outputs": [],
   "source": []
  },
  {
   "cell_type": "markdown",
   "metadata": {},
   "source": [
    "Aligning shape data is a bit harder. The way to perform the alignment is called Procrustes alignment. This name comes from Greek mythology. Procrustes was an innkeeper, who claimed the beds in his hotel were the perfect size for everybody. However, to make this true, he changed the person to fit the bed, not the bed to fit the person, stretching them or chopping bits off as necessary. Procrustes alignment does the same thing, without the brutality. \n",
    "\n",
    "It does this by rotating, translating, and scaling each set of points so that they are as close as possible to one that we choose as the reference set (the first, for simplicity). We implement this by following a set of steps:"
   ]
  },
  {
   "cell_type": "markdown",
   "metadata": {},
   "source": [
    "(1) For each hand, move it so that the centroid (middle point) is at the origin by subtracting off the mean in x and y separately. In other words, compute the mean of the x coordinates of each shape, and subtract that from all of them, and the same in y. \n",
    "I've made you a new array called newpoints to put the data into. The command to compute the mean is np.mean. It's syntax is np.mean(A,axis=0), which computes the mean of each column of matrix A."
   ]
  },
  {
   "cell_type": "code",
   "execution_count": null,
   "metadata": {},
   "outputs": [],
   "source": [
    "newpoints = np.zeros(np.shape(points))"
   ]
  },
  {
   "cell_type": "markdown",
   "metadata": {},
   "source": [
    "(2) Scale each hand so that the root mean square distance from the points to the origin is 1. So compute the scale factor as $s = 1/k * \\sqrt{(x_1 - \\bar{x})^2 + (y_1 - \\bar{y})^2 + \\ldots + (y_k - \\bar{y})^2}$ where there are $k$ points in each hand (so $k=56$). np.sum will help you do the addition. Then divide each of the points by this scale factor."
   ]
  },
  {
   "cell_type": "code",
   "execution_count": null,
   "metadata": {},
   "outputs": [],
   "source": []
  },
  {
   "cell_type": "code",
   "execution_count": null,
   "metadata": {},
   "outputs": [],
   "source": []
  },
  {
   "cell_type": "markdown",
   "metadata": {},
   "source": [
    "(3) Now rotate each hand from 1 to 40 so that it best lines up with hand 0. This is harder than the others, so I've done it for you. "
   ]
  },
  {
   "cell_type": "code",
   "execution_count": null,
   "metadata": {},
   "outputs": [],
   "source": [
    "for i in range(1,40):\n",
    "    a = np.sum(newpoints[:,i]* newpoints[:,0])\n",
    "    b = np.sum(newpoints[:56,i]*newpoints[56:,0] - newpoints[:56,0]*newpoints[56:,i])\n",
    "    theta = np.arctan2(b , max(a, 10**-10))\n",
    "    for j in range(56):\n",
    "        point = np.array([newpoints[j,i],newpoints[j+56,i]])\n",
    "        x = np.dot(np.array([[np.cos(theta), -np.sin(theta)], [np.sin(theta), np.cos(theta)]]), point)\n",
    "        newpoints[j,i] = x[0]\n",
    "        newpoints[j+56,i] = x[1]"
   ]
  },
  {
   "cell_type": "markdown",
   "metadata": {},
   "source": [
    "Now plot the data again. It's better, but the hand isn't properly lined up yet. "
   ]
  },
  {
   "cell_type": "code",
   "execution_count": null,
   "metadata": {},
   "outputs": [],
   "source": []
  },
  {
   "cell_type": "markdown",
   "metadata": {},
   "source": [
    "We can make things better, by replacing the points data with newpoints, replacing the first datapoint with the mean, and then running the translation, rotation and scaling again. Run the code below, and then the previous three bits of code again. This time, the plot should look a bit more convincing."
   ]
  },
  {
   "cell_type": "code",
   "execution_count": null,
   "metadata": {},
   "outputs": [],
   "source": [
    "points = newpoints\n",
    "meanshape = np.mean(newpoints,axis=1)\n",
    "points[:,0]=meanshape"
   ]
  },
  {
   "cell_type": "markdown",
   "metadata": {},
   "source": [
    "Below is my code to do PCA. Run it. "
   ]
  },
  {
   "cell_type": "code",
   "execution_count": null,
   "metadata": {},
   "outputs": [],
   "source": [
    "# Compute the covariance matrix\n",
    "C = np.cov(newpoints)\n",
    "\n",
    "# Get the eigenvalues and eigenvectors\n",
    "evals,evecs = np.linalg.eig(C)\n",
    "\n",
    "# Now need to sort them into descending order\n",
    "indices = np.argsort(evals)\n",
    "indices = indices[::-1]\n",
    "evecs = evecs[:,indices]\n",
    "evals = evals[indices]\n",
    "evecs = np.real(evecs)\n",
    "evals = np.real(evals)"
   ]
  },
  {
   "cell_type": "markdown",
   "metadata": {},
   "source": [
    "Plot the mean shape (i.e., the shape you get when you just compute the mean of each datapoint across the whole dataset), and also the mean shape plus and minus a small amount in each of the first few PCs (one at a time). See if you can work out what each of them does."
   ]
  },
  {
   "cell_type": "code",
   "execution_count": null,
   "metadata": {},
   "outputs": [],
   "source": []
  },
  {
   "cell_type": "code",
   "execution_count": null,
   "metadata": {},
   "outputs": [],
   "source": []
  },
  {
   "cell_type": "markdown",
   "metadata": {},
   "source": [
    "Decide how many principal components you should use by plotting the cumulative sum of the eigenvalues. Explain your answer."
   ]
  },
  {
   "cell_type": "code",
   "execution_count": null,
   "metadata": {},
   "outputs": [],
   "source": []
  }
 ],
 "metadata": {
  "kernelspec": {
   "display_name": "Python 3",
   "language": "python",
   "name": "python3"
  },
  "language_info": {
   "codemirror_mode": {
    "name": "ipython",
    "version": 3
   },
   "file_extension": ".py",
   "mimetype": "text/x-python",
   "name": "python",
   "nbconvert_exporter": "python",
   "pygments_lexer": "ipython3",
   "version": "3.7.1"
  }
 },
 "nbformat": 4,
 "nbformat_minor": 2
}
