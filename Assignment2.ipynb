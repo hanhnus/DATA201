{
 "cells": [
  {
   "cell_type": "markdown",
   "metadata": {},
   "source": [
    "This is the second assignment for DATA201. It is a continuation of the first one, with a more statistical focus.\n",
    "\n",
    "In order to submit it, please use the http://apps.ecs.vuw.ac.nz/submit/DATA201 and submit only this single jupyter notebook with your code added into it at the appropriate places. \n",
    "\n",
    "The due date is Friday 5th April, before midnight. "
   ]
  },
  {
   "cell_type": "markdown",
   "metadata": {},
   "source": [
    "-Repeat of the information from last time\n",
    "\n",
    "Escherichia Coli (E. Coli) is a bacterium found in the intestines of many organisms, including humans. Some strains of it are harmful to humans, and are a major cause of food poisoning. More saliently for New Zealand rivers, it is present in many farm animals, and can be expelled in faecal matter, whereupon it grows aerobically for some time before dying off. This lifetime seems to be between 1 and 3 days depending on conditions. \n",
    "\n",
    "The health implications of the presence of E. Coli in water are large, either directly, or as an indicator for the presence of other harmful organisms. In August 2017, the New Zealand Government approved amendments to the National Policy Statement for Freshwater Management, the so-called ‘Clean Water’ package. \n",
    "\n",
    "The swimmability criteria place rivers into 5 categories (A–E, also called Blue, Green, Yellow, Orange, and Red, of which the first three are deemed ‘swimmable’), based on the frequency of meeting each of four E. coli thresholds:\n",
    "\n",
    "|Category |Samples over 540 | Median | 95th Percentile | Samples over 260 |\n",
    "-----|-----|------|-----|------|\n",
    "| Blue (A) | < 5% | $\\leq$130 | $\\leq$540 | <20% |\n",
    "| Green (B)| 5-10% | $\\leq$130 | $\\leq$1000 | 20-30% |\n",
    "| Yellow (C) | 10-20% | $\\leq$130 | $\\leq$1200 | 20-34% |\n",
    "| Orange (D) | 20-30% | >130 | >1200 | >34% |\n",
    "| Red (E) | >30% | >260 | >1200 | >50% |"
   ]
  },
  {
   "cell_type": "code",
   "execution_count": 2,
   "metadata": {},
   "outputs": [],
   "source": [
    "import numpy as np\n",
    "import pandas as pd\n",
    "import matplotlib.pyplot as pl\n",
    "%matplotlib inline"
   ]
  },
  {
   "cell_type": "markdown",
   "metadata": {},
   "source": [
    "The four swimmabilities criteria in the columns of the table above each define a line in the ($\\mu, \\sigma$) plane. For example, the second (median) criterion is a straight line:"
   ]
  },
  {
   "cell_type": "code",
   "execution_count": 3,
   "metadata": {},
   "outputs": [
    {
     "data": {
      "image/png": "[encoded data removed]",
      "text/plain": [
       "<Figure size 432x288 with 1 Axes>"
      ]
     },
     "metadata": {
      "needs_background": "light"
     },
     "output_type": "display_data"
    }
   ],
   "source": [
    "pl.plot([np.log(130),np.log(130)],[0,2])\n",
    "pl.xlabel('$\\mu$')\n",
    "pl.ylabel('$\\sigma$');"
   ]
  },
  {
   "cell_type": "code",
   "execution_count": null,
   "metadata": {},
   "outputs": [],
   "source": []
  },
  {
   "cell_type": "markdown",
   "metadata": {},
   "source": [
    "Read in the EColiHorizons dataset into the variable df again. You might find it helpful to make a column that is the log of the data. Then decide on the range that $\\mu$ and $\\sigma$ should take (by looking at the dataset) and plot the four lines on one plot. You can use the pandas where function to get the places where a condition is true, which will help you compute the percentages in the criteria. Then make another plot, and shade in the five parts of the space (categories A-E) in the appropriate colour. The next line might help you; the arguments are a list of x coordinates and then y coordinates in order around the shape. (3 marks)"
   ]
  },
  {
   "cell_type": "code",
   "execution_count": 4,
   "metadata": {},
   "outputs": [
    {
     "data": {
      "text/plain": [
       "[<matplotlib.patches.Polygon at 0x111220898>]"
      ]
     },
     "execution_count": 4,
     "metadata": {},
     "output_type": "execute_result"
    },
    {
     "data": {
      "image/png": "[encoded data removed]",
      "text/plain": [
       "<Figure size 432x288 with 1 Axes>"
      ]
     },
     "metadata": {
      "needs_background": "light"
     },
     "output_type": "display_data"
    }
   ],
   "source": [
    "pl.fill([4.6,np.log(130),np.log(130),4.7],[0,0,2,2])"
   ]
  },
  {
   "cell_type": "code",
   "execution_count": 22,
   "metadata": {},
   "outputs": [],
   "source": [
    "df = pd.read_csv('/home/marslast/Dropbox/Transfer/Teaching/DATA201/Datasets/EColiHorizons.csv')"
   ]
  },
  {
   "cell_type": "code",
   "execution_count": 23,
   "metadata": {},
   "outputs": [
    {
     "data": {
      "text/html": [
       "<div>\n",
       "<style scoped>\n",
       "    .dataframe tbody tr th:only-of-type {\n",
       "        vertical-align: middle;\n",
       "    }\n",
       "\n",
       "    .dataframe tbody tr th {\n",
       "        vertical-align: top;\n",
       "    }\n",
       "\n",
       "    .dataframe thead th {\n",
       "        text-align: right;\n",
       "    }\n",
       "</style>\n",
       "<table border=\"1\" class=\"dataframe\">\n",
       "  <thead>\n",
       "    <tr style=\"text-align: right;\">\n",
       "      <th></th>\n",
       "      <th>Location</th>\n",
       "      <th>Test</th>\n",
       "      <th>Date</th>\n",
       "      <th>Count</th>\n",
       "      <th>Land height</th>\n",
       "      <th>Land type</th>\n",
       "    </tr>\n",
       "  </thead>\n",
       "  <tbody>\n",
       "    <tr>\n",
       "      <th>0</th>\n",
       "      <td>Arawhata Drain at Hokio Beach Road</td>\n",
       "      <td>ECOLI</td>\n",
       "      <td>1/02/06 9:45</td>\n",
       "      <td>430.0</td>\n",
       "      <td>Lowland</td>\n",
       "      <td>Rural</td>\n",
       "    </tr>\n",
       "    <tr>\n",
       "      <th>1</th>\n",
       "      <td>Arawhata Drain at Hokio Beach Road</td>\n",
       "      <td>ECOLI</td>\n",
       "      <td>1/03/06 10:10</td>\n",
       "      <td>350.0</td>\n",
       "      <td>Lowland</td>\n",
       "      <td>Rural</td>\n",
       "    </tr>\n",
       "    <tr>\n",
       "      <th>2</th>\n",
       "      <td>Arawhata Drain at Hokio Beach Road</td>\n",
       "      <td>ECOLI</td>\n",
       "      <td>22/03/06 11:05</td>\n",
       "      <td>410.0</td>\n",
       "      <td>Lowland</td>\n",
       "      <td>Rural</td>\n",
       "    </tr>\n",
       "    <tr>\n",
       "      <th>3</th>\n",
       "      <td>Arawhata Drain at Hokio Beach Road</td>\n",
       "      <td>ECOLI</td>\n",
       "      <td>24/05/06 10:45</td>\n",
       "      <td>230.0</td>\n",
       "      <td>Lowland</td>\n",
       "      <td>Rural</td>\n",
       "    </tr>\n",
       "    <tr>\n",
       "      <th>4</th>\n",
       "      <td>Arawhata Drain at Hokio Beach Road</td>\n",
       "      <td>ECOLI</td>\n",
       "      <td>27/06/06 11:20</td>\n",
       "      <td>65.0</td>\n",
       "      <td>Lowland</td>\n",
       "      <td>Rural</td>\n",
       "    </tr>\n",
       "  </tbody>\n",
       "</table>\n",
       "</div>"
      ],
      "text/plain": [
       "                             Location   Test            Date  Count  \\\n",
       "0  Arawhata Drain at Hokio Beach Road  ECOLI    1/02/06 9:45  430.0   \n",
       "1  Arawhata Drain at Hokio Beach Road  ECOLI   1/03/06 10:10  350.0   \n",
       "2  Arawhata Drain at Hokio Beach Road  ECOLI  22/03/06 11:05  410.0   \n",
       "3  Arawhata Drain at Hokio Beach Road  ECOLI  24/05/06 10:45  230.0   \n",
       "4  Arawhata Drain at Hokio Beach Road  ECOLI  27/06/06 11:20   65.0   \n",
       "\n",
       "  Land height Land type  \n",
       "0     Lowland     Rural  \n",
       "1     Lowland     Rural  \n",
       "2     Lowland     Rural  \n",
       "3     Lowland     Rural  \n",
       "4     Lowland     Rural  "
      ]
     },
     "execution_count": 23,
     "metadata": {},
     "output_type": "execute_result"
    }
   ],
   "source": [
    "df.head()"
   ]
  },
  {
   "cell_type": "markdown",
   "metadata": {},
   "source": [
    "The Kolmogorov-Smirnov test checks how well some data fits a particular distribution. It is implemented in scipy as kstest, which is imported in the line below. Use it to test how well the log normal distribution assumption is fulfilled for the e-coli count of each of the 2 sites from last week. Using the help file, interpret the result.  (2 marks)"
   ]
  },
  {
   "cell_type": "code",
   "execution_count": 25,
   "metadata": {},
   "outputs": [],
   "source": [
    "from scipy.stats import kstest\n",
    "?kstest"
   ]
  },
  {
   "cell_type": "markdown",
   "metadata": {},
   "source": [
    "In the previous assignment you computed the trend lines for two of the sites. Use the same sites, but fit linear models to the first half of the data (i.e., the first 5 years), and the second half. Use scipy.stats.pearsonr to decide if the trend is significant. (2 mark)"
   ]
  },
  {
   "cell_type": "markdown",
   "metadata": {},
   "source": [
    "An alternative model is that the log data comes from a normal distribution of the form $N(\\mu_0 + \\mu_1 t, \\sigma^2)$. In STAT193 you saw this written as $y = \\alpha + \\beta t$ (where $\\alpha$ is the intercept and $\\beta$ is the slope). Here the trend is $\\mu_1$, so if $\\mu_1=-0.05$ it would mean a 5% decrease per year in e-coli count. Fit this model and use it to decide if the two sites from last week are improving.  (2 marks)"
   ]
  },
  {
   "cell_type": "code",
   "execution_count": null,
   "metadata": {},
   "outputs": [],
   "source": []
  },
  {
   "cell_type": "markdown",
   "metadata": {},
   "source": [
    "Comment on whether or not you interpret this data as meaning that the state of our rivers is improving. (1 mark)"
   ]
  },
  {
   "cell_type": "code",
   "execution_count": null,
   "metadata": {},
   "outputs": [],
   "source": []
  }
 ],
 "metadata": {
  "kernelspec": {
   "display_name": "Python 3",
   "language": "python",
   "name": "python3"
  },
  "language_info": {
   "codemirror_mode": {
    "name": "ipython",
    "version": 3
   },
   "file_extension": ".py",
   "mimetype": "text/x-python",
   "name": "python",
   "nbconvert_exporter": "python",
   "pygments_lexer": "ipython3",
   "version": "3.7.1"
  }
 },
 "nbformat": 4,
 "nbformat_minor": 2
}
