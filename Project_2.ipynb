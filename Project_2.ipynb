{
 "cells": [
  {
   "cell_type": "markdown",
   "metadata": {},
   "source": [
    "# DATA201 - Project 2\n",
    "\n",
    "Please use this page http://apps.ecs.vuw.ac.nz/submit/DATA201 for submitssion and submit only this single Jupyter notebook with your code added into it at the appropriate places.\n",
    "\n",
    "The due date is **Friday 7th June, before midnight**.\n",
    "\n",
    "The dataset for this assignment are files **loan_train.csv** and **loan_test.csv** which are provided with this notebook.\n",
    "\n",
    "Please choose menu items *Kernel => Restart & Run All* then *File => Save and Checkpoint* in Jupyter before submission."
   ]
  },
  {
   "cell_type": "markdown",
   "metadata": {},
   "source": [
    "## Problem Statement\n",
    "\n",
    "A company deals in all home loans. They have presence across all urban, semi urban and rural areas.\n",
    "Customers first apply for home loan after that company validates the customer eligibility for loan.\n",
    "\n",
    "The company wants to automate the loan eligibility process (in real-time) based on customer detail provided while filling online application form. These details are Gender, Marital Status, Education, Number of Dependents, Income, Loan Amount, Credit History and others. To automate this process, they have given a problem to identify the customers segments, those are eligible for loan amount so that they can specifically target these customers."
   ]
  },
  {
   "cell_type": "markdown",
   "metadata": {},
   "source": [
    "## Data\n",
    "\n",
    "| Variable\t            | Description                                     |\n",
    "|-----------------------|-------------------------------------------------|\n",
    "|``Loan_ID``            |Unique Loan ID                                   |\n",
    "|``Gender``             |Male / Female                                    |\n",
    "|``Married``            |Applicant married (Y/N)                          |\n",
    "|``Dependents``         |Number of dependents                             |\n",
    "|``Education``          |Applicant Education (Graduate / Under Graduate)  |\n",
    "|``Self_Employed``      |Self employed (Y/N)                              |\n",
    "|``ApplicantIncome``    |Applicant income                                 |\n",
    "|``CoapplicantIncome``  |Coapplicant income                               |\n",
    "|``LoanAmount``         |Loan amount in thousands                         |\n",
    "|``Loan_Amount_Term``   |Term of loan in months                           |\n",
    "|``Credit_History``     |Credit history meets guidelines                  |\n",
    "|``Property_Area``      |Urban / Semi Urban / Rural                       |\n",
    "|``Loan_Status``        |Loan approved (Y/N)                              |\n",
    "\n",
    "Use ``loan_train.csv`` to build a model to predict if a loan application is approved (``Loan_Status`` is the label), and test the model using ``loan_test.csv``. "
   ]
  },
  {
   "cell_type": "markdown",
   "metadata": {},
   "source": [
    "## Model Evaluation\n",
    "\n",
    "Use AUC (area under the receiver operating characteristic curve) as the evaluation metric."
   ]
  },
  {
   "cell_type": "markdown",
   "metadata": {},
   "source": [
    "## Guidelines\n",
    "\n",
    "- This is an End-to-End machine learning project. Please review lecture notes in weeks 6 and 7 carefully before starting the project.\n",
    "- This is also an *open* project. There is no restriction in using any algorithms or packages, even those which are not discussed in the lectures.\n",
    "- The followings are expected in this project (**maximum possible points: 15++**):\n",
    "    + Exploratory analysis and visualisation [**2 points**]\n",
    "    + Data preparation (outliers and missing values treatment, feature selection, feature engineering, feature scaling, etc. - not all of those steps are required) [**3 points**]\n",
    "    + Model training (train many quick models, measure and compare their performance, analyze important features and types of errors, ... then short-list the top 3 to 5 most promising models, preferring models that make different types of errors) [**4 points**]\n",
    "    + Model tuning (fine-tune the hyper-parameters using cross-validation, try ensemble methods, ... then measure the final model's performance on the test set) [**5 points**]\n",
    "    + Present your solution (present interesting points you noticed along the way (what worked and what did not, your assumptions and your systems limitations), communicate your key findings through beautiful visualizations or easy-to-remember statements, etc.) [**1 point**]\n",
    "- Bonus points (maximum **2 points**): for those who obtain the highest AUC value on the test set and for those who automate the steps above as much as possible."
   ]
  },
  {
   "cell_type": "code",
   "execution_count": 931,
   "metadata": {},
   "outputs": [],
   "source": [
    "import numpy               as np\n",
    "import pandas              as pd\n",
    "import matplotlib          as mpl\n",
    "import matplotlib.pyplot   as plt\n",
    "from pandas.plotting       import scatter_matrix\n",
    "from sklearn.preprocessing import OneHotEncoder\n",
    "from sklearn.pipeline      import Pipeline\n",
    "from sklearn.preprocessing import StandardScaler, MinMaxScaler\n",
    "\n",
    "from sklearn.metrics import mean_squared_error\n",
    "from sklearn.linear_model import LinearRegression\n",
    "from sklearn.tree import DecisionTreeRegressor\n",
    "\n",
    "\n",
    "from   sklearn.neighbors       import KNeighborsClassifier\n",
    "from   sklearn.metrics         import accuracy_score, confusion_matrix\n",
    "from   sklearn.model_selection import GridSearchCV, RandomizedSearchCV\n",
    "\n",
    "\n",
    "\n",
    "%matplotlib inline"
   ]
  },
  {
   "cell_type": "code",
   "execution_count": null,
   "metadata": {},
   "outputs": [],
   "source": []
  },
  {
   "cell_type": "code",
   "execution_count": null,
   "metadata": {},
   "outputs": [],
   "source": []
  },
  {
   "cell_type": "code",
   "execution_count": null,
   "metadata": {},
   "outputs": [],
   "source": []
  },
  {
   "cell_type": "markdown",
   "metadata": {},
   "source": [
    "### Data Loading"
   ]
  },
  {
   "cell_type": "markdown",
   "metadata": {},
   "source": [
    "Load the training data set and test data set from .csv files as two DataFrames."
   ]
  },
  {
   "cell_type": "code",
   "execution_count": 932,
   "metadata": {},
   "outputs": [],
   "source": [
    "df_train = pd.read_csv('loan_train.csv')\n",
    "df_test  = pd.read_csv('loan_test.csv')"
   ]
  },
  {
   "cell_type": "markdown",
   "metadata": {},
   "source": [
    "### 1. Exploratory Data Analysis"
   ]
  },
  {
   "cell_type": "markdown",
   "metadata": {},
   "source": [
    "Take a look at the top 3 rows of training set and test set."
   ]
  },
  {
   "cell_type": "code",
   "execution_count": 933,
   "metadata": {},
   "outputs": [
    {
     "data": {
      "text/html": [
       "<div>\n",
       "<style scoped>\n",
       "    .dataframe tbody tr th:only-of-type {\n",
       "        vertical-align: middle;\n",
       "    }\n",
       "\n",
       "    .dataframe tbody tr th {\n",
       "        vertical-align: top;\n",
       "    }\n",
       "\n",
       "    .dataframe thead th {\n",
       "        text-align: right;\n",
       "    }\n",
       "</style>\n",
       "<table border=\"1\" class=\"dataframe\">\n",
       "  <thead>\n",
       "    <tr style=\"text-align: right;\">\n",
       "      <th></th>\n",
       "      <th>Loan_ID</th>\n",
       "      <th>Gender</th>\n",
       "      <th>Married</th>\n",
       "      <th>Dependents</th>\n",
       "      <th>Education</th>\n",
       "      <th>Self_Employed</th>\n",
       "      <th>ApplicantIncome</th>\n",
       "      <th>CoapplicantIncome</th>\n",
       "      <th>LoanAmount</th>\n",
       "      <th>Loan_Amount_Term</th>\n",
       "      <th>Credit_History</th>\n",
       "      <th>Property_Area</th>\n",
       "      <th>Loan_Status</th>\n",
       "    </tr>\n",
       "  </thead>\n",
       "  <tbody>\n",
       "    <tr>\n",
       "      <th>0</th>\n",
       "      <td>LP001535</td>\n",
       "      <td>Male</td>\n",
       "      <td>No</td>\n",
       "      <td>0</td>\n",
       "      <td>Graduate</td>\n",
       "      <td>No</td>\n",
       "      <td>3254</td>\n",
       "      <td>0.0</td>\n",
       "      <td>50.0</td>\n",
       "      <td>360.0</td>\n",
       "      <td>1.0</td>\n",
       "      <td>Urban</td>\n",
       "      <td>Y</td>\n",
       "    </tr>\n",
       "    <tr>\n",
       "      <th>1</th>\n",
       "      <td>LP001792</td>\n",
       "      <td>Male</td>\n",
       "      <td>Yes</td>\n",
       "      <td>1</td>\n",
       "      <td>Graduate</td>\n",
       "      <td>No</td>\n",
       "      <td>3315</td>\n",
       "      <td>0.0</td>\n",
       "      <td>96.0</td>\n",
       "      <td>360.0</td>\n",
       "      <td>1.0</td>\n",
       "      <td>Semiurban</td>\n",
       "      <td>Y</td>\n",
       "    </tr>\n",
       "    <tr>\n",
       "      <th>2</th>\n",
       "      <td>LP002443</td>\n",
       "      <td>Male</td>\n",
       "      <td>Yes</td>\n",
       "      <td>2</td>\n",
       "      <td>Graduate</td>\n",
       "      <td>No</td>\n",
       "      <td>3340</td>\n",
       "      <td>1710.0</td>\n",
       "      <td>150.0</td>\n",
       "      <td>360.0</td>\n",
       "      <td>0.0</td>\n",
       "      <td>Rural</td>\n",
       "      <td>N</td>\n",
       "    </tr>\n",
       "  </tbody>\n",
       "</table>\n",
       "</div>"
      ],
      "text/plain": [
       "    Loan_ID Gender Married Dependents Education Self_Employed  \\\n",
       "0  LP001535   Male      No          0  Graduate            No   \n",
       "1  LP001792   Male     Yes          1  Graduate            No   \n",
       "2  LP002443   Male     Yes          2  Graduate            No   \n",
       "\n",
       "   ApplicantIncome  CoapplicantIncome  LoanAmount  Loan_Amount_Term  \\\n",
       "0             3254                0.0        50.0             360.0   \n",
       "1             3315                0.0        96.0             360.0   \n",
       "2             3340             1710.0       150.0             360.0   \n",
       "\n",
       "   Credit_History Property_Area Loan_Status  \n",
       "0             1.0         Urban           Y  \n",
       "1             1.0     Semiurban           Y  \n",
       "2             0.0         Rural           N  "
      ]
     },
     "execution_count": 933,
     "metadata": {},
     "output_type": "execute_result"
    }
   ],
   "source": [
    "df_train.head(3)"
   ]
  },
  {
   "cell_type": "code",
   "execution_count": 934,
   "metadata": {},
   "outputs": [
    {
     "data": {
      "text/html": [
       "<div>\n",
       "<style scoped>\n",
       "    .dataframe tbody tr th:only-of-type {\n",
       "        vertical-align: middle;\n",
       "    }\n",
       "\n",
       "    .dataframe tbody tr th {\n",
       "        vertical-align: top;\n",
       "    }\n",
       "\n",
       "    .dataframe thead th {\n",
       "        text-align: right;\n",
       "    }\n",
       "</style>\n",
       "<table border=\"1\" class=\"dataframe\">\n",
       "  <thead>\n",
       "    <tr style=\"text-align: right;\">\n",
       "      <th></th>\n",
       "      <th>Loan_ID</th>\n",
       "      <th>Gender</th>\n",
       "      <th>Married</th>\n",
       "      <th>Dependents</th>\n",
       "      <th>Education</th>\n",
       "      <th>Self_Employed</th>\n",
       "      <th>ApplicantIncome</th>\n",
       "      <th>CoapplicantIncome</th>\n",
       "      <th>LoanAmount</th>\n",
       "      <th>Loan_Amount_Term</th>\n",
       "      <th>Credit_History</th>\n",
       "      <th>Property_Area</th>\n",
       "      <th>Loan_Status</th>\n",
       "    </tr>\n",
       "  </thead>\n",
       "  <tbody>\n",
       "    <tr>\n",
       "      <th>0</th>\n",
       "      <td>LP001528</td>\n",
       "      <td>Male</td>\n",
       "      <td>No</td>\n",
       "      <td>0</td>\n",
       "      <td>Graduate</td>\n",
       "      <td>No</td>\n",
       "      <td>6277</td>\n",
       "      <td>0.0</td>\n",
       "      <td>118.0</td>\n",
       "      <td>360.0</td>\n",
       "      <td>0.0</td>\n",
       "      <td>Rural</td>\n",
       "      <td>N</td>\n",
       "    </tr>\n",
       "    <tr>\n",
       "      <th>1</th>\n",
       "      <td>LP002804</td>\n",
       "      <td>Female</td>\n",
       "      <td>Yes</td>\n",
       "      <td>0</td>\n",
       "      <td>Graduate</td>\n",
       "      <td>No</td>\n",
       "      <td>4180</td>\n",
       "      <td>2306.0</td>\n",
       "      <td>182.0</td>\n",
       "      <td>360.0</td>\n",
       "      <td>1.0</td>\n",
       "      <td>Semiurban</td>\n",
       "      <td>Y</td>\n",
       "    </tr>\n",
       "    <tr>\n",
       "      <th>2</th>\n",
       "      <td>LP002945</td>\n",
       "      <td>Male</td>\n",
       "      <td>Yes</td>\n",
       "      <td>0</td>\n",
       "      <td>Graduate</td>\n",
       "      <td>Yes</td>\n",
       "      <td>9963</td>\n",
       "      <td>0.0</td>\n",
       "      <td>180.0</td>\n",
       "      <td>360.0</td>\n",
       "      <td>1.0</td>\n",
       "      <td>Rural</td>\n",
       "      <td>Y</td>\n",
       "    </tr>\n",
       "  </tbody>\n",
       "</table>\n",
       "</div>"
      ],
      "text/plain": [
       "    Loan_ID  Gender Married Dependents Education Self_Employed  \\\n",
       "0  LP001528    Male      No          0  Graduate            No   \n",
       "1  LP002804  Female     Yes          0  Graduate            No   \n",
       "2  LP002945    Male     Yes          0  Graduate           Yes   \n",
       "\n",
       "   ApplicantIncome  CoapplicantIncome  LoanAmount  Loan_Amount_Term  \\\n",
       "0             6277                0.0       118.0             360.0   \n",
       "1             4180             2306.0       182.0             360.0   \n",
       "2             9963                0.0       180.0             360.0   \n",
       "\n",
       "   Credit_History Property_Area Loan_Status  \n",
       "0             0.0         Rural           N  \n",
       "1             1.0     Semiurban           Y  \n",
       "2             1.0         Rural           Y  "
      ]
     },
     "execution_count": 934,
     "metadata": {},
     "output_type": "execute_result"
    }
   ],
   "source": [
    "df_test.head(3)"
   ]
  },
  {
   "cell_type": "markdown",
   "metadata": {},
   "source": [
    "#### Data Sets Dimension Check"
   ]
  },
  {
   "cell_type": "code",
   "execution_count": 935,
   "metadata": {},
   "outputs": [
    {
     "name": "stdout",
     "output_type": "stream",
     "text": [
      "There are 491 rows and 13 columns of data in train set;\n",
      "There are 123 rows and 13 columns of data in test set;\n",
      "Train set takes 79.97%, test set takes 20.03%.\n"
     ]
    }
   ],
   "source": [
    "print(\"There are \" + str(df_train.shape[0]) + \" rows and \" + str(df_train.shape[1]) + \" columns of data in train set;\")\n",
    "print(\"There are \" + str(df_test.shape[0])  + \" rows and \" + str(df_test.shape[1])  + \" columns of data in test set;\")\n",
    "print(\"Train set takes %.2f%%, test set takes %.2f%%.\" \n",
    "      % (df_train.shape[0] / (df_train.shape[0] + df_test.shape[0]) * 100,\n",
    "         df_test.shape[0]  / (df_train.shape[0] + df_test.shape[0]) * 100))"
   ]
  },
  {
   "cell_type": "markdown",
   "metadata": {},
   "source": [
    "#### Attributes & Missing Data Check"
   ]
  },
  {
   "cell_type": "code",
   "execution_count": 936,
   "metadata": {},
   "outputs": [
    {
     "name": "stdout",
     "output_type": "stream",
     "text": [
      "<class 'pandas.core.frame.DataFrame'>\n",
      "RangeIndex: 491 entries, 0 to 490\n",
      "Data columns (total 13 columns):\n",
      "Loan_ID              491 non-null object\n",
      "Gender               480 non-null object\n",
      "Married              488 non-null object\n",
      "Dependents           483 non-null object\n",
      "Education            491 non-null object\n",
      "Self_Employed        464 non-null object\n",
      "ApplicantIncome      491 non-null int64\n",
      "CoapplicantIncome    491 non-null float64\n",
      "LoanAmount           471 non-null float64\n",
      "Loan_Amount_Term     479 non-null float64\n",
      "Credit_History       448 non-null float64\n",
      "Property_Area        491 non-null object\n",
      "Loan_Status          491 non-null object\n",
      "dtypes: float64(4), int64(1), object(8)\n",
      "memory usage: 49.9+ KB\n"
     ]
    }
   ],
   "source": [
    "df_train.info()"
   ]
  },
  {
   "cell_type": "code",
   "execution_count": 937,
   "metadata": {},
   "outputs": [
    {
     "name": "stdout",
     "output_type": "stream",
     "text": [
      "<class 'pandas.core.frame.DataFrame'>\n",
      "RangeIndex: 123 entries, 0 to 122\n",
      "Data columns (total 13 columns):\n",
      "Loan_ID              123 non-null object\n",
      "Gender               121 non-null object\n",
      "Married              123 non-null object\n",
      "Dependents           116 non-null object\n",
      "Education            123 non-null object\n",
      "Self_Employed        118 non-null object\n",
      "ApplicantIncome      123 non-null int64\n",
      "CoapplicantIncome    123 non-null float64\n",
      "LoanAmount           121 non-null float64\n",
      "Loan_Amount_Term     121 non-null float64\n",
      "Credit_History       116 non-null float64\n",
      "Property_Area        123 non-null object\n",
      "Loan_Status          123 non-null object\n",
      "dtypes: float64(4), int64(1), object(8)\n",
      "memory usage: 12.6+ KB\n"
     ]
    }
   ],
   "source": [
    "df_test.info()"
   ]
  },
  {
   "cell_type": "code",
   "execution_count": 938,
   "metadata": {},
   "outputs": [
    {
     "name": "stdout",
     "output_type": "stream",
     "text": [
      "There are 491 instances in train set, 123 instances in test set.\n",
      "Missing data are found in 7 out of 13 features in train set, 6 out 13 features in test set.\n",
      "Apart from 5 numerical features, the dtype of 8 features are object.\n",
      "After looking through the data sets, they should be categorical attributes.\n"
     ]
    }
   ],
   "source": [
    "print(\"There are 491 instances in train set, 123 instances in test set.\")\n",
    "print(\"Missing data are found in 7 out of 13 features in train set, 6 out 13 features in test set.\")\n",
    "print(\"Apart from 5 numerical features, the dtype of 8 features are object.\")\n",
    "print(\"After looking through the data sets, they should be categorical attributes.\")"
   ]
  },
  {
   "cell_type": "markdown",
   "metadata": {},
   "source": [
    "#### Categorical Attributes Exploration"
   ]
  },
  {
   "cell_type": "code",
   "execution_count": 939,
   "metadata": {},
   "outputs": [
    {
     "name": "stdout",
     "output_type": "stream",
     "text": [
      "1. Gender in Train Set & Test Set\n",
      "Male      393\n",
      "Female     87\n",
      "Name: Gender, dtype: int64\n",
      "Male      96\n",
      "Female    25\n",
      "Name: Gender, dtype: int64\n",
      "==========\n",
      "2. Married in Train Set & Test Set\n",
      "Yes    319\n",
      "No     169\n",
      "Name: Married, dtype: int64\n",
      "Yes    79\n",
      "No     44\n",
      "Name: Married, dtype: int64\n",
      "==========\n",
      "3. Dependents in Train Set & Test Set\n",
      "0     276\n",
      "1      85\n",
      "2      83\n",
      "3+     39\n",
      "Name: Dependents, dtype: int64\n",
      "0     69\n",
      "2     18\n",
      "1     17\n",
      "3+    12\n",
      "Name: Dependents, dtype: int64\n",
      "==========\n",
      "4. Education in Train Set & Test Set\n",
      "Graduate        380\n",
      "Not Graduate    111\n",
      "Name: Education, dtype: int64\n",
      "Graduate        100\n",
      "Not Graduate     23\n",
      "Name: Education, dtype: int64\n",
      "==========\n",
      "5. Self_Employed in Train Set & Test Set\n",
      "No     398\n",
      "Yes     66\n",
      "Name: Self_Employed, dtype: int64\n",
      "No     102\n",
      "Yes     16\n",
      "Name: Self_Employed, dtype: int64\n",
      "==========\n",
      "6. Property_Area in Train Set & Test Set\n",
      "Semiurban    184\n",
      "Urban        162\n",
      "Rural        145\n",
      "Name: Property_Area, dtype: int64\n",
      "Semiurban    49\n",
      "Urban        40\n",
      "Rural        34\n",
      "Name: Property_Area, dtype: int64\n",
      "==========\n",
      "7. Loan_Status in Train Set & Test Set\n",
      "Y    337\n",
      "N    154\n",
      "Name: Loan_Status, dtype: int64\n",
      "Y    85\n",
      "N    38\n",
      "Name: Loan_Status, dtype: int64\n"
     ]
    }
   ],
   "source": [
    "print(\"1. Gender in Train Set & Test Set\")\n",
    "print(df_train[\"Gender\"].value_counts())\n",
    "print(df_test[\"Gender\"].value_counts())\n",
    "print(\"==========\")\n",
    "print(\"2. Married in Train Set & Test Set\")\n",
    "print(df_train[\"Married\"].value_counts())\n",
    "print(df_test[\"Married\"].value_counts())\n",
    "print(\"==========\")\n",
    "print(\"3. Dependents in Train Set & Test Set\")\n",
    "print(df_train[\"Dependents\"].value_counts())\n",
    "print(df_test[\"Dependents\"].value_counts())\n",
    "print(\"==========\")\n",
    "print(\"4. Education in Train Set & Test Set\")\n",
    "print(df_train[\"Education\"].value_counts())\n",
    "print(df_test[\"Education\"].value_counts())\n",
    "print(\"==========\")\n",
    "print(\"5. Self_Employed in Train Set & Test Set\")\n",
    "print(df_train[\"Self_Employed\"].value_counts())\n",
    "print(df_test[\"Self_Employed\"].value_counts())\n",
    "print(\"==========\")\n",
    "print(\"6. Property_Area in Train Set & Test Set\")\n",
    "print(df_train[\"Property_Area\"].value_counts())\n",
    "print(df_test[\"Property_Area\"].value_counts())\n",
    "print(\"==========\")\n",
    "print(\"7. Loan_Status in Train Set & Test Set\")\n",
    "print(df_train[\"Loan_Status\"].value_counts())\n",
    "print(df_test[\"Loan_Status\"].value_counts())"
   ]
  },
  {
   "cell_type": "markdown",
   "metadata": {},
   "source": [
    "#### Numerical Attributes Exploration"
   ]
  },
  {
   "cell_type": "code",
   "execution_count": 940,
   "metadata": {},
   "outputs": [
    {
     "data": {
      "text/html": [
       "<div>\n",
       "<style scoped>\n",
       "    .dataframe tbody tr th:only-of-type {\n",
       "        vertical-align: middle;\n",
       "    }\n",
       "\n",
       "    .dataframe tbody tr th {\n",
       "        vertical-align: top;\n",
       "    }\n",
       "\n",
       "    .dataframe thead th {\n",
       "        text-align: right;\n",
       "    }\n",
       "</style>\n",
       "<table border=\"1\" class=\"dataframe\">\n",
       "  <thead>\n",
       "    <tr style=\"text-align: right;\">\n",
       "      <th></th>\n",
       "      <th>ApplicantIncome</th>\n",
       "      <th>CoapplicantIncome</th>\n",
       "      <th>LoanAmount</th>\n",
       "      <th>Loan_Amount_Term</th>\n",
       "      <th>Credit_History</th>\n",
       "    </tr>\n",
       "  </thead>\n",
       "  <tbody>\n",
       "    <tr>\n",
       "      <th>count</th>\n",
       "      <td>491.000000</td>\n",
       "      <td>491.000000</td>\n",
       "      <td>471.000000</td>\n",
       "      <td>479.000000</td>\n",
       "      <td>448.000000</td>\n",
       "    </tr>\n",
       "    <tr>\n",
       "      <th>mean</th>\n",
       "      <td>5529.997963</td>\n",
       "      <td>1569.537271</td>\n",
       "      <td>147.309979</td>\n",
       "      <td>341.286013</td>\n",
       "      <td>0.850446</td>\n",
       "    </tr>\n",
       "    <tr>\n",
       "      <th>std</th>\n",
       "      <td>6457.784318</td>\n",
       "      <td>2789.523475</td>\n",
       "      <td>87.096507</td>\n",
       "      <td>65.855043</td>\n",
       "      <td>0.357032</td>\n",
       "    </tr>\n",
       "    <tr>\n",
       "      <th>min</th>\n",
       "      <td>210.000000</td>\n",
       "      <td>0.000000</td>\n",
       "      <td>9.000000</td>\n",
       "      <td>12.000000</td>\n",
       "      <td>0.000000</td>\n",
       "    </tr>\n",
       "    <tr>\n",
       "      <th>25%</th>\n",
       "      <td>2906.000000</td>\n",
       "      <td>0.000000</td>\n",
       "      <td>100.000000</td>\n",
       "      <td>360.000000</td>\n",
       "      <td>1.000000</td>\n",
       "    </tr>\n",
       "    <tr>\n",
       "      <th>50%</th>\n",
       "      <td>3859.000000</td>\n",
       "      <td>1032.000000</td>\n",
       "      <td>128.000000</td>\n",
       "      <td>360.000000</td>\n",
       "      <td>1.000000</td>\n",
       "    </tr>\n",
       "    <tr>\n",
       "      <th>75%</th>\n",
       "      <td>5825.000000</td>\n",
       "      <td>2241.000000</td>\n",
       "      <td>168.000000</td>\n",
       "      <td>360.000000</td>\n",
       "      <td>1.000000</td>\n",
       "    </tr>\n",
       "    <tr>\n",
       "      <th>max</th>\n",
       "      <td>81000.000000</td>\n",
       "      <td>41667.000000</td>\n",
       "      <td>700.000000</td>\n",
       "      <td>480.000000</td>\n",
       "      <td>1.000000</td>\n",
       "    </tr>\n",
       "  </tbody>\n",
       "</table>\n",
       "</div>"
      ],
      "text/plain": [
       "       ApplicantIncome  CoapplicantIncome  LoanAmount  Loan_Amount_Term  \\\n",
       "count       491.000000         491.000000  471.000000        479.000000   \n",
       "mean       5529.997963        1569.537271  147.309979        341.286013   \n",
       "std        6457.784318        2789.523475   87.096507         65.855043   \n",
       "min         210.000000           0.000000    9.000000         12.000000   \n",
       "25%        2906.000000           0.000000  100.000000        360.000000   \n",
       "50%        3859.000000        1032.000000  128.000000        360.000000   \n",
       "75%        5825.000000        2241.000000  168.000000        360.000000   \n",
       "max       81000.000000       41667.000000  700.000000        480.000000   \n",
       "\n",
       "       Credit_History  \n",
       "count      448.000000  \n",
       "mean         0.850446  \n",
       "std          0.357032  \n",
       "min          0.000000  \n",
       "25%          1.000000  \n",
       "50%          1.000000  \n",
       "75%          1.000000  \n",
       "max          1.000000  "
      ]
     },
     "execution_count": 940,
     "metadata": {},
     "output_type": "execute_result"
    }
   ],
   "source": [
    "df_train.describe()"
   ]
  },
  {
   "cell_type": "code",
   "execution_count": 941,
   "metadata": {},
   "outputs": [
    {
     "data": {
      "text/html": [
       "<div>\n",
       "<style scoped>\n",
       "    .dataframe tbody tr th:only-of-type {\n",
       "        vertical-align: middle;\n",
       "    }\n",
       "\n",
       "    .dataframe tbody tr th {\n",
       "        vertical-align: top;\n",
       "    }\n",
       "\n",
       "    .dataframe thead th {\n",
       "        text-align: right;\n",
       "    }\n",
       "</style>\n",
       "<table border=\"1\" class=\"dataframe\">\n",
       "  <thead>\n",
       "    <tr style=\"text-align: right;\">\n",
       "      <th></th>\n",
       "      <th>ApplicantIncome</th>\n",
       "      <th>CoapplicantIncome</th>\n",
       "      <th>LoanAmount</th>\n",
       "      <th>Loan_Amount_Term</th>\n",
       "      <th>Credit_History</th>\n",
       "    </tr>\n",
       "  </thead>\n",
       "  <tbody>\n",
       "    <tr>\n",
       "      <th>count</th>\n",
       "      <td>123.000000</td>\n",
       "      <td>123.000000</td>\n",
       "      <td>121.000000</td>\n",
       "      <td>121.000000</td>\n",
       "      <td>116.000000</td>\n",
       "    </tr>\n",
       "    <tr>\n",
       "      <th>mean</th>\n",
       "      <td>4898.333333</td>\n",
       "      <td>1827.659512</td>\n",
       "      <td>142.917355</td>\n",
       "      <td>344.826446</td>\n",
       "      <td>0.810345</td>\n",
       "    </tr>\n",
       "    <tr>\n",
       "      <th>std</th>\n",
       "      <td>4438.739824</td>\n",
       "      <td>3423.180578</td>\n",
       "      <td>79.687053</td>\n",
       "      <td>62.310871</td>\n",
       "      <td>0.393729</td>\n",
       "    </tr>\n",
       "    <tr>\n",
       "      <th>min</th>\n",
       "      <td>150.000000</td>\n",
       "      <td>0.000000</td>\n",
       "      <td>25.000000</td>\n",
       "      <td>84.000000</td>\n",
       "      <td>0.000000</td>\n",
       "    </tr>\n",
       "    <tr>\n",
       "      <th>25%</th>\n",
       "      <td>2649.000000</td>\n",
       "      <td>0.000000</td>\n",
       "      <td>100.000000</td>\n",
       "      <td>360.000000</td>\n",
       "      <td>1.000000</td>\n",
       "    </tr>\n",
       "    <tr>\n",
       "      <th>50%</th>\n",
       "      <td>3620.000000</td>\n",
       "      <td>1483.000000</td>\n",
       "      <td>123.000000</td>\n",
       "      <td>360.000000</td>\n",
       "      <td>1.000000</td>\n",
       "    </tr>\n",
       "    <tr>\n",
       "      <th>75%</th>\n",
       "      <td>5509.500000</td>\n",
       "      <td>2479.000000</td>\n",
       "      <td>164.000000</td>\n",
       "      <td>360.000000</td>\n",
       "      <td>1.000000</td>\n",
       "    </tr>\n",
       "    <tr>\n",
       "      <th>max</th>\n",
       "      <td>39147.000000</td>\n",
       "      <td>33837.000000</td>\n",
       "      <td>500.000000</td>\n",
       "      <td>480.000000</td>\n",
       "      <td>1.000000</td>\n",
       "    </tr>\n",
       "  </tbody>\n",
       "</table>\n",
       "</div>"
      ],
      "text/plain": [
       "       ApplicantIncome  CoapplicantIncome  LoanAmount  Loan_Amount_Term  \\\n",
       "count       123.000000         123.000000  121.000000        121.000000   \n",
       "mean       4898.333333        1827.659512  142.917355        344.826446   \n",
       "std        4438.739824        3423.180578   79.687053         62.310871   \n",
       "min         150.000000           0.000000   25.000000         84.000000   \n",
       "25%        2649.000000           0.000000  100.000000        360.000000   \n",
       "50%        3620.000000        1483.000000  123.000000        360.000000   \n",
       "75%        5509.500000        2479.000000  164.000000        360.000000   \n",
       "max       39147.000000       33837.000000  500.000000        480.000000   \n",
       "\n",
       "       Credit_History  \n",
       "count      116.000000  \n",
       "mean         0.810345  \n",
       "std          0.393729  \n",
       "min          0.000000  \n",
       "25%          1.000000  \n",
       "50%          1.000000  \n",
       "75%          1.000000  \n",
       "max          1.000000  "
      ]
     },
     "execution_count": 941,
     "metadata": {},
     "output_type": "execute_result"
    }
   ],
   "source": [
    "df_test.describe()"
   ]
  },
  {
   "cell_type": "markdown",
   "metadata": {},
   "source": [
    "### 2. Visualisation"
   ]
  },
  {
   "cell_type": "code",
   "execution_count": 942,
   "metadata": {},
   "outputs": [],
   "source": [
    "def dependents_to_num(value):\n",
    "    if   value == '0':  return 0\n",
    "    elif value == '1':  return 1\n",
    "    elif value == '2':  return 2\n",
    "    elif value == '3+': return 3"
   ]
  },
  {
   "cell_type": "code",
   "execution_count": 943,
   "metadata": {},
   "outputs": [],
   "source": [
    "def property_area_to_num(value):\n",
    "    if   value == 'Rural':      return 0\n",
    "    elif value == 'Semiurban':  return 1\n",
    "    elif value == 'Urban':      return 2\n",
    "# larger number can be interpreted as more urbanised area the applicants live in"
   ]
  },
  {
   "cell_type": "markdown",
   "metadata": {},
   "source": [
    "#### Visualisation of Training Set"
   ]
  },
  {
   "cell_type": "code",
   "execution_count": 944,
   "metadata": {},
   "outputs": [
    {
     "data": {
      "image/png": "[encoded data removed]",
      "text/plain": [
       "<Figure size 1440x1080 with 12 Axes>"
      ]
     },
     "metadata": {
      "needs_background": "light"
     },
     "output_type": "display_data"
    }
   ],
   "source": [
    "# The categorical attributes are converted into numercical types for visualisation purpose, and may be useful\n",
    "# in a later stage.\n",
    "df_train_num = df_train.copy()\n",
    "df_train_num[\"Gender\"]        = df_train_num.Gender.apply(lambda x:        0 if x == \"Female\"       else 1)\n",
    "df_train_num[\"Married\"]       = df_train_num.Married.apply(lambda x:       0 if x == \"No\"           else 1)\n",
    "df_train_num[\"Dependents\"]    = df_train_num.Dependents.apply(lambda x:    dependents_to_num(x))\n",
    "df_train_num[\"Education\"]     = df_train_num.Education.apply(lambda x:     0 if x == \"Not Graduate\" else 1)\n",
    "df_train_num[\"Self_Employed\"] = df_train_num.Self_Employed.apply(lambda x: 0 if x == \"No\"           else 1)\n",
    "df_train_num[\"Property_Area\"] = df_train_num.Property_Area.apply(lambda x: property_area_to_num(x))\n",
    "df_train_num[\"Loan_Status\"]   = df_train_num.Loan_Status.apply(lambda x:   0 if x == \"N\"            else 1)\n",
    "df_train_num.hist(bins = 50, figsize = (20, 15), layout = (4, 3));"
   ]
  },
  {
   "cell_type": "markdown",
   "metadata": {},
   "source": [
    "#### Visualisation of Test Set"
   ]
  },
  {
   "cell_type": "code",
   "execution_count": 945,
   "metadata": {},
   "outputs": [
    {
     "data": {
      "image/png": "[encoded data removed]",
      "text/plain": [
       "<Figure size 1440x1080 with 12 Axes>"
      ]
     },
     "metadata": {
      "needs_background": "light"
     },
     "output_type": "display_data"
    }
   ],
   "source": [
    "df_test_num = df_test.copy()\n",
    "df_test_num[\"Gender\"]        = df_test_num.Gender.apply(lambda x:        0 if x == \"Female\"       else 1)\n",
    "df_test_num[\"Married\"]       = df_test_num.Married.apply(lambda x:       0 if x == \"No\"           else 1)\n",
    "df_test_num[\"Dependents\"]    = df_test_num.Dependents.apply(lambda x:    dependents_to_num(x))\n",
    "df_test_num[\"Education\"]     = df_test_num.Education.apply(lambda x:     0 if x == \"Not Graduate\" else 1)\n",
    "df_test_num[\"Self_Employed\"] = df_test_num.Self_Employed.apply(lambda x: 0 if x == \"No\"           else 1)\n",
    "df_test_num[\"Property_Area\"] = df_test_num.Property_Area.apply(lambda x: property_area_to_num(x))\n",
    "df_test_num[\"Loan_Status\"]   = df_test_num.Loan_Status.apply(lambda x:   0 if x == \"N\"            else 1)\n",
    "df_test_num.hist(bins = 50, figsize = (20, 15), layout = (4, 3));"
   ]
  },
  {
   "cell_type": "code",
   "execution_count": 946,
   "metadata": {},
   "outputs": [
    {
     "name": "stdout",
     "output_type": "stream",
     "text": [
      "The categorical attributes are converted into numercical types for visualisation purpose, and may be useful\n",
      "in a later stage.\n",
      "Feathure scaling should be considered due to the very different scales among attributes and the havey tails\n",
      "in several histograms.\n"
     ]
    }
   ],
   "source": [
    "print(\"The categorical attributes are converted into numercical types for visualisation purpose, and may be useful\")\n",
    "print(\"in a later stage.\")\n",
    "print(\"Feathure scaling should be considered due to the very different scales among attributes and the havey tails\")\n",
    "print(\"in several histograms.\")"
   ]
  },
  {
   "cell_type": "markdown",
   "metadata": {},
   "source": [
    "#### Initial Correlations Check (numerical)"
   ]
  },
  {
   "cell_type": "code",
   "execution_count": 947,
   "metadata": {},
   "outputs": [
    {
     "data": {
      "text/plain": [
       "Loan_Status          1.000000\n",
       "Credit_History       0.537914\n",
       "Education            0.085899\n",
       "Married              0.064618\n",
       "Property_Area        0.035185\n",
       "Dependents           0.025777\n",
       "Loan_Amount_Term     0.025708\n",
       "LoanAmount          -0.006558\n",
       "Self_Employed       -0.009309\n",
       "Gender              -0.014798\n",
       "ApplicantIncome     -0.015775\n",
       "CoapplicantIncome   -0.047198\n",
       "Name: Loan_Status, dtype: float64"
      ]
     },
     "execution_count": 947,
     "metadata": {},
     "output_type": "execute_result"
    }
   ],
   "source": [
    "correlation_matrix_train = df_train_num.corr()\n",
    "correlation_matrix_train[\"Loan_Status\"].sort_values(ascending = False)"
   ]
  },
  {
   "cell_type": "code",
   "execution_count": 948,
   "metadata": {},
   "outputs": [
    {
     "data": {
      "text/plain": [
       "Loan_Status          1.000000\n",
       "Credit_History       0.646258\n",
       "Married              0.198463\n",
       "Gender               0.143259\n",
       "Education            0.085485\n",
       "Self_Employed        0.069573\n",
       "ApplicantIncome      0.060873\n",
       "Property_Area        0.019404\n",
       "Dependents          -0.070366\n",
       "CoapplicantIncome   -0.100207\n",
       "LoanAmount          -0.169022\n",
       "Loan_Amount_Term    -0.217106\n",
       "Name: Loan_Status, dtype: float64"
      ]
     },
     "execution_count": 948,
     "metadata": {},
     "output_type": "execute_result"
    }
   ],
   "source": [
    "correlation_matrix_test = df_test_num.corr()\n",
    "correlation_matrix_test[\"Loan_Status\"].sort_values(ascending = False)"
   ]
  },
  {
   "cell_type": "markdown",
   "metadata": {},
   "source": [
    "#### Correlations Check (1-Hot)"
   ]
  },
  {
   "cell_type": "code",
   "execution_count": null,
   "metadata": {},
   "outputs": [],
   "source": []
  },
  {
   "cell_type": "code",
   "execution_count": null,
   "metadata": {},
   "outputs": [],
   "source": []
  },
  {
   "cell_type": "markdown",
   "metadata": {},
   "source": [
    "# 3. Data Preparation"
   ]
  },
  {
   "cell_type": "markdown",
   "metadata": {},
   "source": [
    "### 3.1 Missing Data Handling"
   ]
  },
  {
   "cell_type": "code",
   "execution_count": 949,
   "metadata": {},
   "outputs": [
    {
     "name": "stdout",
     "output_type": "stream",
     "text": [
      "There are 110 out of 491 instances in training set with missing data.\n",
      "There are 24 out of 123 instances in test set with missing data.\n",
      "Since most of the attributes (except for Loan_ID) contain important information in deciding whether the application\n",
      "can be approved, and most of the attributes are binary or categorical, filling with mean or zero may not be a good\n",
      "idea. So, the instances with incomplete information are removed from both train and test sets first.\n"
     ]
    }
   ],
   "source": [
    "print(\"There are \" + str(len(df_train[df_train.isnull().any(axis = 1)])) + \" out of \" + str(len(df_train)) + \" instances in training set with missing data.\")\n",
    "print(\"There are \" + str(len(df_test[df_test.isnull().any(axis = 1)])) + \" out of \" + str(len(df_test)) + \" instances in test set with missing data.\")\n",
    "print(\"Since most of the attributes (except for Loan_ID) contain important information in deciding whether the application\")\n",
    "print(\"can be approved, and most of the attributes are binary or categorical, filling with mean or zero may not be a good\");\n",
    "print(\"idea. So, the instances with incomplete information are removed from both train and test sets first.\")"
   ]
  },
  {
   "cell_type": "code",
   "execution_count": 950,
   "metadata": {},
   "outputs": [
    {
     "name": "stdout",
     "output_type": "stream",
     "text": [
      "There are 381 instances left in train set after removing missing-data instances;\n",
      "There are 99 instances left in test set after removing missing-data instances.\n"
     ]
    }
   ],
   "source": [
    "df_train = df_train.dropna()\n",
    "df_test  = df_test.dropna()\n",
    "df_train = df_train.reset_index(drop = True)\n",
    "df_test  = df_test.reset_index(drop = True)\n",
    "print(\"There are \" + str(len(df_train)) + \" instances left in train set after removing missing-data instances;\")\n",
    "print(\"There are \" + str(len(df_test))  + \" instances left in test set after removing missing-data instances.\")"
   ]
  },
  {
   "cell_type": "markdown",
   "metadata": {},
   "source": [
    "### 3.2 Outliers Handling"
   ]
  },
  {
   "cell_type": "code",
   "execution_count": 951,
   "metadata": {},
   "outputs": [
    {
     "data": {
      "image/png": "[encoded data removed]",
      "text/plain": [
       "<Figure size 1440x216 with 5 Axes>"
      ]
     },
     "metadata": {
      "needs_background": "light"
     },
     "output_type": "display_data"
    },
    {
     "data": {
      "image/png": "[encoded data removed]",
      "text/plain": [
       "<Figure size 1440x216 with 5 Axes>"
      ]
     },
     "metadata": {
      "needs_background": "light"
     },
     "output_type": "display_data"
    }
   ],
   "source": [
    "df_train.hist(bins = 50, figsize = (20, 3), layout = (1, 5));\n",
    "df_test.hist(bins = 50,  figsize = (20, 3), layout = (1, 5));"
   ]
  },
  {
   "cell_type": "code",
   "execution_count": 952,
   "metadata": {},
   "outputs": [
    {
     "name": "stdout",
     "output_type": "stream",
     "text": [
      "There are several outliers in Applicant_Income and Coapplicant_Income in both train and test set,\n",
      "especially the instance with Applicant_Income of 80,000 in training set, which is much larger than the\n",
      "largest Applicant_Income in test set, which could be considered to remove.\n"
     ]
    }
   ],
   "source": [
    "print(\"There are several outliers in Applicant_Income and Coapplicant_Income in both train and test set,\")\n",
    "print(\"especially the instance with Applicant_Income of 80,000 in training set, which is much larger than the\")\n",
    "print(\"largest Applicant_Income in test set, which could be considered to remove.\")"
   ]
  },
  {
   "cell_type": "code",
   "execution_count": 953,
   "metadata": {},
   "outputs": [
    {
     "data": {
      "text/html": [
       "<div>\n",
       "<style scoped>\n",
       "    .dataframe tbody tr th:only-of-type {\n",
       "        vertical-align: middle;\n",
       "    }\n",
       "\n",
       "    .dataframe tbody tr th {\n",
       "        vertical-align: top;\n",
       "    }\n",
       "\n",
       "    .dataframe thead th {\n",
       "        text-align: right;\n",
       "    }\n",
       "</style>\n",
       "<table border=\"1\" class=\"dataframe\">\n",
       "  <thead>\n",
       "    <tr style=\"text-align: right;\">\n",
       "      <th></th>\n",
       "      <th>Loan_ID</th>\n",
       "      <th>Gender</th>\n",
       "      <th>Married</th>\n",
       "      <th>Dependents</th>\n",
       "      <th>Education</th>\n",
       "      <th>Self_Employed</th>\n",
       "      <th>ApplicantIncome</th>\n",
       "      <th>CoapplicantIncome</th>\n",
       "      <th>LoanAmount</th>\n",
       "      <th>Loan_Amount_Term</th>\n",
       "      <th>Credit_History</th>\n",
       "      <th>Property_Area</th>\n",
       "      <th>Loan_Status</th>\n",
       "    </tr>\n",
       "  </thead>\n",
       "  <tbody>\n",
       "    <tr>\n",
       "      <th>94</th>\n",
       "      <td>LP002317</td>\n",
       "      <td>Male</td>\n",
       "      <td>Yes</td>\n",
       "      <td>3+</td>\n",
       "      <td>Graduate</td>\n",
       "      <td>No</td>\n",
       "      <td>81000</td>\n",
       "      <td>0.0</td>\n",
       "      <td>360.0</td>\n",
       "      <td>360.0</td>\n",
       "      <td>0.0</td>\n",
       "      <td>Rural</td>\n",
       "      <td>N</td>\n",
       "    </tr>\n",
       "  </tbody>\n",
       "</table>\n",
       "</div>"
      ],
      "text/plain": [
       "     Loan_ID Gender Married Dependents Education Self_Employed  \\\n",
       "94  LP002317   Male     Yes         3+  Graduate            No   \n",
       "\n",
       "    ApplicantIncome  CoapplicantIncome  LoanAmount  Loan_Amount_Term  \\\n",
       "94            81000                0.0       360.0             360.0   \n",
       "\n",
       "    Credit_History Property_Area Loan_Status  \n",
       "94             0.0         Rural           N  "
      ]
     },
     "execution_count": 953,
     "metadata": {},
     "output_type": "execute_result"
    }
   ],
   "source": [
    "df_train[df_train.ApplicantIncome > 80000]"
   ]
  },
  {
   "cell_type": "code",
   "execution_count": 954,
   "metadata": {},
   "outputs": [
    {
     "name": "stdout",
     "output_type": "stream",
     "text": [
      "Ths CoapplicantIncome of this instance is 0, so the total family income is 81,000.\n",
      "Looking into the test set, there are also 2 outliers in ApplicantIncome and CoapplicantIncome, and the sum of the\n",
      "two incomes are comparable to 81,000. So, we'd better confirm whether the 2 outliers in test set come from the same\n",
      "family.\n"
     ]
    }
   ],
   "source": [
    "print(\"Ths CoapplicantIncome of this instance is 0, so the total family income is 81,000.\")\n",
    "print(\"Looking into the test set, there are also 2 outliers in ApplicantIncome and CoapplicantIncome, and the sum of the\")\n",
    "print(\"two incomes are comparable to 81,000. So, we'd better confirm whether the 2 outliers in test set come from the same\")\n",
    "print(\"family.\")"
   ]
  },
  {
   "cell_type": "code",
   "execution_count": 955,
   "metadata": {},
   "outputs": [
    {
     "data": {
      "text/html": [
       "<div>\n",
       "<style scoped>\n",
       "    .dataframe tbody tr th:only-of-type {\n",
       "        vertical-align: middle;\n",
       "    }\n",
       "\n",
       "    .dataframe tbody tr th {\n",
       "        vertical-align: top;\n",
       "    }\n",
       "\n",
       "    .dataframe thead th {\n",
       "        text-align: right;\n",
       "    }\n",
       "</style>\n",
       "<table border=\"1\" class=\"dataframe\">\n",
       "  <thead>\n",
       "    <tr style=\"text-align: right;\">\n",
       "      <th></th>\n",
       "      <th>Loan_ID</th>\n",
       "      <th>Gender</th>\n",
       "      <th>Married</th>\n",
       "      <th>Dependents</th>\n",
       "      <th>Education</th>\n",
       "      <th>Self_Employed</th>\n",
       "      <th>ApplicantIncome</th>\n",
       "      <th>CoapplicantIncome</th>\n",
       "      <th>LoanAmount</th>\n",
       "      <th>Loan_Amount_Term</th>\n",
       "      <th>Credit_History</th>\n",
       "      <th>Property_Area</th>\n",
       "      <th>Loan_Status</th>\n",
       "    </tr>\n",
       "  </thead>\n",
       "  <tbody>\n",
       "    <tr>\n",
       "      <th>23</th>\n",
       "      <td>LP001640</td>\n",
       "      <td>Male</td>\n",
       "      <td>Yes</td>\n",
       "      <td>0</td>\n",
       "      <td>Graduate</td>\n",
       "      <td>Yes</td>\n",
       "      <td>39147</td>\n",
       "      <td>4750.0</td>\n",
       "      <td>120.0</td>\n",
       "      <td>360.0</td>\n",
       "      <td>1.0</td>\n",
       "      <td>Semiurban</td>\n",
       "      <td>Y</td>\n",
       "    </tr>\n",
       "  </tbody>\n",
       "</table>\n",
       "</div>"
      ],
      "text/plain": [
       "     Loan_ID Gender Married Dependents Education Self_Employed  \\\n",
       "23  LP001640   Male     Yes          0  Graduate           Yes   \n",
       "\n",
       "    ApplicantIncome  CoapplicantIncome  LoanAmount  Loan_Amount_Term  \\\n",
       "23            39147             4750.0       120.0             360.0   \n",
       "\n",
       "    Credit_History Property_Area Loan_Status  \n",
       "23             1.0     Semiurban           Y  "
      ]
     },
     "execution_count": 955,
     "metadata": {},
     "output_type": "execute_result"
    }
   ],
   "source": [
    "df_test[df_test.ApplicantIncome > 30000]"
   ]
  },
  {
   "cell_type": "code",
   "execution_count": 956,
   "metadata": {},
   "outputs": [
    {
     "data": {
      "text/html": [
       "<div>\n",
       "<style scoped>\n",
       "    .dataframe tbody tr th:only-of-type {\n",
       "        vertical-align: middle;\n",
       "    }\n",
       "\n",
       "    .dataframe tbody tr th {\n",
       "        vertical-align: top;\n",
       "    }\n",
       "\n",
       "    .dataframe thead th {\n",
       "        text-align: right;\n",
       "    }\n",
       "</style>\n",
       "<table border=\"1\" class=\"dataframe\">\n",
       "  <thead>\n",
       "    <tr style=\"text-align: right;\">\n",
       "      <th></th>\n",
       "      <th>Loan_ID</th>\n",
       "      <th>Gender</th>\n",
       "      <th>Married</th>\n",
       "      <th>Dependents</th>\n",
       "      <th>Education</th>\n",
       "      <th>Self_Employed</th>\n",
       "      <th>ApplicantIncome</th>\n",
       "      <th>CoapplicantIncome</th>\n",
       "      <th>LoanAmount</th>\n",
       "      <th>Loan_Amount_Term</th>\n",
       "      <th>Credit_History</th>\n",
       "      <th>Property_Area</th>\n",
       "      <th>Loan_Status</th>\n",
       "    </tr>\n",
       "  </thead>\n",
       "  <tbody>\n",
       "    <tr>\n",
       "      <th>19</th>\n",
       "      <td>LP002893</td>\n",
       "      <td>Male</td>\n",
       "      <td>No</td>\n",
       "      <td>0</td>\n",
       "      <td>Graduate</td>\n",
       "      <td>No</td>\n",
       "      <td>1836</td>\n",
       "      <td>33837.0</td>\n",
       "      <td>90.0</td>\n",
       "      <td>360.0</td>\n",
       "      <td>1.0</td>\n",
       "      <td>Urban</td>\n",
       "      <td>N</td>\n",
       "    </tr>\n",
       "  </tbody>\n",
       "</table>\n",
       "</div>"
      ],
      "text/plain": [
       "     Loan_ID Gender Married Dependents Education Self_Employed  \\\n",
       "19  LP002893   Male      No          0  Graduate            No   \n",
       "\n",
       "    ApplicantIncome  CoapplicantIncome  LoanAmount  Loan_Amount_Term  \\\n",
       "19             1836            33837.0        90.0             360.0   \n",
       "\n",
       "    Credit_History Property_Area Loan_Status  \n",
       "19             1.0         Urban           N  "
      ]
     },
     "execution_count": 956,
     "metadata": {},
     "output_type": "execute_result"
    }
   ],
   "source": [
    "df_test[df_test.CoapplicantIncome > 30000]"
   ]
  },
  {
   "cell_type": "code",
   "execution_count": 957,
   "metadata": {},
   "outputs": [
    {
     "name": "stdout",
     "output_type": "stream",
     "text": [
      "However, they are not from same family. So, the outlier in train set can be removed.\n"
     ]
    }
   ],
   "source": [
    "print(\"However, they are not from same family. So, the outlier in train set can be removed.\")"
   ]
  },
  {
   "cell_type": "code",
   "execution_count": 958,
   "metadata": {},
   "outputs": [
    {
     "name": "stdout",
     "output_type": "stream",
     "text": [
      "There are 380 instances left in train set after removing outlier.\n"
     ]
    }
   ],
   "source": [
    "df_train = df_train[df_train.ApplicantIncome < 80000]\n",
    "df_train = df_train.reset_index(drop = True)\n",
    "print(\"There are \" + str(len(df_train)) + \" instances left in train set after removing outlier.\")"
   ]
  },
  {
   "cell_type": "markdown",
   "metadata": {},
   "source": [
    "### 3.3 Categorical Attributes Handling"
   ]
  },
  {
   "cell_type": "markdown",
   "metadata": {},
   "source": [
    "There are 2 ways of handling the categorical attributes: one is to represent the information using number, such as using number 0 to represent \"No\", \"Not Graduate\", \"N\", \"Female\", \"Rural\", and number 1 to represent \"Yes\", \"Graduate\", \"Y\", \"Male\", \"Urban\", 0.5 to represent \"Semiurban\" (the attribute can be interpreted as urbanisation); the other way is to use 1-hot encoder."
   ]
  },
  {
   "cell_type": "markdown",
   "metadata": {},
   "source": [
    "#### 3.2.1 Categotical to Numeric"
   ]
  },
  {
   "cell_type": "code",
   "execution_count": 959,
   "metadata": {},
   "outputs": [
    {
     "data": {
      "text/plain": [
       "(380, 13)"
      ]
     },
     "execution_count": 959,
     "metadata": {},
     "output_type": "execute_result"
    }
   ],
   "source": [
    "df_train_num = df_train.copy()\n",
    "df_train_num[\"Gender\"]        = df_train_num.Gender.apply(lambda x:        0 if x == \"Female\"       else 1)\n",
    "df_train_num[\"Married\"]       = df_train_num.Married.apply(lambda x:       0 if x == \"No\"           else 1)\n",
    "df_train_num[\"Dependents\"]    = df_train_num.Dependents.apply(lambda x:    dependents_to_num(x))\n",
    "df_train_num[\"Education\"]     = df_train_num.Education.apply(lambda x:     0 if x == \"Not Graduate\" else 1)\n",
    "df_train_num[\"Self_Employed\"] = df_train_num.Self_Employed.apply(lambda x: 0 if x == \"No\"           else 1)\n",
    "df_train_num[\"Property_Area\"] = df_train_num.Property_Area.apply(lambda x: property_area_to_num(x))\n",
    "df_train_num[\"Loan_Status\"]   = df_train_num.Loan_Status.apply(lambda x:   0 if x == \"N\"            else 1)\n",
    "df_train_num.shape"
   ]
  },
  {
   "cell_type": "code",
   "execution_count": 960,
   "metadata": {},
   "outputs": [
    {
     "data": {
      "text/plain": [
       "(99, 13)"
      ]
     },
     "execution_count": 960,
     "metadata": {},
     "output_type": "execute_result"
    }
   ],
   "source": [
    "df_test_num = df_test.copy()\n",
    "df_test_num[\"Gender\"]        = df_test_num.Gender.apply(lambda x:        0 if x == \"Female\"       else 1)\n",
    "df_test_num[\"Married\"]       = df_test_num.Married.apply(lambda x:       0 if x == \"No\"           else 1)\n",
    "df_test_num[\"Dependents\"]    = df_test_num.Dependents.apply(lambda x:    dependents_to_num(x))\n",
    "df_test_num[\"Education\"]     = df_test_num.Education.apply(lambda x:     0 if x == \"Not Graduate\" else 1)\n",
    "df_test_num[\"Self_Employed\"] = df_test_num.Self_Employed.apply(lambda x: 0 if x == \"No\"           else 1)\n",
    "df_test_num[\"Property_Area\"] = df_test_num.Property_Area.apply(lambda x: property_area_to_num(x))\n",
    "df_test_num[\"Loan_Status\"]   = df_test_num.Loan_Status.apply(lambda x:   0 if x == \"N\"            else 1)\n",
    "df_test_num.shape"
   ]
  },
  {
   "cell_type": "code",
   "execution_count": 961,
   "metadata": {},
   "outputs": [
    {
     "data": {
      "text/plain": [
       "Loan_Status          1.000000\n",
       "Credit_History       0.632248\n",
       "Married              0.186917\n",
       "Gender               0.125154\n",
       "ApplicantIncome      0.054245\n",
       "Education            0.031083\n",
       "Property_Area       -0.002635\n",
       "Self_Employed       -0.003944\n",
       "Dependents          -0.054536\n",
       "CoapplicantIncome   -0.164685\n",
       "LoanAmount          -0.173927\n",
       "Loan_Amount_Term    -0.178704\n",
       "Name: Loan_Status, dtype: float64"
      ]
     },
     "execution_count": 961,
     "metadata": {},
     "output_type": "execute_result"
    }
   ],
   "source": [
    "correlation_matrix_train = df_test_num.corr()\n",
    "correlation_matrix_train[\"Loan_Status\"].sort_values(ascending = False)"
   ]
  },
  {
   "cell_type": "markdown",
   "metadata": {},
   "source": [
    "#### 3.2.2 1-Hot"
   ]
  },
  {
   "cell_type": "code",
   "execution_count": 962,
   "metadata": {},
   "outputs": [
    {
     "data": {
      "text/html": [
       "<div>\n",
       "<style scoped>\n",
       "    .dataframe tbody tr th:only-of-type {\n",
       "        vertical-align: middle;\n",
       "    }\n",
       "\n",
       "    .dataframe tbody tr th {\n",
       "        vertical-align: top;\n",
       "    }\n",
       "\n",
       "    .dataframe thead th {\n",
       "        text-align: right;\n",
       "    }\n",
       "</style>\n",
       "<table border=\"1\" class=\"dataframe\">\n",
       "  <thead>\n",
       "    <tr style=\"text-align: right;\">\n",
       "      <th></th>\n",
       "      <th>Gender</th>\n",
       "      <th>Married</th>\n",
       "      <th>Education</th>\n",
       "      <th>Self_Employed</th>\n",
       "      <th>Credit_History</th>\n",
       "      <th>Property_Area</th>\n",
       "      <th>Dependents</th>\n",
       "      <th>Loan_Amount_Term</th>\n",
       "    </tr>\n",
       "  </thead>\n",
       "  <tbody>\n",
       "    <tr>\n",
       "      <th>0</th>\n",
       "      <td>Male</td>\n",
       "      <td>No</td>\n",
       "      <td>Graduate</td>\n",
       "      <td>No</td>\n",
       "      <td>1.0</td>\n",
       "      <td>Urban</td>\n",
       "      <td>0</td>\n",
       "      <td>360.0</td>\n",
       "    </tr>\n",
       "    <tr>\n",
       "      <th>1</th>\n",
       "      <td>Male</td>\n",
       "      <td>Yes</td>\n",
       "      <td>Graduate</td>\n",
       "      <td>No</td>\n",
       "      <td>1.0</td>\n",
       "      <td>Semiurban</td>\n",
       "      <td>1</td>\n",
       "      <td>360.0</td>\n",
       "    </tr>\n",
       "    <tr>\n",
       "      <th>2</th>\n",
       "      <td>Male</td>\n",
       "      <td>Yes</td>\n",
       "      <td>Graduate</td>\n",
       "      <td>No</td>\n",
       "      <td>0.0</td>\n",
       "      <td>Rural</td>\n",
       "      <td>2</td>\n",
       "      <td>360.0</td>\n",
       "    </tr>\n",
       "    <tr>\n",
       "      <th>3</th>\n",
       "      <td>Male</td>\n",
       "      <td>Yes</td>\n",
       "      <td>Not Graduate</td>\n",
       "      <td>No</td>\n",
       "      <td>0.0</td>\n",
       "      <td>Rural</td>\n",
       "      <td>1</td>\n",
       "      <td>180.0</td>\n",
       "    </tr>\n",
       "    <tr>\n",
       "      <th>4</th>\n",
       "      <td>Male</td>\n",
       "      <td>Yes</td>\n",
       "      <td>Graduate</td>\n",
       "      <td>No</td>\n",
       "      <td>1.0</td>\n",
       "      <td>Semiurban</td>\n",
       "      <td>0</td>\n",
       "      <td>360.0</td>\n",
       "    </tr>\n",
       "    <tr>\n",
       "      <th>5</th>\n",
       "      <td>Male</td>\n",
       "      <td>Yes</td>\n",
       "      <td>Not Graduate</td>\n",
       "      <td>Yes</td>\n",
       "      <td>1.0</td>\n",
       "      <td>Semiurban</td>\n",
       "      <td>2</td>\n",
       "      <td>360.0</td>\n",
       "    </tr>\n",
       "    <tr>\n",
       "      <th>6</th>\n",
       "      <td>Male</td>\n",
       "      <td>Yes</td>\n",
       "      <td>Graduate</td>\n",
       "      <td>No</td>\n",
       "      <td>1.0</td>\n",
       "      <td>Semiurban</td>\n",
       "      <td>0</td>\n",
       "      <td>180.0</td>\n",
       "    </tr>\n",
       "    <tr>\n",
       "      <th>7</th>\n",
       "      <td>Female</td>\n",
       "      <td>No</td>\n",
       "      <td>Graduate</td>\n",
       "      <td>Yes</td>\n",
       "      <td>1.0</td>\n",
       "      <td>Rural</td>\n",
       "      <td>0</td>\n",
       "      <td>360.0</td>\n",
       "    </tr>\n",
       "    <tr>\n",
       "      <th>8</th>\n",
       "      <td>Male</td>\n",
       "      <td>Yes</td>\n",
       "      <td>Graduate</td>\n",
       "      <td>No</td>\n",
       "      <td>1.0</td>\n",
       "      <td>Semiurban</td>\n",
       "      <td>0</td>\n",
       "      <td>360.0</td>\n",
       "    </tr>\n",
       "    <tr>\n",
       "      <th>9</th>\n",
       "      <td>Male</td>\n",
       "      <td>No</td>\n",
       "      <td>Graduate</td>\n",
       "      <td>No</td>\n",
       "      <td>1.0</td>\n",
       "      <td>Semiurban</td>\n",
       "      <td>1</td>\n",
       "      <td>360.0</td>\n",
       "    </tr>\n",
       "  </tbody>\n",
       "</table>\n",
       "</div>"
      ],
      "text/plain": [
       "   Gender Married     Education Self_Employed  Credit_History Property_Area  \\\n",
       "0    Male      No      Graduate            No             1.0         Urban   \n",
       "1    Male     Yes      Graduate            No             1.0     Semiurban   \n",
       "2    Male     Yes      Graduate            No             0.0         Rural   \n",
       "3    Male     Yes  Not Graduate            No             0.0         Rural   \n",
       "4    Male     Yes      Graduate            No             1.0     Semiurban   \n",
       "5    Male     Yes  Not Graduate           Yes             1.0     Semiurban   \n",
       "6    Male     Yes      Graduate            No             1.0     Semiurban   \n",
       "7  Female      No      Graduate           Yes             1.0         Rural   \n",
       "8    Male     Yes      Graduate            No             1.0     Semiurban   \n",
       "9    Male      No      Graduate            No             1.0     Semiurban   \n",
       "\n",
       "  Dependents  Loan_Amount_Term  \n",
       "0          0             360.0  \n",
       "1          1             360.0  \n",
       "2          2             360.0  \n",
       "3          1             180.0  \n",
       "4          0             360.0  \n",
       "5          2             360.0  \n",
       "6          0             180.0  \n",
       "7          0             360.0  \n",
       "8          0             360.0  \n",
       "9          1             360.0  "
      ]
     },
     "execution_count": 962,
     "metadata": {},
     "output_type": "execute_result"
    }
   ],
   "source": [
    "df_train_cat = df_train[[\"Gender\", \"Married\", \"Education\", \"Self_Employed\", \"Credit_History\", \"Property_Area\", \"Dependents\", \"Loan_Amount_Term\"]]\n",
    "# df_train_cat = df_train[[\"Gender\", \"Married\", \"Education\", \"Self_Employed\", \"Credit_History\", \"Property_Area\", \"Dependents\"]]\n",
    "df_train_cat.head(10)"
   ]
  },
  {
   "cell_type": "code",
   "execution_count": 963,
   "metadata": {},
   "outputs": [
    {
     "name": "stdout",
     "output_type": "stream",
     "text": [
      "<class 'numpy.ndarray'>\n",
      "(380, 26)\n",
      "[array(['Female', 'Male'], dtype=object), array(['No', 'Yes'], dtype=object), array(['Graduate', 'Not Graduate'], dtype=object), array(['No', 'Yes'], dtype=object), array([0.0, 1.0], dtype=object), array(['Rural', 'Semiurban', 'Urban'], dtype=object), array(['0', '1', '2', '3+'], dtype=object), array([36.0, 60.0, 84.0, 120.0, 180.0, 240.0, 300.0, 360.0, 480.0],\n",
      "      dtype=object)]\n"
     ]
    }
   ],
   "source": [
    "cat_encoder    = OneHotEncoder(sparse=False)\n",
    "train_cat_1hot = cat_encoder.fit_transform(df_train_cat)\n",
    "print(type(train_cat_1hot))\n",
    "print(train_cat_1hot.shape)\n",
    "print(cat_encoder.categories_)"
   ]
  },
  {
   "cell_type": "code",
   "execution_count": 964,
   "metadata": {},
   "outputs": [
    {
     "name": "stdout",
     "output_type": "stream",
     "text": [
      "(380, 5)\n",
      "(380, 26)\n"
     ]
    },
    {
     "data": {
      "text/plain": [
       "Loan_Status_1hot       1.000000\n",
       "With_Credit_History    0.497443\n",
       "Semiurban              0.173704\n",
       "360_Terms              0.140846\n",
       "Married                0.096213\n",
       "Graduate               0.079741\n",
       "2_Dependents           0.071087\n",
       "Male                   0.050428\n",
       "120_Terms              0.048516\n",
       "60_Terms               0.048516\n",
       "Not_Self_Employed      0.044126\n",
       "3+_Dependents          0.026148\n",
       "CoapplicantIncome     -0.005218\n",
       "ApplicantIncome       -0.017680\n",
       "1_Dependent           -0.019722\n",
       "84_Terms              -0.030271\n",
       "240_Terms             -0.030271\n",
       "LoanAmount            -0.032891\n",
       "Self_Employed         -0.044126\n",
       "180_Terms             -0.044468\n",
       "Female                -0.050428\n",
       "0_Dependent           -0.055237\n",
       "Urban                 -0.061966\n",
       "Not_Graduate          -0.079741\n",
       "Not_Married           -0.096213\n",
       "300_Terms             -0.100737\n",
       "36_Terms              -0.109057\n",
       "480_Terms             -0.121050\n",
       "Rural                 -0.123154\n",
       "No_Credit_History     -0.497443\n",
       "Name: Loan_Status_1hot, dtype: float64"
      ]
     },
     "execution_count": 964,
     "metadata": {},
     "output_type": "execute_result"
    }
   ],
   "source": [
    "#df_train_1hot = pd.DataFrame(train_cat_1hot, columns = list(housing.columns)+[\"rooms_per_household\", \"population_per_household\"])\n",
    "df_train_1hot = df_train[[\"Loan_ID\", \"ApplicantIncome\", \"CoapplicantIncome\", \"LoanAmount\", \"Loan_Status\"]]\n",
    "print(df_train_1hot.shape)\n",
    "print(train_cat_1hot.shape)\n",
    "df_train_1hot = df_train_1hot.join(\n",
    "    pd.DataFrame(train_cat_1hot, columns = [\"Female\",             \"Male\", \n",
    "                                            \"Not_Married\",        \"Married\",\n",
    "                                            \"Graduate\",           \"Not_Graduate\",\n",
    "                                            \"Not_Self_Employed\",  \"Self_Employed\",\n",
    "                                            \"No_Credit_History\",  \"With_Credit_History\",\n",
    "                                            \"Rural\", \"Semiurban\", \"Urban\",\n",
    "                                            \"0_Dependent\", \"1_Dependent\", \"2_Dependents\", \"3+_Dependents\",\n",
    "                                            \"36_Terms\",    \"60_Terms\",    \"84_Terms\",     \"120_Terms\",   \"180_Terms\", \n",
    "                                            \"240_Terms\",   \"300_Terms\",   \"360_Terms\",    \"480_Terms\"]))\n",
    "\n",
    "df_train_1hot[\"Loan_Status_1hot\"] = df_train_1hot.Loan_Status.apply(lambda x: 1 if x == \"Y\" else 0)\n",
    "#df_train_1hot.tail(10)\n",
    "correlation_matrix_train = df_train_1hot.corr()\n",
    "correlation_matrix_train[\"Loan_Status_1hot\"].sort_values(ascending = False)"
   ]
  },
  {
   "cell_type": "markdown",
   "metadata": {},
   "source": [
    "### 3.4 Feature Selection & Egineering"
   ]
  },
  {
   "cell_type": "markdown",
   "metadata": {},
   "source": [
    "There are several numerical attributes which could be selected for feature engineering, they are:\n",
    "    1. Number of Dependents\n",
    "    2. Applicant Income\n",
    "    3. Co-applicant Income\n",
    "    4. Loan Amount\n",
    "    5. Loan Term\n",
    "\n",
    "There are some new feature could be generated which could affect the application result:\n",
    "    1. Family Income            = Applicant Income + Co-applicant Income\n",
    "    2. Individual Income        = (Applicant Income + Co-applicant Income) / (2 + Number of Dependents)\n",
    "    3. Loan Amount/Income Ratio = Loan Amount / (Applicant Income + Co-applicant Income)\n",
    "    4. Loan Term/Income Ratio   = Loan Term / (Applicant Income + Co-applicant Income)\n",
    "    5. ..."
   ]
  },
  {
   "cell_type": "code",
   "execution_count": 965,
   "metadata": {},
   "outputs": [
    {
     "name": "stdout",
     "output_type": "stream",
     "text": [
      "After adding 6 features, the shape of df_num becomes (479, 18)\n"
     ]
    },
    {
     "data": {
      "text/plain": [
       "Loan_Status          1.000000\n",
       "Credit_History       0.526276\n",
       "Married              0.114960\n",
       "Education            0.070194\n",
       "Gender               0.066135\n",
       "Dependents           0.042555\n",
       "Property_Area        0.027350\n",
       "ApplicantIncome     -0.001752\n",
       "Loan_Amount_Term    -0.006953\n",
       "Family_Income       -0.028773\n",
       "Self_Employed       -0.036054\n",
       "CoapplicantIncome   -0.051049\n",
       "Individual_Income   -0.054745\n",
       "LoanAmount          -0.064013\n",
       "*multi              -0.067958\n",
       "Loan_Term_Ratio     -0.072035\n",
       "*div                -0.072035\n",
       "Loan_Income_Ratio   -0.091020\n",
       "Name: Loan_Status, dtype: float64"
      ]
     },
     "execution_count": 965,
     "metadata": {},
     "output_type": "execute_result"
    }
   ],
   "source": [
    "# Set Loan_ID as index of the 2 DataFrames\n",
    "df_train_num.set_index('Loan_ID', inplace = True)\n",
    "df_test_num.set_index('Loan_ID', inplace = True)\n",
    "\n",
    "# Combine the train set and test set first, to evaluate the coorelation between the target Loan_Status and new features\n",
    "df_num = df_train_num.append(df_test_num)#, ignore_index = True)\n",
    "\n",
    "# Adding new features\n",
    "df_num[\"Family_Income\"]       = df_num.ApplicantIncome   + df_num.CoapplicantIncome\n",
    "df_num[\"Individual_Income\"]   = df_num[\"Family_Income\"]  / (2 + df_num.Dependents)\n",
    "df_num[\"Loan_Income_Ratio\"]   = df_num.LoanAmount        / df_num[\"Family_Income\"]\n",
    "df_num[\"Loan_Term_Ratio\"]     = df_num.LoanAmount        / df_num.Loan_Amount_Term\n",
    "#df_num[\"*Inteseting_Ratio\"]     = df_num.CoapplicantIncome / df_num.Dependents\n",
    "#df_num[\"*Inteseting_Ratio+1\"]   = df_num.CoapplicantIncome / (df_num.Dependents + 1)\n",
    "#df_num[\"*Inteseting_Ratio+2\"]   = df_num.CoapplicantIncome / (df_num.Dependents + 2)\n",
    "df_num[\"*multi\"]              = df_num.LoanAmount        * df_num.Loan_Amount_Term\n",
    "df_num[\"*div\"]                = df_num.LoanAmount        / df_num.Loan_Amount_Term\n",
    "print(\"After adding 6 features, the shape of df_num becomes \" + str(df_num.shape))\n",
    "\n",
    "correlation_matrix = df_num.corr()\n",
    "correlation_matrix[\"Loan_Status\"].sort_values(ascending = False)"
   ]
  },
  {
   "cell_type": "code",
   "execution_count": 966,
   "metadata": {},
   "outputs": [
    {
     "name": "stdout",
     "output_type": "stream",
     "text": [
      "After adding 6 features, the shape of df_train_num becomes (380, 18)\n",
      "After adding 6 features, the shape of df_test_num becomes (99, 18)\n"
     ]
    }
   ],
   "source": [
    "# After confiriming what new features to be added, now add them to train & test sets seperately\n",
    "\n",
    "for df in [df_train_num, df_test_num]:\n",
    "    # Adding new features\n",
    "    df[\"Family_Income\"]       = df.ApplicantIncome   + df.CoapplicantIncome\n",
    "    df[\"Individual_Income\"]   = df[\"Family_Income\"]  / (2 + df.Dependents)\n",
    "    df[\"Loan_Income_Ratio\"]   = df.LoanAmount        / df[\"Family_Income\"]\n",
    "    df[\"Loan_Term_Ratio\"]     = df.LoanAmount        / df.Loan_Amount_Term\n",
    "    df[\"*multi\"]              = df.LoanAmount        * df.Loan_Amount_Term\n",
    "    df[\"*div\"]                = df.LoanAmount        / df.Loan_Amount_Term\n",
    "    \n",
    "print(\"After adding 6 features, the shape of df_train_num becomes \" + str(df_train_num.shape))\n",
    "print(\"After adding 6 features, the shape of df_test_num becomes \"  + str(df_test_num.shape))"
   ]
  },
  {
   "cell_type": "code",
   "execution_count": null,
   "metadata": {},
   "outputs": [],
   "source": []
  },
  {
   "cell_type": "code",
   "execution_count": null,
   "metadata": {},
   "outputs": [],
   "source": []
  },
  {
   "cell_type": "code",
   "execution_count": 968,
   "metadata": {},
   "outputs": [],
   "source": [
    "# seperate the data and label for train & test set\n",
    "X_train_num = df_train_num.drop(\"Loan_Status\", axis = 1) \n",
    "y_train_num = df_train_num[\"Loan_Status\"].copy()\n",
    "X_test_num  = df_test_num.drop(\"Loan_Status\",  axis = 1) \n",
    "y_test_num  = df_test_num[\"Loan_Status\"].copy()"
   ]
  },
  {
   "cell_type": "code",
   "execution_count": null,
   "metadata": {},
   "outputs": [],
   "source": []
  },
  {
   "cell_type": "code",
   "execution_count": null,
   "metadata": {},
   "outputs": [],
   "source": []
  },
  {
   "cell_type": "code",
   "execution_count": null,
   "metadata": {},
   "outputs": [],
   "source": []
  },
  {
   "cell_type": "code",
   "execution_count": 918,
   "metadata": {},
   "outputs": [
    {
     "name": "stdout",
     "output_type": "stream",
     "text": [
      "(380, 17)\n"
     ]
    },
    {
     "name": "stderr",
     "output_type": "stream",
     "text": [
      "/Users/MacPro/anaconda3/lib/python3.7/site-packages/sklearn/preprocessing/data.py:323: DataConversionWarning: Data with input dtype int64, float64 were all converted to float64 by MinMaxScaler.\n",
      "  return self.partial_fit(X, y)\n"
     ]
    },
    {
     "data": {
      "text/html": [
       "<div>\n",
       "<style scoped>\n",
       "    .dataframe tbody tr th:only-of-type {\n",
       "        vertical-align: middle;\n",
       "    }\n",
       "\n",
       "    .dataframe tbody tr th {\n",
       "        vertical-align: top;\n",
       "    }\n",
       "\n",
       "    .dataframe thead th {\n",
       "        text-align: right;\n",
       "    }\n",
       "</style>\n",
       "<table border=\"1\" class=\"dataframe\">\n",
       "  <thead>\n",
       "    <tr style=\"text-align: right;\">\n",
       "      <th></th>\n",
       "      <th>Gender</th>\n",
       "      <th>Married</th>\n",
       "      <th>Dependents</th>\n",
       "      <th>Education</th>\n",
       "      <th>Self_Employed</th>\n",
       "      <th>ApplicantIncome</th>\n",
       "      <th>CoapplicantIncome</th>\n",
       "      <th>LoanAmount</th>\n",
       "      <th>Loan_Amount_Term</th>\n",
       "      <th>Credit_History</th>\n",
       "      <th>Property_Area</th>\n",
       "      <th>Family_Income</th>\n",
       "      <th>Individual_Income</th>\n",
       "      <th>Loan_Income_Ratio</th>\n",
       "      <th>Loan_Term_Ratio</th>\n",
       "      <th>*multi</th>\n",
       "      <th>*div</th>\n",
       "    </tr>\n",
       "    <tr>\n",
       "      <th>Loan_ID</th>\n",
       "      <th></th>\n",
       "      <th></th>\n",
       "      <th></th>\n",
       "      <th></th>\n",
       "      <th></th>\n",
       "      <th></th>\n",
       "      <th></th>\n",
       "      <th></th>\n",
       "      <th></th>\n",
       "      <th></th>\n",
       "      <th></th>\n",
       "      <th></th>\n",
       "      <th></th>\n",
       "      <th></th>\n",
       "      <th></th>\n",
       "      <th></th>\n",
       "      <th></th>\n",
       "    </tr>\n",
       "  </thead>\n",
       "  <tbody>\n",
       "    <tr>\n",
       "      <th>LP001535</th>\n",
       "      <td>1.0</td>\n",
       "      <td>0.0</td>\n",
       "      <td>0.000000</td>\n",
       "      <td>1.0</td>\n",
       "      <td>0.0</td>\n",
       "      <td>0.057796</td>\n",
       "      <td>0.0000</td>\n",
       "      <td>0.069374</td>\n",
       "      <td>0.72973</td>\n",
       "      <td>1.0</td>\n",
       "      <td>1.0</td>\n",
       "      <td>0.046995</td>\n",
       "      <td>0.088441</td>\n",
       "      <td>0.154959</td>\n",
       "      <td>0.026606</td>\n",
       "      <td>0.074593</td>\n",
       "      <td>0.026606</td>\n",
       "    </tr>\n",
       "    <tr>\n",
       "      <th>LP001792</th>\n",
       "      <td>1.0</td>\n",
       "      <td>1.0</td>\n",
       "      <td>0.333333</td>\n",
       "      <td>1.0</td>\n",
       "      <td>0.0</td>\n",
       "      <td>0.059360</td>\n",
       "      <td>0.0000</td>\n",
       "      <td>0.147208</td>\n",
       "      <td>0.72973</td>\n",
       "      <td>1.0</td>\n",
       "      <td>0.5</td>\n",
       "      <td>0.048577</td>\n",
       "      <td>0.044970</td>\n",
       "      <td>0.325528</td>\n",
       "      <td>0.056457</td>\n",
       "      <td>0.151991</td>\n",
       "      <td>0.056457</td>\n",
       "    </tr>\n",
       "    <tr>\n",
       "      <th>LP002443</th>\n",
       "      <td>1.0</td>\n",
       "      <td>1.0</td>\n",
       "      <td>0.666667</td>\n",
       "      <td>1.0</td>\n",
       "      <td>0.0</td>\n",
       "      <td>0.060002</td>\n",
       "      <td>0.0855</td>\n",
       "      <td>0.238579</td>\n",
       "      <td>0.72973</td>\n",
       "      <td>0.0</td>\n",
       "      <td>0.0</td>\n",
       "      <td>0.093576</td>\n",
       "      <td>0.058086</td>\n",
       "      <td>0.334860</td>\n",
       "      <td>0.091499</td>\n",
       "      <td>0.242849</td>\n",
       "      <td>0.091499</td>\n",
       "    </tr>\n",
       "  </tbody>\n",
       "</table>\n",
       "</div>"
      ],
      "text/plain": [
       "          Gender  Married  Dependents  Education  Self_Employed  \\\n",
       "Loan_ID                                                           \n",
       "LP001535     1.0      0.0    0.000000        1.0            0.0   \n",
       "LP001792     1.0      1.0    0.333333        1.0            0.0   \n",
       "LP002443     1.0      1.0    0.666667        1.0            0.0   \n",
       "\n",
       "          ApplicantIncome  CoapplicantIncome  LoanAmount  Loan_Amount_Term  \\\n",
       "Loan_ID                                                                      \n",
       "LP001535         0.057796             0.0000    0.069374           0.72973   \n",
       "LP001792         0.059360             0.0000    0.147208           0.72973   \n",
       "LP002443         0.060002             0.0855    0.238579           0.72973   \n",
       "\n",
       "          Credit_History  Property_Area  Family_Income  Individual_Income  \\\n",
       "Loan_ID                                                                     \n",
       "LP001535             1.0            1.0       0.046995           0.088441   \n",
       "LP001792             1.0            0.5       0.048577           0.044970   \n",
       "LP002443             0.0            0.0       0.093576           0.058086   \n",
       "\n",
       "          Loan_Income_Ratio  Loan_Term_Ratio    *multi      *div  \n",
       "Loan_ID                                                           \n",
       "LP001535           0.154959         0.026606  0.074593  0.026606  \n",
       "LP001792           0.325528         0.056457  0.151991  0.056457  \n",
       "LP002443           0.334860         0.091499  0.242849  0.091499  "
      ]
     },
     "execution_count": 918,
     "metadata": {},
     "output_type": "execute_result"
    }
   ],
   "source": [
    "num_pipeline = Pipeline([\n",
    "        ('std_scaler',    MinMaxScaler()),\n",
    "        #('std_scaler',    StandardScaler()),\n",
    "    ])\n",
    "\n",
    "X_train_num_tr = num_pipeline.fit_transform(X_train_num)\n",
    "print(X_train_num_tr.shape) # (380, 17)\n",
    "X_train_num_scaled = pd.DataFrame(X_train_num_tr, index = X_train_num.index, columns = X_train_num.columns)\n",
    "X_train_num_scaled.head(3)"
   ]
  },
  {
   "cell_type": "code",
   "execution_count": 919,
   "metadata": {},
   "outputs": [
    {
     "name": "stdout",
     "output_type": "stream",
     "text": [
      "(99, 17)\n"
     ]
    },
    {
     "name": "stderr",
     "output_type": "stream",
     "text": [
      "/Users/MacPro/anaconda3/lib/python3.7/site-packages/sklearn/preprocessing/data.py:323: DataConversionWarning: Data with input dtype int64, float64 were all converted to float64 by MinMaxScaler.\n",
      "  return self.partial_fit(X, y)\n"
     ]
    },
    {
     "data": {
      "text/html": [
       "<div>\n",
       "<style scoped>\n",
       "    .dataframe tbody tr th:only-of-type {\n",
       "        vertical-align: middle;\n",
       "    }\n",
       "\n",
       "    .dataframe tbody tr th {\n",
       "        vertical-align: top;\n",
       "    }\n",
       "\n",
       "    .dataframe thead th {\n",
       "        text-align: right;\n",
       "    }\n",
       "</style>\n",
       "<table border=\"1\" class=\"dataframe\">\n",
       "  <thead>\n",
       "    <tr style=\"text-align: right;\">\n",
       "      <th></th>\n",
       "      <th>Gender</th>\n",
       "      <th>Married</th>\n",
       "      <th>Dependents</th>\n",
       "      <th>Education</th>\n",
       "      <th>Self_Employed</th>\n",
       "      <th>ApplicantIncome</th>\n",
       "      <th>CoapplicantIncome</th>\n",
       "      <th>LoanAmount</th>\n",
       "      <th>Loan_Amount_Term</th>\n",
       "      <th>Credit_History</th>\n",
       "      <th>Property_Area</th>\n",
       "      <th>Family_Income</th>\n",
       "      <th>Individual_Income</th>\n",
       "      <th>Loan_Income_Ratio</th>\n",
       "      <th>Loan_Term_Ratio</th>\n",
       "      <th>*multi</th>\n",
       "      <th>*div</th>\n",
       "    </tr>\n",
       "    <tr>\n",
       "      <th>Loan_ID</th>\n",
       "      <th></th>\n",
       "      <th></th>\n",
       "      <th></th>\n",
       "      <th></th>\n",
       "      <th></th>\n",
       "      <th></th>\n",
       "      <th></th>\n",
       "      <th></th>\n",
       "      <th></th>\n",
       "      <th></th>\n",
       "      <th></th>\n",
       "      <th></th>\n",
       "      <th></th>\n",
       "      <th></th>\n",
       "      <th></th>\n",
       "      <th></th>\n",
       "      <th></th>\n",
       "    </tr>\n",
       "  </thead>\n",
       "  <tbody>\n",
       "    <tr>\n",
       "      <th>LP001528</th>\n",
       "      <td>1.0</td>\n",
       "      <td>0.0</td>\n",
       "      <td>0.0</td>\n",
       "      <td>1.0</td>\n",
       "      <td>0.0</td>\n",
       "      <td>0.157115</td>\n",
       "      <td>0.00000</td>\n",
       "      <td>0.195789</td>\n",
       "      <td>0.69697</td>\n",
       "      <td>0.0</td>\n",
       "      <td>0.0</td>\n",
       "      <td>0.103154</td>\n",
       "      <td>0.120134</td>\n",
       "      <td>0.243987</td>\n",
       "      <td>0.187234</td>\n",
       "      <td>0.223051</td>\n",
       "      <td>0.187234</td>\n",
       "    </tr>\n",
       "    <tr>\n",
       "      <th>LP002804</th>\n",
       "      <td>0.0</td>\n",
       "      <td>1.0</td>\n",
       "      <td>0.0</td>\n",
       "      <td>1.0</td>\n",
       "      <td>0.0</td>\n",
       "      <td>0.103341</td>\n",
       "      <td>0.06815</td>\n",
       "      <td>0.330526</td>\n",
       "      <td>0.69697</td>\n",
       "      <td>1.0</td>\n",
       "      <td>0.5</td>\n",
       "      <td>0.108136</td>\n",
       "      <td>0.125022</td>\n",
       "      <td>0.382826</td>\n",
       "      <td>0.323404</td>\n",
       "      <td>0.353220</td>\n",
       "      <td>0.323404</td>\n",
       "    </tr>\n",
       "    <tr>\n",
       "      <th>LP002945</th>\n",
       "      <td>1.0</td>\n",
       "      <td>1.0</td>\n",
       "      <td>0.0</td>\n",
       "      <td>1.0</td>\n",
       "      <td>1.0</td>\n",
       "      <td>0.251635</td>\n",
       "      <td>0.00000</td>\n",
       "      <td>0.326316</td>\n",
       "      <td>0.69697</td>\n",
       "      <td>1.0</td>\n",
       "      <td>0.0</td>\n",
       "      <td>0.191027</td>\n",
       "      <td>0.206343</td>\n",
       "      <td>0.233015</td>\n",
       "      <td>0.319149</td>\n",
       "      <td>0.349153</td>\n",
       "      <td>0.319149</td>\n",
       "    </tr>\n",
       "  </tbody>\n",
       "</table>\n",
       "</div>"
      ],
      "text/plain": [
       "          Gender  Married  Dependents  Education  Self_Employed  \\\n",
       "Loan_ID                                                           \n",
       "LP001528     1.0      0.0         0.0        1.0            0.0   \n",
       "LP002804     0.0      1.0         0.0        1.0            0.0   \n",
       "LP002945     1.0      1.0         0.0        1.0            1.0   \n",
       "\n",
       "          ApplicantIncome  CoapplicantIncome  LoanAmount  Loan_Amount_Term  \\\n",
       "Loan_ID                                                                      \n",
       "LP001528         0.157115            0.00000    0.195789           0.69697   \n",
       "LP002804         0.103341            0.06815    0.330526           0.69697   \n",
       "LP002945         0.251635            0.00000    0.326316           0.69697   \n",
       "\n",
       "          Credit_History  Property_Area  Family_Income  Individual_Income  \\\n",
       "Loan_ID                                                                     \n",
       "LP001528             0.0            0.0       0.103154           0.120134   \n",
       "LP002804             1.0            0.5       0.108136           0.125022   \n",
       "LP002945             1.0            0.0       0.191027           0.206343   \n",
       "\n",
       "          Loan_Income_Ratio  Loan_Term_Ratio    *multi      *div  \n",
       "Loan_ID                                                           \n",
       "LP001528           0.243987         0.187234  0.223051  0.187234  \n",
       "LP002804           0.382826         0.323404  0.353220  0.323404  \n",
       "LP002945           0.233015         0.319149  0.349153  0.319149  "
      ]
     },
     "execution_count": 919,
     "metadata": {},
     "output_type": "execute_result"
    }
   ],
   "source": [
    "X_test_num_tr = num_pipeline.fit_transform(X_test_num)\n",
    "print(X_test_num_tr.shape) # (380, 17)\n",
    "X_test_num_scaled = pd.DataFrame(X_test_num_tr, index = X_test_num.index, columns = X_test_num.columns)\n",
    "X_test_num_scaled.head(3)"
   ]
  },
  {
   "cell_type": "code",
   "execution_count": null,
   "metadata": {},
   "outputs": [],
   "source": []
  },
  {
   "cell_type": "code",
   "execution_count": null,
   "metadata": {},
   "outputs": [],
   "source": []
  },
  {
   "cell_type": "code",
   "execution_count": null,
   "metadata": {},
   "outputs": [],
   "source": []
  },
  {
   "cell_type": "code",
   "execution_count": 915,
   "metadata": {},
   "outputs": [
    {
     "data": {
      "text/plain": [
       "0.3889220900745009"
      ]
     },
     "execution_count": 915,
     "metadata": {},
     "output_type": "execute_result"
    }
   ],
   "source": [
    "# Try Linear Regression on X_train_num_scaled\n",
    "linear_regression = LinearRegression()\n",
    "linear_regression.fit(X_train_num_scaled, y_train_num)\n",
    "pred_train_num    = linear_regression.predict(X_train_num_scaled)\n",
    "linear_regression_mse  = mean_squared_error(y_train_num, pred_train_num)\n",
    "linear_regression_rmse = np.sqrt(linear_regression_mse)\n",
    "linear_regression_rmse"
   ]
  },
  {
   "cell_type": "code",
   "execution_count": 916,
   "metadata": {},
   "outputs": [
    {
     "data": {
      "text/plain": [
       "0.0"
      ]
     },
     "execution_count": 916,
     "metadata": {},
     "output_type": "execute_result"
    }
   ],
   "source": [
    "# \n",
    "decision_tree_regression = DecisionTreeRegressor(random_state = 42)\n",
    "decision_tree_regression.fit(X_train_num_scaled, y_train_num)\n",
    "pred_train_num = decision_tree_regression.predict(X_train_num_scaled)\n",
    "decision_tree_mse            = mean_squared_error(y_train_num, pred_train_num)\n",
    "decision_tree_rmse           = np.sqrt(tree_mse)\n",
    "decision_tree_rmse"
   ]
  },
  {
   "cell_type": "code",
   "execution_count": null,
   "metadata": {},
   "outputs": [],
   "source": []
  },
  {
   "cell_type": "code",
   "execution_count": null,
   "metadata": {},
   "outputs": [],
   "source": []
  },
  {
   "cell_type": "code",
   "execution_count": null,
   "metadata": {},
   "outputs": [],
   "source": []
  },
  {
   "cell_type": "code",
   "execution_count": null,
   "metadata": {},
   "outputs": [],
   "source": []
  },
  {
   "cell_type": "code",
   "execution_count": null,
   "metadata": {},
   "outputs": [],
   "source": []
  },
  {
   "cell_type": "code",
   "execution_count": 978,
   "metadata": {},
   "outputs": [
    {
     "ename": "KeyboardInterrupt",
     "evalue": "",
     "output_type": "error",
     "traceback": [
      "\u001b[0;31m---------------------------------------------------------------------------\u001b[0m",
      "\u001b[0;31mKeyboardInterrupt\u001b[0m                         Traceback (most recent call last)",
      "\u001b[0;32m<ipython-input-978-a3831a2815a4>\u001b[0m in \u001b[0;36m<module>\u001b[0;34m\u001b[0m\n\u001b[1;32m     29\u001b[0m                           \u001b[0mn_iter\u001b[0m  \u001b[0;34m=\u001b[0m \u001b[0;36m15840\u001b[0m\u001b[0;34m,\u001b[0m\u001b[0;34m\u001b[0m\u001b[0;34m\u001b[0m\u001b[0m\n\u001b[1;32m     30\u001b[0m                           n_jobs  = -1)\n\u001b[0;32m---> 31\u001b[0;31m \u001b[0mgrid\u001b[0m\u001b[0;34m.\u001b[0m\u001b[0mfit\u001b[0m\u001b[0;34m(\u001b[0m\u001b[0mX_train_num_scaled\u001b[0m\u001b[0;34m,\u001b[0m \u001b[0my_train_num\u001b[0m\u001b[0;34m)\u001b[0m\u001b[0;34m\u001b[0m\u001b[0;34m\u001b[0m\u001b[0m\n\u001b[0m\u001b[1;32m     32\u001b[0m \u001b[0mbest_params\u001b[0m    \u001b[0;34m=\u001b[0m \u001b[0mgrid\u001b[0m\u001b[0;34m.\u001b[0m\u001b[0mbest_params_\u001b[0m\u001b[0;34m\u001b[0m\u001b[0;34m\u001b[0m\u001b[0m\n\u001b[1;32m     33\u001b[0m \u001b[0mbest_estimator\u001b[0m \u001b[0;34m=\u001b[0m \u001b[0mgrid\u001b[0m\u001b[0;34m.\u001b[0m\u001b[0mbest_estimator_\u001b[0m\u001b[0;34m\u001b[0m\u001b[0;34m\u001b[0m\u001b[0m\n",
      "\u001b[0;32m~/anaconda3/lib/python3.7/site-packages/sklearn/model_selection/_search.py\u001b[0m in \u001b[0;36mfit\u001b[0;34m(self, X, y, groups, **fit_params)\u001b[0m\n\u001b[1;32m    720\u001b[0m                 \u001b[0;32mreturn\u001b[0m \u001b[0mresults_container\u001b[0m\u001b[0;34m[\u001b[0m\u001b[0;36m0\u001b[0m\u001b[0;34m]\u001b[0m\u001b[0;34m\u001b[0m\u001b[0;34m\u001b[0m\u001b[0m\n\u001b[1;32m    721\u001b[0m \u001b[0;34m\u001b[0m\u001b[0m\n\u001b[0;32m--> 722\u001b[0;31m             \u001b[0mself\u001b[0m\u001b[0;34m.\u001b[0m\u001b[0m_run_search\u001b[0m\u001b[0;34m(\u001b[0m\u001b[0mevaluate_candidates\u001b[0m\u001b[0;34m)\u001b[0m\u001b[0;34m\u001b[0m\u001b[0;34m\u001b[0m\u001b[0m\n\u001b[0m\u001b[1;32m    723\u001b[0m \u001b[0;34m\u001b[0m\u001b[0m\n\u001b[1;32m    724\u001b[0m         \u001b[0mresults\u001b[0m \u001b[0;34m=\u001b[0m \u001b[0mresults_container\u001b[0m\u001b[0;34m[\u001b[0m\u001b[0;36m0\u001b[0m\u001b[0;34m]\u001b[0m\u001b[0;34m\u001b[0m\u001b[0;34m\u001b[0m\u001b[0m\n",
      "\u001b[0;32m~/anaconda3/lib/python3.7/site-packages/sklearn/model_selection/_search.py\u001b[0m in \u001b[0;36m_run_search\u001b[0;34m(self, evaluate_candidates)\u001b[0m\n\u001b[1;32m   1513\u001b[0m         evaluate_candidates(ParameterSampler(\n\u001b[1;32m   1514\u001b[0m             \u001b[0mself\u001b[0m\u001b[0;34m.\u001b[0m\u001b[0mparam_distributions\u001b[0m\u001b[0;34m,\u001b[0m \u001b[0mself\u001b[0m\u001b[0;34m.\u001b[0m\u001b[0mn_iter\u001b[0m\u001b[0;34m,\u001b[0m\u001b[0;34m\u001b[0m\u001b[0;34m\u001b[0m\u001b[0m\n\u001b[0;32m-> 1515\u001b[0;31m             random_state=self.random_state))\n\u001b[0m",
      "\u001b[0;32m~/anaconda3/lib/python3.7/site-packages/sklearn/model_selection/_search.py\u001b[0m in \u001b[0;36mevaluate_candidates\u001b[0;34m(candidate_params)\u001b[0m\n\u001b[1;32m    709\u001b[0m                                \u001b[0;32mfor\u001b[0m \u001b[0mparameters\u001b[0m\u001b[0;34m,\u001b[0m \u001b[0;34m(\u001b[0m\u001b[0mtrain\u001b[0m\u001b[0;34m,\u001b[0m \u001b[0mtest\u001b[0m\u001b[0;34m)\u001b[0m\u001b[0;34m\u001b[0m\u001b[0;34m\u001b[0m\u001b[0m\n\u001b[1;32m    710\u001b[0m                                in product(candidate_params,\n\u001b[0;32m--> 711\u001b[0;31m                                           cv.split(X, y, groups)))\n\u001b[0m\u001b[1;32m    712\u001b[0m \u001b[0;34m\u001b[0m\u001b[0m\n\u001b[1;32m    713\u001b[0m                 \u001b[0mall_candidate_params\u001b[0m\u001b[0;34m.\u001b[0m\u001b[0mextend\u001b[0m\u001b[0;34m(\u001b[0m\u001b[0mcandidate_params\u001b[0m\u001b[0;34m)\u001b[0m\u001b[0;34m\u001b[0m\u001b[0;34m\u001b[0m\u001b[0m\n",
      "\u001b[0;32m~/anaconda3/lib/python3.7/site-packages/sklearn/externals/joblib/parallel.py\u001b[0m in \u001b[0;36m__call__\u001b[0;34m(self, iterable)\u001b[0m\n\u001b[1;32m    928\u001b[0m \u001b[0;34m\u001b[0m\u001b[0m\n\u001b[1;32m    929\u001b[0m             \u001b[0;32mwith\u001b[0m \u001b[0mself\u001b[0m\u001b[0;34m.\u001b[0m\u001b[0m_backend\u001b[0m\u001b[0;34m.\u001b[0m\u001b[0mretrieval_context\u001b[0m\u001b[0;34m(\u001b[0m\u001b[0;34m)\u001b[0m\u001b[0;34m:\u001b[0m\u001b[0;34m\u001b[0m\u001b[0;34m\u001b[0m\u001b[0m\n\u001b[0;32m--> 930\u001b[0;31m                 \u001b[0mself\u001b[0m\u001b[0;34m.\u001b[0m\u001b[0mretrieve\u001b[0m\u001b[0;34m(\u001b[0m\u001b[0;34m)\u001b[0m\u001b[0;34m\u001b[0m\u001b[0;34m\u001b[0m\u001b[0m\n\u001b[0m\u001b[1;32m    931\u001b[0m             \u001b[0;31m# Make sure that we get a last message telling us we are done\u001b[0m\u001b[0;34m\u001b[0m\u001b[0;34m\u001b[0m\u001b[0;34m\u001b[0m\u001b[0m\n\u001b[1;32m    932\u001b[0m             \u001b[0melapsed_time\u001b[0m \u001b[0;34m=\u001b[0m \u001b[0mtime\u001b[0m\u001b[0;34m.\u001b[0m\u001b[0mtime\u001b[0m\u001b[0;34m(\u001b[0m\u001b[0;34m)\u001b[0m \u001b[0;34m-\u001b[0m \u001b[0mself\u001b[0m\u001b[0;34m.\u001b[0m\u001b[0m_start_time\u001b[0m\u001b[0;34m\u001b[0m\u001b[0;34m\u001b[0m\u001b[0m\n",
      "\u001b[0;32m~/anaconda3/lib/python3.7/site-packages/sklearn/externals/joblib/parallel.py\u001b[0m in \u001b[0;36mretrieve\u001b[0;34m(self)\u001b[0m\n\u001b[1;32m    831\u001b[0m             \u001b[0;32mtry\u001b[0m\u001b[0;34m:\u001b[0m\u001b[0;34m\u001b[0m\u001b[0;34m\u001b[0m\u001b[0m\n\u001b[1;32m    832\u001b[0m                 \u001b[0;32mif\u001b[0m \u001b[0mgetattr\u001b[0m\u001b[0;34m(\u001b[0m\u001b[0mself\u001b[0m\u001b[0;34m.\u001b[0m\u001b[0m_backend\u001b[0m\u001b[0;34m,\u001b[0m \u001b[0;34m'supports_timeout'\u001b[0m\u001b[0;34m,\u001b[0m \u001b[0;32mFalse\u001b[0m\u001b[0;34m)\u001b[0m\u001b[0;34m:\u001b[0m\u001b[0;34m\u001b[0m\u001b[0;34m\u001b[0m\u001b[0m\n\u001b[0;32m--> 833\u001b[0;31m                     \u001b[0mself\u001b[0m\u001b[0;34m.\u001b[0m\u001b[0m_output\u001b[0m\u001b[0;34m.\u001b[0m\u001b[0mextend\u001b[0m\u001b[0;34m(\u001b[0m\u001b[0mjob\u001b[0m\u001b[0;34m.\u001b[0m\u001b[0mget\u001b[0m\u001b[0;34m(\u001b[0m\u001b[0mtimeout\u001b[0m\u001b[0;34m=\u001b[0m\u001b[0mself\u001b[0m\u001b[0;34m.\u001b[0m\u001b[0mtimeout\u001b[0m\u001b[0;34m)\u001b[0m\u001b[0;34m)\u001b[0m\u001b[0;34m\u001b[0m\u001b[0;34m\u001b[0m\u001b[0m\n\u001b[0m\u001b[1;32m    834\u001b[0m                 \u001b[0;32melse\u001b[0m\u001b[0;34m:\u001b[0m\u001b[0;34m\u001b[0m\u001b[0;34m\u001b[0m\u001b[0m\n\u001b[1;32m    835\u001b[0m                     \u001b[0mself\u001b[0m\u001b[0;34m.\u001b[0m\u001b[0m_output\u001b[0m\u001b[0;34m.\u001b[0m\u001b[0mextend\u001b[0m\u001b[0;34m(\u001b[0m\u001b[0mjob\u001b[0m\u001b[0;34m.\u001b[0m\u001b[0mget\u001b[0m\u001b[0;34m(\u001b[0m\u001b[0;34m)\u001b[0m\u001b[0;34m)\u001b[0m\u001b[0;34m\u001b[0m\u001b[0;34m\u001b[0m\u001b[0m\n",
      "\u001b[0;32m~/anaconda3/lib/python3.7/site-packages/sklearn/externals/joblib/_parallel_backends.py\u001b[0m in \u001b[0;36mwrap_future_result\u001b[0;34m(future, timeout)\u001b[0m\n\u001b[1;32m    519\u001b[0m         AsyncResults.get from multiprocessing.\"\"\"\n\u001b[1;32m    520\u001b[0m         \u001b[0;32mtry\u001b[0m\u001b[0;34m:\u001b[0m\u001b[0;34m\u001b[0m\u001b[0;34m\u001b[0m\u001b[0m\n\u001b[0;32m--> 521\u001b[0;31m             \u001b[0;32mreturn\u001b[0m \u001b[0mfuture\u001b[0m\u001b[0;34m.\u001b[0m\u001b[0mresult\u001b[0m\u001b[0;34m(\u001b[0m\u001b[0mtimeout\u001b[0m\u001b[0;34m=\u001b[0m\u001b[0mtimeout\u001b[0m\u001b[0;34m)\u001b[0m\u001b[0;34m\u001b[0m\u001b[0;34m\u001b[0m\u001b[0m\n\u001b[0m\u001b[1;32m    522\u001b[0m         \u001b[0;32mexcept\u001b[0m \u001b[0mLokyTimeoutError\u001b[0m\u001b[0;34m:\u001b[0m\u001b[0;34m\u001b[0m\u001b[0;34m\u001b[0m\u001b[0m\n\u001b[1;32m    523\u001b[0m             \u001b[0;32mraise\u001b[0m \u001b[0mTimeoutError\u001b[0m\u001b[0;34m(\u001b[0m\u001b[0;34m)\u001b[0m\u001b[0;34m\u001b[0m\u001b[0;34m\u001b[0m\u001b[0m\n",
      "\u001b[0;32m~/anaconda3/lib/python3.7/concurrent/futures/_base.py\u001b[0m in \u001b[0;36mresult\u001b[0;34m(self, timeout)\u001b[0m\n\u001b[1;32m    425\u001b[0m                 \u001b[0;32mreturn\u001b[0m \u001b[0mself\u001b[0m\u001b[0;34m.\u001b[0m\u001b[0m__get_result\u001b[0m\u001b[0;34m(\u001b[0m\u001b[0;34m)\u001b[0m\u001b[0;34m\u001b[0m\u001b[0;34m\u001b[0m\u001b[0m\n\u001b[1;32m    426\u001b[0m \u001b[0;34m\u001b[0m\u001b[0m\n\u001b[0;32m--> 427\u001b[0;31m             \u001b[0mself\u001b[0m\u001b[0;34m.\u001b[0m\u001b[0m_condition\u001b[0m\u001b[0;34m.\u001b[0m\u001b[0mwait\u001b[0m\u001b[0;34m(\u001b[0m\u001b[0mtimeout\u001b[0m\u001b[0;34m)\u001b[0m\u001b[0;34m\u001b[0m\u001b[0;34m\u001b[0m\u001b[0m\n\u001b[0m\u001b[1;32m    428\u001b[0m \u001b[0;34m\u001b[0m\u001b[0m\n\u001b[1;32m    429\u001b[0m             \u001b[0;32mif\u001b[0m \u001b[0mself\u001b[0m\u001b[0;34m.\u001b[0m\u001b[0m_state\u001b[0m \u001b[0;32min\u001b[0m \u001b[0;34m[\u001b[0m\u001b[0mCANCELLED\u001b[0m\u001b[0;34m,\u001b[0m \u001b[0mCANCELLED_AND_NOTIFIED\u001b[0m\u001b[0;34m]\u001b[0m\u001b[0;34m:\u001b[0m\u001b[0;34m\u001b[0m\u001b[0;34m\u001b[0m\u001b[0m\n",
      "\u001b[0;32m~/anaconda3/lib/python3.7/threading.py\u001b[0m in \u001b[0;36mwait\u001b[0;34m(self, timeout)\u001b[0m\n\u001b[1;32m    294\u001b[0m         \u001b[0;32mtry\u001b[0m\u001b[0;34m:\u001b[0m    \u001b[0;31m# restore state no matter what (e.g., KeyboardInterrupt)\u001b[0m\u001b[0;34m\u001b[0m\u001b[0;34m\u001b[0m\u001b[0m\n\u001b[1;32m    295\u001b[0m             \u001b[0;32mif\u001b[0m \u001b[0mtimeout\u001b[0m \u001b[0;32mis\u001b[0m \u001b[0;32mNone\u001b[0m\u001b[0;34m:\u001b[0m\u001b[0;34m\u001b[0m\u001b[0;34m\u001b[0m\u001b[0m\n\u001b[0;32m--> 296\u001b[0;31m                 \u001b[0mwaiter\u001b[0m\u001b[0;34m.\u001b[0m\u001b[0macquire\u001b[0m\u001b[0;34m(\u001b[0m\u001b[0;34m)\u001b[0m\u001b[0;34m\u001b[0m\u001b[0;34m\u001b[0m\u001b[0m\n\u001b[0m\u001b[1;32m    297\u001b[0m                 \u001b[0mgotit\u001b[0m \u001b[0;34m=\u001b[0m \u001b[0;32mTrue\u001b[0m\u001b[0;34m\u001b[0m\u001b[0;34m\u001b[0m\u001b[0m\n\u001b[1;32m    298\u001b[0m             \u001b[0;32melse\u001b[0m\u001b[0;34m:\u001b[0m\u001b[0;34m\u001b[0m\u001b[0;34m\u001b[0m\u001b[0m\n",
      "\u001b[0;31mKeyboardInterrupt\u001b[0m: "
     ]
    }
   ],
   "source": [
    "#KNN = KNeighborsClassifier(1)\n",
    "#KNN.fit(X_train_num_scaled, y_train_num)\n",
    "#y_train_pred    = KNN.predict(X_train_num_scaled)\n",
    "#y_test_pred     = KNN.predict(X_test_num_scaled)\n",
    "#print(y_train_num[0])\n",
    "#print(y_train_pred[0])\n",
    "\n",
    "\n",
    "#accuracy_train  = accuracy_score(y_train_num, y_train_pred) \n",
    "#accuracy_test   = accuracy_score(y_test_num,  y_test_pred) \n",
    "#print('Train Accuracy:  {}'.format(accuracy_train)) \n",
    "#print('Test  Accuracy:  {}'.format(accuracy_test)) \n",
    "#print('Accuracy in this case is the ratio between the number of images which are classified correctly')\n",
    "#print('and the total images number, which can be used to evaluate the performance of a classifier.')\n",
    "#print()\n",
    "\n",
    "KNN_model = KNeighborsClassifier()\n",
    "\n",
    "parameters_range = {'n_neighbors': range(1, 11, 1),\n",
    "                    'weights':     ['uniform', 'distance'],\n",
    "                    'algorithm':   ['ball_tree', 'kd_tree', 'brute', 'auto'],\n",
    "                    'leaf_size':   range(1,100,1),\n",
    "                    'p':           [1, 2]\n",
    "                   }\n",
    "grid = RandomizedSearchCV(KNN_model, \n",
    "                          parameters_range, \n",
    "                          cv      = 5,\n",
    "                          scoring = 'accuracy',\n",
    "                          n_iter  = 15840,\n",
    "                          n_jobs  = -1)\n",
    "grid.fit(X_train_num_scaled, y_train_num)\n",
    "best_params    = grid.best_params_\n",
    "best_estimator = grid.best_estimator_\n",
    "best_score     = grid.best_score_\n",
    "print(\"Best Parameters:\")\n",
    "print(best_params)\n",
    "print(\"Best Score:\")\n",
    "print(best_score)\n",
    "\n",
    "y_train_pred   = grid.best_estimator_.predict(X_train_pca)\n",
    "y_test_pred    = grid.best_estimator_.predict(X_test_pca)\n",
    "accuracy_train = accuracy_score(y_train, y_train_pred)\n",
    "accuracy_test  = accuracy_score(y_test,  y_test_pred)\n",
    "print(\"The accuracy of train set is: \" + str(accuracy_train))\n",
    "print(\"The accuracy of test set is:  \" + str(accuracy_test))\n",
    "\n",
    "print('Scanning k from 1 to 10:')\n",
    "for neighbour in range(1, 11):    \n",
    "    KNN = KNeighborsClassifier(neighbour)\n",
    "    KNN.fit(X_train_num_scaled, y_train_num)\n",
    "    y_train_pred    = KNN.predict(X_train_num_scaled)\n",
    "    y_test_pred     = KNN.predict(X_test_num_scaled)\n",
    "    accuracy_train  = accuracy_score(y_train_num, y_train_pred) \n",
    "    accuracy_test   = accuracy_score(y_test_num,  y_test_pred) \n",
    "    print('k = {}, Train Accuracy:  {}'.format(neighbour, accuracy_train)) \n",
    "    print('k = {}, Test  Accuracy:  {}'.format(neighbour, accuracy_test)) \n",
    "    plt.scatter(neighbour, accuracy_train)\n",
    "    plt.scatter(neighbour, accuracy_test)"
   ]
  },
  {
   "cell_type": "code",
   "execution_count": null,
   "metadata": {},
   "outputs": [],
   "source": []
  },
  {
   "cell_type": "code",
   "execution_count": null,
   "metadata": {},
   "outputs": [],
   "source": []
  },
  {
   "cell_type": "code",
   "execution_count": null,
   "metadata": {},
   "outputs": [],
   "source": []
  },
  {
   "cell_type": "code",
   "execution_count": null,
   "metadata": {},
   "outputs": [],
   "source": []
  },
  {
   "cell_type": "code",
   "execution_count": null,
   "metadata": {},
   "outputs": [],
   "source": []
  },
  {
   "cell_type": "code",
   "execution_count": null,
   "metadata": {},
   "outputs": [],
   "source": []
  },
  {
   "cell_type": "code",
   "execution_count": null,
   "metadata": {},
   "outputs": [],
   "source": []
  },
  {
   "cell_type": "code",
   "execution_count": null,
   "metadata": {},
   "outputs": [],
   "source": []
  },
  {
   "cell_type": "code",
   "execution_count": null,
   "metadata": {},
   "outputs": [],
   "source": []
  },
  {
   "cell_type": "code",
   "execution_count": null,
   "metadata": {},
   "outputs": [],
   "source": []
  },
  {
   "cell_type": "code",
   "execution_count": null,
   "metadata": {},
   "outputs": [],
   "source": []
  },
  {
   "cell_type": "code",
   "execution_count": null,
   "metadata": {},
   "outputs": [],
   "source": []
  },
  {
   "cell_type": "code",
   "execution_count": null,
   "metadata": {},
   "outputs": [],
   "source": []
  },
  {
   "cell_type": "code",
   "execution_count": null,
   "metadata": {},
   "outputs": [],
   "source": []
  },
  {
   "cell_type": "code",
   "execution_count": null,
   "metadata": {},
   "outputs": [],
   "source": []
  },
  {
   "cell_type": "code",
   "execution_count": null,
   "metadata": {},
   "outputs": [],
   "source": []
  },
  {
   "cell_type": "code",
   "execution_count": null,
   "metadata": {},
   "outputs": [],
   "source": []
  },
  {
   "cell_type": "code",
   "execution_count": null,
   "metadata": {},
   "outputs": [],
   "source": []
  },
  {
   "cell_type": "code",
   "execution_count": null,
   "metadata": {},
   "outputs": [],
   "source": []
  },
  {
   "cell_type": "code",
   "execution_count": null,
   "metadata": {},
   "outputs": [],
   "source": []
  },
  {
   "cell_type": "code",
   "execution_count": null,
   "metadata": {},
   "outputs": [],
   "source": []
  },
  {
   "cell_type": "code",
   "execution_count": null,
   "metadata": {},
   "outputs": [],
   "source": []
  },
  {
   "cell_type": "code",
   "execution_count": null,
   "metadata": {},
   "outputs": [],
   "source": []
  },
  {
   "cell_type": "code",
   "execution_count": null,
   "metadata": {},
   "outputs": [],
   "source": []
  },
  {
   "cell_type": "code",
   "execution_count": null,
   "metadata": {},
   "outputs": [],
   "source": []
  },
  {
   "cell_type": "code",
   "execution_count": null,
   "metadata": {},
   "outputs": [],
   "source": []
  },
  {
   "cell_type": "code",
   "execution_count": null,
   "metadata": {},
   "outputs": [],
   "source": []
  },
  {
   "cell_type": "code",
   "execution_count": null,
   "metadata": {},
   "outputs": [],
   "source": []
  },
  {
   "cell_type": "code",
   "execution_count": null,
   "metadata": {},
   "outputs": [],
   "source": []
  },
  {
   "cell_type": "code",
   "execution_count": null,
   "metadata": {},
   "outputs": [],
   "source": []
  },
  {
   "cell_type": "code",
   "execution_count": null,
   "metadata": {},
   "outputs": [],
   "source": []
  },
  {
   "cell_type": "code",
   "execution_count": null,
   "metadata": {},
   "outputs": [],
   "source": []
  },
  {
   "cell_type": "code",
   "execution_count": null,
   "metadata": {},
   "outputs": [],
   "source": []
  },
  {
   "cell_type": "code",
   "execution_count": null,
   "metadata": {},
   "outputs": [],
   "source": []
  },
  {
   "cell_type": "code",
   "execution_count": null,
   "metadata": {},
   "outputs": [],
   "source": []
  },
  {
   "cell_type": "code",
   "execution_count": null,
   "metadata": {},
   "outputs": [],
   "source": []
  },
  {
   "cell_type": "code",
   "execution_count": null,
   "metadata": {},
   "outputs": [],
   "source": []
  },
  {
   "cell_type": "code",
   "execution_count": null,
   "metadata": {},
   "outputs": [],
   "source": []
  },
  {
   "cell_type": "code",
   "execution_count": null,
   "metadata": {},
   "outputs": [],
   "source": []
  },
  {
   "cell_type": "code",
   "execution_count": null,
   "metadata": {},
   "outputs": [],
   "source": []
  },
  {
   "cell_type": "code",
   "execution_count": null,
   "metadata": {},
   "outputs": [],
   "source": []
  },
  {
   "cell_type": "code",
   "execution_count": null,
   "metadata": {},
   "outputs": [],
   "source": []
  },
  {
   "cell_type": "code",
   "execution_count": null,
   "metadata": {},
   "outputs": [],
   "source": []
  },
  {
   "cell_type": "code",
   "execution_count": null,
   "metadata": {},
   "outputs": [],
   "source": []
  },
  {
   "cell_type": "code",
   "execution_count": null,
   "metadata": {},
   "outputs": [],
   "source": []
  },
  {
   "cell_type": "code",
   "execution_count": null,
   "metadata": {},
   "outputs": [],
   "source": []
  },
  {
   "cell_type": "code",
   "execution_count": null,
   "metadata": {},
   "outputs": [],
   "source": []
  },
  {
   "cell_type": "code",
   "execution_count": null,
   "metadata": {},
   "outputs": [],
   "source": []
  },
  {
   "cell_type": "code",
   "execution_count": null,
   "metadata": {},
   "outputs": [],
   "source": []
  },
  {
   "cell_type": "code",
   "execution_count": null,
   "metadata": {},
   "outputs": [],
   "source": []
  },
  {
   "cell_type": "code",
   "execution_count": null,
   "metadata": {},
   "outputs": [],
   "source": []
  },
  {
   "cell_type": "code",
   "execution_count": null,
   "metadata": {},
   "outputs": [],
   "source": []
  },
  {
   "cell_type": "code",
   "execution_count": null,
   "metadata": {},
   "outputs": [],
   "source": []
  },
  {
   "cell_type": "code",
   "execution_count": null,
   "metadata": {},
   "outputs": [],
   "source": []
  },
  {
   "cell_type": "code",
   "execution_count": null,
   "metadata": {},
   "outputs": [],
   "source": []
  },
  {
   "cell_type": "code",
   "execution_count": null,
   "metadata": {},
   "outputs": [],
   "source": []
  },
  {
   "cell_type": "code",
   "execution_count": null,
   "metadata": {},
   "outputs": [],
   "source": []
  },
  {
   "cell_type": "code",
   "execution_count": null,
   "metadata": {},
   "outputs": [],
   "source": []
  },
  {
   "cell_type": "code",
   "execution_count": null,
   "metadata": {},
   "outputs": [],
   "source": []
  },
  {
   "cell_type": "code",
   "execution_count": null,
   "metadata": {},
   "outputs": [],
   "source": []
  },
  {
   "cell_type": "code",
   "execution_count": null,
   "metadata": {},
   "outputs": [],
   "source": []
  },
  {
   "cell_type": "code",
   "execution_count": null,
   "metadata": {},
   "outputs": [],
   "source": []
  },
  {
   "cell_type": "code",
   "execution_count": null,
   "metadata": {},
   "outputs": [],
   "source": []
  },
  {
   "cell_type": "code",
   "execution_count": null,
   "metadata": {},
   "outputs": [],
   "source": []
  },
  {
   "cell_type": "code",
   "execution_count": null,
   "metadata": {},
   "outputs": [],
   "source": []
  },
  {
   "cell_type": "code",
   "execution_count": null,
   "metadata": {},
   "outputs": [],
   "source": []
  },
  {
   "cell_type": "code",
   "execution_count": null,
   "metadata": {},
   "outputs": [],
   "source": []
  },
  {
   "cell_type": "markdown",
   "metadata": {},
   "source": [
    "### 3.5 Separation of Predictors and Labels"
   ]
  },
  {
   "cell_type": "code",
   "execution_count": null,
   "metadata": {},
   "outputs": [],
   "source": []
  },
  {
   "cell_type": "code",
   "execution_count": null,
   "metadata": {},
   "outputs": [],
   "source": []
  },
  {
   "cell_type": "code",
   "execution_count": 36,
   "metadata": {},
   "outputs": [
    {
     "data": {
      "text/html": [
       "<div>\n",
       "<style scoped>\n",
       "    .dataframe tbody tr th:only-of-type {\n",
       "        vertical-align: middle;\n",
       "    }\n",
       "\n",
       "    .dataframe tbody tr th {\n",
       "        vertical-align: top;\n",
       "    }\n",
       "\n",
       "    .dataframe thead th {\n",
       "        text-align: right;\n",
       "    }\n",
       "</style>\n",
       "<table border=\"1\" class=\"dataframe\">\n",
       "  <thead>\n",
       "    <tr style=\"text-align: right;\">\n",
       "      <th></th>\n",
       "      <th>Loan_ID</th>\n",
       "      <th>Gender</th>\n",
       "      <th>Married</th>\n",
       "      <th>Dependents</th>\n",
       "      <th>Education</th>\n",
       "      <th>Self_Employed</th>\n",
       "      <th>ApplicantIncome</th>\n",
       "      <th>CoapplicantIncome</th>\n",
       "      <th>LoanAmount</th>\n",
       "      <th>Loan_Amount_Term</th>\n",
       "      <th>Credit_History</th>\n",
       "      <th>Property_Area</th>\n",
       "    </tr>\n",
       "  </thead>\n",
       "  <tbody>\n",
       "    <tr>\n",
       "      <th>0</th>\n",
       "      <td>LP001535</td>\n",
       "      <td>Male</td>\n",
       "      <td>No</td>\n",
       "      <td>0</td>\n",
       "      <td>Graduate</td>\n",
       "      <td>No</td>\n",
       "      <td>3254</td>\n",
       "      <td>0.0</td>\n",
       "      <td>50.0</td>\n",
       "      <td>360.0</td>\n",
       "      <td>1.0</td>\n",
       "      <td>Urban</td>\n",
       "    </tr>\n",
       "    <tr>\n",
       "      <th>1</th>\n",
       "      <td>LP001792</td>\n",
       "      <td>Male</td>\n",
       "      <td>Yes</td>\n",
       "      <td>1</td>\n",
       "      <td>Graduate</td>\n",
       "      <td>No</td>\n",
       "      <td>3315</td>\n",
       "      <td>0.0</td>\n",
       "      <td>96.0</td>\n",
       "      <td>360.0</td>\n",
       "      <td>1.0</td>\n",
       "      <td>Semiurban</td>\n",
       "    </tr>\n",
       "    <tr>\n",
       "      <th>2</th>\n",
       "      <td>LP002443</td>\n",
       "      <td>Male</td>\n",
       "      <td>Yes</td>\n",
       "      <td>2</td>\n",
       "      <td>Graduate</td>\n",
       "      <td>No</td>\n",
       "      <td>3340</td>\n",
       "      <td>1710.0</td>\n",
       "      <td>150.0</td>\n",
       "      <td>360.0</td>\n",
       "      <td>0.0</td>\n",
       "      <td>Rural</td>\n",
       "    </tr>\n",
       "  </tbody>\n",
       "</table>\n",
       "</div>"
      ],
      "text/plain": [
       "    Loan_ID Gender Married Dependents Education Self_Employed  \\\n",
       "0  LP001535   Male      No          0  Graduate            No   \n",
       "1  LP001792   Male     Yes          1  Graduate            No   \n",
       "2  LP002443   Male     Yes          2  Graduate            No   \n",
       "\n",
       "   ApplicantIncome  CoapplicantIncome  LoanAmount  Loan_Amount_Term  \\\n",
       "0             3254                0.0        50.0             360.0   \n",
       "1             3315                0.0        96.0             360.0   \n",
       "2             3340             1710.0       150.0             360.0   \n",
       "\n",
       "   Credit_History Property_Area  \n",
       "0             1.0         Urban  \n",
       "1             1.0     Semiurban  \n",
       "2             0.0         Rural  "
      ]
     },
     "execution_count": 36,
     "metadata": {},
     "output_type": "execute_result"
    }
   ],
   "source": [
    "Xs_train = df_train.drop(\"Loan_Status\", axis = 1)\n",
    "y_train  = df_train[\"Loan_Status\"].copy()\n",
    "Xs_train.head(3)"
   ]
  },
  {
   "cell_type": "code",
   "execution_count": 37,
   "metadata": {},
   "outputs": [
    {
     "data": {
      "text/plain": [
       "0    Y\n",
       "1    Y\n",
       "2    N\n",
       "Name: Loan_Status, dtype: object"
      ]
     },
     "execution_count": 37,
     "metadata": {},
     "output_type": "execute_result"
    }
   ],
   "source": [
    "y_train.head(3)"
   ]
  },
  {
   "cell_type": "code",
   "execution_count": null,
   "metadata": {},
   "outputs": [],
   "source": []
  },
  {
   "cell_type": "code",
   "execution_count": null,
   "metadata": {},
   "outputs": [],
   "source": []
  },
  {
   "cell_type": "code",
   "execution_count": null,
   "metadata": {},
   "outputs": [],
   "source": []
  },
  {
   "cell_type": "code",
   "execution_count": null,
   "metadata": {},
   "outputs": [],
   "source": []
  },
  {
   "cell_type": "code",
   "execution_count": null,
   "metadata": {},
   "outputs": [],
   "source": []
  },
  {
   "cell_type": "code",
   "execution_count": null,
   "metadata": {},
   "outputs": [],
   "source": []
  },
  {
   "cell_type": "code",
   "execution_count": null,
   "metadata": {},
   "outputs": [],
   "source": []
  },
  {
   "cell_type": "code",
   "execution_count": null,
   "metadata": {},
   "outputs": [],
   "source": []
  },
  {
   "cell_type": "code",
   "execution_count": null,
   "metadata": {},
   "outputs": [],
   "source": []
  },
  {
   "cell_type": "code",
   "execution_count": 38,
   "metadata": {},
   "outputs": [
    {
     "name": "stdout",
     "output_type": "stream",
     "text": [
      "loanamount 和 loanterm 需要补0\n"
     ]
    }
   ],
   "source": [
    "print(\"loanamount 和 loanterm 需要补0\")"
   ]
  },
  {
   "cell_type": "code",
   "execution_count": null,
   "metadata": {},
   "outputs": [],
   "source": []
  },
  {
   "cell_type": "code",
   "execution_count": null,
   "metadata": {},
   "outputs": [],
   "source": []
  },
  {
   "cell_type": "markdown",
   "metadata": {},
   "source": [
    "#### Experimenting with Attribute Combinations"
   ]
  },
  {
   "cell_type": "code",
   "execution_count": null,
   "metadata": {},
   "outputs": [],
   "source": []
  },
  {
   "cell_type": "code",
   "execution_count": 39,
   "metadata": {},
   "outputs": [
    {
     "name": "stdout",
     "output_type": "stream",
     "text": [
      "<class 'pandas.core.frame.DataFrame'>\n",
      "Int64Index: 380 entries, 0 to 490\n",
      "Data columns (total 13 columns):\n",
      "Loan_ID              380 non-null object\n",
      "Gender               380 non-null int64\n",
      "Married              380 non-null int64\n",
      "Dependents           380 non-null int64\n",
      "Education            380 non-null int64\n",
      "Self_Employed        380 non-null int64\n",
      "ApplicantIncome      380 non-null int64\n",
      "CoapplicantIncome    380 non-null float64\n",
      "LoanAmount           380 non-null float64\n",
      "Loan_Amount_Term     380 non-null float64\n",
      "Credit_History       380 non-null float64\n",
      "Property_Area        380 non-null int64\n",
      "Loan_Status          380 non-null int64\n",
      "dtypes: float64(4), int64(8), object(1)\n",
      "memory usage: 41.6+ KB\n"
     ]
    }
   ],
   "source": [
    "df_train_num.dropna(inplace = True)\n",
    "df_train_num.info()"
   ]
  },
  {
   "cell_type": "code",
   "execution_count": null,
   "metadata": {},
   "outputs": [],
   "source": []
  },
  {
   "cell_type": "code",
   "execution_count": null,
   "metadata": {},
   "outputs": [],
   "source": []
  },
  {
   "cell_type": "code",
   "execution_count": 40,
   "metadata": {},
   "outputs": [
    {
     "data": {
      "text/html": [
       "<div>\n",
       "<style scoped>\n",
       "    .dataframe tbody tr th:only-of-type {\n",
       "        vertical-align: middle;\n",
       "    }\n",
       "\n",
       "    .dataframe tbody tr th {\n",
       "        vertical-align: top;\n",
       "    }\n",
       "\n",
       "    .dataframe thead th {\n",
       "        text-align: right;\n",
       "    }\n",
       "</style>\n",
       "<table border=\"1\" class=\"dataframe\">\n",
       "  <thead>\n",
       "    <tr style=\"text-align: right;\">\n",
       "      <th></th>\n",
       "      <th>Loan_ID</th>\n",
       "      <th>Gender</th>\n",
       "      <th>Married</th>\n",
       "      <th>Dependents</th>\n",
       "      <th>Education</th>\n",
       "      <th>Self_Employed</th>\n",
       "      <th>ApplicantIncome</th>\n",
       "      <th>CoapplicantIncome</th>\n",
       "      <th>LoanAmount</th>\n",
       "      <th>Loan_Amount_Term</th>\n",
       "      <th>Credit_History</th>\n",
       "      <th>Property_Area</th>\n",
       "      <th>Loan_Status</th>\n",
       "    </tr>\n",
       "  </thead>\n",
       "  <tbody>\n",
       "    <tr>\n",
       "      <th>0</th>\n",
       "      <td>LP001535</td>\n",
       "      <td>1</td>\n",
       "      <td>0</td>\n",
       "      <td>0</td>\n",
       "      <td>1</td>\n",
       "      <td>0</td>\n",
       "      <td>3254</td>\n",
       "      <td>0.0</td>\n",
       "      <td>50.0</td>\n",
       "      <td>360.0</td>\n",
       "      <td>1.0</td>\n",
       "      <td>2</td>\n",
       "      <td>1</td>\n",
       "    </tr>\n",
       "    <tr>\n",
       "      <th>1</th>\n",
       "      <td>LP001792</td>\n",
       "      <td>1</td>\n",
       "      <td>1</td>\n",
       "      <td>1</td>\n",
       "      <td>1</td>\n",
       "      <td>0</td>\n",
       "      <td>3315</td>\n",
       "      <td>0.0</td>\n",
       "      <td>96.0</td>\n",
       "      <td>360.0</td>\n",
       "      <td>1.0</td>\n",
       "      <td>1</td>\n",
       "      <td>1</td>\n",
       "    </tr>\n",
       "    <tr>\n",
       "      <th>2</th>\n",
       "      <td>LP002443</td>\n",
       "      <td>1</td>\n",
       "      <td>1</td>\n",
       "      <td>2</td>\n",
       "      <td>1</td>\n",
       "      <td>0</td>\n",
       "      <td>3340</td>\n",
       "      <td>1710.0</td>\n",
       "      <td>150.0</td>\n",
       "      <td>360.0</td>\n",
       "      <td>0.0</td>\n",
       "      <td>0</td>\n",
       "      <td>0</td>\n",
       "    </tr>\n",
       "    <tr>\n",
       "      <th>3</th>\n",
       "      <td>LP002517</td>\n",
       "      <td>1</td>\n",
       "      <td>1</td>\n",
       "      <td>1</td>\n",
       "      <td>0</td>\n",
       "      <td>0</td>\n",
       "      <td>2653</td>\n",
       "      <td>1500.0</td>\n",
       "      <td>113.0</td>\n",
       "      <td>180.0</td>\n",
       "      <td>0.0</td>\n",
       "      <td>0</td>\n",
       "      <td>0</td>\n",
       "    </tr>\n",
       "    <tr>\n",
       "      <th>4</th>\n",
       "      <td>LP001894</td>\n",
       "      <td>1</td>\n",
       "      <td>1</td>\n",
       "      <td>0</td>\n",
       "      <td>1</td>\n",
       "      <td>0</td>\n",
       "      <td>2620</td>\n",
       "      <td>2223.0</td>\n",
       "      <td>150.0</td>\n",
       "      <td>360.0</td>\n",
       "      <td>1.0</td>\n",
       "      <td>1</td>\n",
       "      <td>1</td>\n",
       "    </tr>\n",
       "  </tbody>\n",
       "</table>\n",
       "</div>"
      ],
      "text/plain": [
       "    Loan_ID  Gender  Married  Dependents  Education  Self_Employed  \\\n",
       "0  LP001535       1        0           0          1              0   \n",
       "1  LP001792       1        1           1          1              0   \n",
       "2  LP002443       1        1           2          1              0   \n",
       "3  LP002517       1        1           1          0              0   \n",
       "4  LP001894       1        1           0          1              0   \n",
       "\n",
       "   ApplicantIncome  CoapplicantIncome  LoanAmount  Loan_Amount_Term  \\\n",
       "0             3254                0.0        50.0             360.0   \n",
       "1             3315                0.0        96.0             360.0   \n",
       "2             3340             1710.0       150.0             360.0   \n",
       "3             2653             1500.0       113.0             180.0   \n",
       "4             2620             2223.0       150.0             360.0   \n",
       "\n",
       "   Credit_History  Property_Area  Loan_Status  \n",
       "0             1.0              2            1  \n",
       "1             1.0              1            1  \n",
       "2             0.0              0            0  \n",
       "3             0.0              0            0  \n",
       "4             1.0              1            1  "
      ]
     },
     "execution_count": 40,
     "metadata": {},
     "output_type": "execute_result"
    }
   ],
   "source": [
    "df_train_num.head()"
   ]
  },
  {
   "cell_type": "code",
   "execution_count": null,
   "metadata": {},
   "outputs": [],
   "source": []
  },
  {
   "cell_type": "code",
   "execution_count": null,
   "metadata": {},
   "outputs": [],
   "source": []
  },
  {
   "cell_type": "code",
   "execution_count": null,
   "metadata": {},
   "outputs": [],
   "source": []
  },
  {
   "cell_type": "code",
   "execution_count": null,
   "metadata": {},
   "outputs": [],
   "source": []
  },
  {
   "cell_type": "code",
   "execution_count": 41,
   "metadata": {},
   "outputs": [
    {
     "data": {
      "text/plain": [
       "Loan_Status                    1.000000\n",
       "Credit_History                 0.497443\n",
       "Married                        0.096213\n",
       "Education                      0.079741\n",
       "Dependents                     0.068522\n",
       "Gender                         0.050428\n",
       "Loan_Amount_Term               0.035091\n",
       "Property_Area                  0.034900\n",
       "CoapplicantIncome             -0.005218\n",
       "ApplicantIncome               -0.017680\n",
       "Family_Income                 -0.019307\n",
       "LoanAmount                    -0.032891\n",
       "Self_Employed                 -0.044126\n",
       "Family_Income_per_Dependent   -0.046804\n",
       "Family_Income_per_Person      -0.070423\n",
       "Name: Loan_Status, dtype: float64"
      ]
     },
     "execution_count": 41,
     "metadata": {},
     "output_type": "execute_result"
    }
   ],
   "source": [
    "df_train_num[\"Family_Income\"]               = df_train_num[\"ApplicantIncome\"] + df_train_num[\"CoapplicantIncome\"]\n",
    "df_train_num[\"Family_Income_per_Dependent\"] = df_train_num[\"Family_Income\"]   / df_train_num[\"Dependents\"]\n",
    "df_train_num[\"Family_Income_per_Person\"]    = df_train_num[\"Family_Income\"]   / (df_train_num[\"Dependents\"] + 2)\n",
    "#df_train_num[\"population_per_household\"] = df_train_num[\"population\"]     / df_train_num[\"households\"]\n",
    "correlation_matrix_train = df_train_num.corr()\n",
    "correlation_matrix_train[\"Loan_Status\"].sort_values(ascending = False)"
   ]
  },
  {
   "cell_type": "code",
   "execution_count": null,
   "metadata": {},
   "outputs": [],
   "source": []
  },
  {
   "cell_type": "code",
   "execution_count": 42,
   "metadata": {},
   "outputs": [
    {
     "data": {
      "text/plain": [
       "Loan_Status                    1.000000\n",
       "Credit_History                 0.632248\n",
       "Married                        0.186917\n",
       "Gender                         0.125154\n",
       "ApplicantIncome                0.054245\n",
       "Education                      0.031083\n",
       "Property_Area                 -0.002635\n",
       "Self_Employed                 -0.003944\n",
       "Family_Income_per_Person      -0.020753\n",
       "Dependents                    -0.054536\n",
       "Family_Income                 -0.058724\n",
       "Family_Income_per_Dependent   -0.146347\n",
       "CoapplicantIncome             -0.164685\n",
       "LoanAmount                    -0.173927\n",
       "Loan_Amount_Term              -0.178704\n",
       "Name: Loan_Status, dtype: float64"
      ]
     },
     "execution_count": 42,
     "metadata": {},
     "output_type": "execute_result"
    }
   ],
   "source": [
    "df_test_num[\"Family_Income\"]               = df_test_num[\"ApplicantIncome\"] + df_test_num[\"CoapplicantIncome\"]\n",
    "df_test_num[\"Family_Income_per_Dependent\"] = df_test_num[\"Family_Income\"]   / df_test_num[\"Dependents\"]\n",
    "df_test_num[\"Family_Income_per_Person\"]    = df_test_num[\"Family_Income\"]   / (df_test_num[\"Dependents\"] + 2)\n",
    "#df_train_num[\"population_per_household\"] = df_train_num[\"population\"]     / df_train_num[\"households\"]\n",
    "correlation_matrix_test = df_test_num.corr()\n",
    "correlation_matrix_test[\"Loan_Status\"].sort_values(ascending = False)"
   ]
  },
  {
   "cell_type": "code",
   "execution_count": 43,
   "metadata": {},
   "outputs": [],
   "source": [
    "# 组合数字, 等会组合boolean!!!\n",
    "df_train_num_feature_comb = df_train_num.copy()\n",
    "df_train_num_feature_comb.drop(\"Loan_ID\",        axis = 1, inplace = True)\n",
    "df_train_num_feature_comb.drop(\"Credit_History\", axis = 1, inplace = True)\n",
    "df_train_num_feature_comb.drop(\"Education\",      axis = 1, inplace = True)\n",
    "df_train_num_feature_comb.drop(\"Married\",        axis = 1, inplace = True)\n",
    "df_train_num_feature_comb.drop(\"Property_Area\",  axis = 1, inplace = True)\n",
    "df_train_num_feature_comb.drop(\"Self_Employed\",  axis = 1, inplace = True)\n",
    "df_train_num_feature_comb.drop(\"Gender\",         axis = 1, inplace = True)"
   ]
  },
  {
   "cell_type": "code",
   "execution_count": 44,
   "metadata": {},
   "outputs": [
    {
     "data": {
      "text/html": [
       "<div>\n",
       "<style scoped>\n",
       "    .dataframe tbody tr th:only-of-type {\n",
       "        vertical-align: middle;\n",
       "    }\n",
       "\n",
       "    .dataframe tbody tr th {\n",
       "        vertical-align: top;\n",
       "    }\n",
       "\n",
       "    .dataframe thead th {\n",
       "        text-align: right;\n",
       "    }\n",
       "</style>\n",
       "<table border=\"1\" class=\"dataframe\">\n",
       "  <thead>\n",
       "    <tr style=\"text-align: right;\">\n",
       "      <th></th>\n",
       "      <th>Dependents</th>\n",
       "      <th>ApplicantIncome</th>\n",
       "      <th>CoapplicantIncome</th>\n",
       "      <th>LoanAmount</th>\n",
       "      <th>Loan_Amount_Term</th>\n",
       "      <th>Loan_Status</th>\n",
       "      <th>Family_Income</th>\n",
       "      <th>Family_Income_per_Dependent</th>\n",
       "      <th>Family_Income_per_Person</th>\n",
       "    </tr>\n",
       "  </thead>\n",
       "  <tbody>\n",
       "    <tr>\n",
       "      <th>0</th>\n",
       "      <td>0</td>\n",
       "      <td>3254</td>\n",
       "      <td>0.0</td>\n",
       "      <td>50.0</td>\n",
       "      <td>360.0</td>\n",
       "      <td>1</td>\n",
       "      <td>3254.0</td>\n",
       "      <td>inf</td>\n",
       "      <td>1627.000000</td>\n",
       "    </tr>\n",
       "    <tr>\n",
       "      <th>1</th>\n",
       "      <td>1</td>\n",
       "      <td>3315</td>\n",
       "      <td>0.0</td>\n",
       "      <td>96.0</td>\n",
       "      <td>360.0</td>\n",
       "      <td>1</td>\n",
       "      <td>3315.0</td>\n",
       "      <td>3315.000000</td>\n",
       "      <td>1105.000000</td>\n",
       "    </tr>\n",
       "    <tr>\n",
       "      <th>2</th>\n",
       "      <td>2</td>\n",
       "      <td>3340</td>\n",
       "      <td>1710.0</td>\n",
       "      <td>150.0</td>\n",
       "      <td>360.0</td>\n",
       "      <td>0</td>\n",
       "      <td>5050.0</td>\n",
       "      <td>2525.000000</td>\n",
       "      <td>1262.500000</td>\n",
       "    </tr>\n",
       "    <tr>\n",
       "      <th>3</th>\n",
       "      <td>1</td>\n",
       "      <td>2653</td>\n",
       "      <td>1500.0</td>\n",
       "      <td>113.0</td>\n",
       "      <td>180.0</td>\n",
       "      <td>0</td>\n",
       "      <td>4153.0</td>\n",
       "      <td>4153.000000</td>\n",
       "      <td>1384.333333</td>\n",
       "    </tr>\n",
       "    <tr>\n",
       "      <th>4</th>\n",
       "      <td>0</td>\n",
       "      <td>2620</td>\n",
       "      <td>2223.0</td>\n",
       "      <td>150.0</td>\n",
       "      <td>360.0</td>\n",
       "      <td>1</td>\n",
       "      <td>4843.0</td>\n",
       "      <td>inf</td>\n",
       "      <td>2421.500000</td>\n",
       "    </tr>\n",
       "  </tbody>\n",
       "</table>\n",
       "</div>"
      ],
      "text/plain": [
       "   Dependents  ApplicantIncome  CoapplicantIncome  LoanAmount  \\\n",
       "0           0             3254                0.0        50.0   \n",
       "1           1             3315                0.0        96.0   \n",
       "2           2             3340             1710.0       150.0   \n",
       "3           1             2653             1500.0       113.0   \n",
       "4           0             2620             2223.0       150.0   \n",
       "\n",
       "   Loan_Amount_Term  Loan_Status  Family_Income  Family_Income_per_Dependent  \\\n",
       "0             360.0            1         3254.0                          inf   \n",
       "1             360.0            1         3315.0                  3315.000000   \n",
       "2             360.0            0         5050.0                  2525.000000   \n",
       "3             180.0            0         4153.0                  4153.000000   \n",
       "4             360.0            1         4843.0                          inf   \n",
       "\n",
       "   Family_Income_per_Person  \n",
       "0               1627.000000  \n",
       "1               1105.000000  \n",
       "2               1262.500000  \n",
       "3               1384.333333  \n",
       "4               2421.500000  "
      ]
     },
     "execution_count": 44,
     "metadata": {},
     "output_type": "execute_result"
    }
   ],
   "source": [
    "df_train_num_feature_comb.head()"
   ]
  },
  {
   "cell_type": "code",
   "execution_count": null,
   "metadata": {},
   "outputs": [],
   "source": []
  },
  {
   "cell_type": "code",
   "execution_count": null,
   "metadata": {},
   "outputs": [],
   "source": []
  },
  {
   "cell_type": "code",
   "execution_count": null,
   "metadata": {},
   "outputs": [],
   "source": []
  },
  {
   "cell_type": "code",
   "execution_count": null,
   "metadata": {},
   "outputs": [],
   "source": []
  },
  {
   "cell_type": "code",
   "execution_count": 45,
   "metadata": {},
   "outputs": [
    {
     "data": {
      "text/plain": [
       "('Dependents',\n",
       " 'ApplicantIncome',\n",
       " 'CoapplicantIncome',\n",
       " 'LoanAmount',\n",
       " 'Loan_Amount_Term')"
      ]
     },
     "execution_count": 45,
     "metadata": {},
     "output_type": "execute_result"
    }
   ],
   "source": [
    "\"Dependents\", \"ApplicantIncome\", \"CoapplicantIncome\", \"LoanAmount\", \"Loan_Amount_Term\""
   ]
  },
  {
   "cell_type": "code",
   "execution_count": 46,
   "metadata": {},
   "outputs": [
    {
     "name": "stdout",
     "output_type": "stream",
     "text": [
      "评论\n"
     ]
    }
   ],
   "source": [
    "print(\"评论\")"
   ]
  },
  {
   "cell_type": "code",
   "execution_count": null,
   "metadata": {},
   "outputs": [],
   "source": []
  },
  {
   "cell_type": "code",
   "execution_count": 47,
   "metadata": {},
   "outputs": [
    {
     "data": {
      "image/png": "[encoded data removed]",
      "text/plain": [
       "<Figure size 864x576 with 121 Axes>"
      ]
     },
     "metadata": {
      "needs_background": "light"
     },
     "output_type": "display_data"
    }
   ],
   "source": [
    "attributes = [\"Loan_Status\", \"Credit_History\", \"Married\", \"Gender\", \"Education\", \"Self_Employed\",\"ApplicantIncome\", \n",
    "              \"CoapplicantIncome\", \"LoanAmount\", \"Loan_Amount_Term\",  \"Property_Area\", ]\n",
    "scatter_matrix(df_train_num[attributes], figsize=(12, 8));"
   ]
  },
  {
   "cell_type": "code",
   "execution_count": 48,
   "metadata": {},
   "outputs": [
    {
     "data": {
      "image/png": "[encoded data removed]",
      "text/plain": [
       "<Figure size 864x576 with 36 Axes>"
      ]
     },
     "metadata": {
      "needs_background": "light"
     },
     "output_type": "display_data"
    }
   ],
   "source": [
    "attributes = [\"Loan_Status\", \"Dependents\", \"ApplicantIncome\", \"CoapplicantIncome\", \"LoanAmount\", \"Loan_Amount_Term\"]\n",
    "scatter_matrix(df_train_num[attributes], figsize=(12, 8));"
   ]
  },
  {
   "cell_type": "code",
   "execution_count": 49,
   "metadata": {},
   "outputs": [
    {
     "name": "stdout",
     "output_type": "stream",
     "text": [
      "两个人薪水可以相加\n"
     ]
    }
   ],
   "source": [
    "print(\"两个人薪水可以相加\")"
   ]
  },
  {
   "cell_type": "code",
   "execution_count": null,
   "metadata": {},
   "outputs": [],
   "source": []
  },
  {
   "cell_type": "code",
   "execution_count": null,
   "metadata": {},
   "outputs": [],
   "source": []
  },
  {
   "cell_type": "code",
   "execution_count": null,
   "metadata": {},
   "outputs": [],
   "source": []
  },
  {
   "cell_type": "code",
   "execution_count": null,
   "metadata": {},
   "outputs": [],
   "source": []
  },
  {
   "cell_type": "code",
   "execution_count": null,
   "metadata": {},
   "outputs": [],
   "source": []
  },
  {
   "cell_type": "code",
   "execution_count": null,
   "metadata": {},
   "outputs": [],
   "source": []
  },
  {
   "cell_type": "code",
   "execution_count": null,
   "metadata": {},
   "outputs": [],
   "source": []
  },
  {
   "cell_type": "code",
   "execution_count": null,
   "metadata": {},
   "outputs": [],
   "source": []
  },
  {
   "cell_type": "code",
   "execution_count": null,
   "metadata": {},
   "outputs": [],
   "source": []
  },
  {
   "cell_type": "code",
   "execution_count": null,
   "metadata": {},
   "outputs": [],
   "source": []
  },
  {
   "cell_type": "code",
   "execution_count": null,
   "metadata": {},
   "outputs": [],
   "source": []
  },
  {
   "cell_type": "code",
   "execution_count": null,
   "metadata": {},
   "outputs": [],
   "source": []
  },
  {
   "cell_type": "code",
   "execution_count": null,
   "metadata": {},
   "outputs": [],
   "source": []
  },
  {
   "cell_type": "code",
   "execution_count": null,
   "metadata": {},
   "outputs": [],
   "source": []
  },
  {
   "cell_type": "code",
   "execution_count": null,
   "metadata": {},
   "outputs": [],
   "source": []
  },
  {
   "cell_type": "code",
   "execution_count": null,
   "metadata": {},
   "outputs": [],
   "source": []
  },
  {
   "cell_type": "code",
   "execution_count": null,
   "metadata": {},
   "outputs": [],
   "source": []
  },
  {
   "cell_type": "code",
   "execution_count": null,
   "metadata": {},
   "outputs": [],
   "source": []
  },
  {
   "cell_type": "code",
   "execution_count": null,
   "metadata": {},
   "outputs": [],
   "source": []
  },
  {
   "cell_type": "code",
   "execution_count": null,
   "metadata": {},
   "outputs": [],
   "source": []
  },
  {
   "cell_type": "code",
   "execution_count": null,
   "metadata": {},
   "outputs": [],
   "source": []
  },
  {
   "cell_type": "code",
   "execution_count": null,
   "metadata": {},
   "outputs": [],
   "source": []
  },
  {
   "cell_type": "code",
   "execution_count": null,
   "metadata": {},
   "outputs": [],
   "source": []
  },
  {
   "cell_type": "code",
   "execution_count": null,
   "metadata": {},
   "outputs": [],
   "source": []
  },
  {
   "cell_type": "code",
   "execution_count": null,
   "metadata": {},
   "outputs": [],
   "source": []
  },
  {
   "cell_type": "code",
   "execution_count": null,
   "metadata": {},
   "outputs": [],
   "source": []
  },
  {
   "cell_type": "code",
   "execution_count": null,
   "metadata": {},
   "outputs": [],
   "source": []
  },
  {
   "cell_type": "code",
   "execution_count": null,
   "metadata": {},
   "outputs": [],
   "source": []
  },
  {
   "cell_type": "code",
   "execution_count": null,
   "metadata": {},
   "outputs": [],
   "source": []
  },
  {
   "cell_type": "code",
   "execution_count": null,
   "metadata": {},
   "outputs": [],
   "source": []
  },
  {
   "cell_type": "code",
   "execution_count": null,
   "metadata": {},
   "outputs": [],
   "source": []
  },
  {
   "cell_type": "code",
   "execution_count": null,
   "metadata": {},
   "outputs": [],
   "source": []
  },
  {
   "cell_type": "code",
   "execution_count": 50,
   "metadata": {},
   "outputs": [
    {
     "name": "stdout",
     "output_type": "stream",
     "text": [
      "Missing Data\n",
      "Categorical Data\n"
     ]
    }
   ],
   "source": [
    "print(\"Missing Data\")\n",
    "print(\"Categorical Data\")"
   ]
  },
  {
   "cell_type": "code",
   "execution_count": null,
   "metadata": {},
   "outputs": [],
   "source": []
  },
  {
   "cell_type": "code",
   "execution_count": null,
   "metadata": {},
   "outputs": [],
   "source": []
  },
  {
   "cell_type": "code",
   "execution_count": null,
   "metadata": {},
   "outputs": [],
   "source": []
  },
  {
   "cell_type": "code",
   "execution_count": null,
   "metadata": {},
   "outputs": [],
   "source": []
  },
  {
   "cell_type": "code",
   "execution_count": null,
   "metadata": {},
   "outputs": [],
   "source": []
  },
  {
   "cell_type": "code",
   "execution_count": null,
   "metadata": {},
   "outputs": [],
   "source": []
  },
  {
   "cell_type": "code",
   "execution_count": null,
   "metadata": {},
   "outputs": [],
   "source": []
  },
  {
   "cell_type": "code",
   "execution_count": null,
   "metadata": {},
   "outputs": [],
   "source": []
  },
  {
   "cell_type": "code",
   "execution_count": null,
   "metadata": {},
   "outputs": [],
   "source": []
  },
  {
   "cell_type": "code",
   "execution_count": null,
   "metadata": {},
   "outputs": [],
   "source": []
  },
  {
   "cell_type": "code",
   "execution_count": null,
   "metadata": {},
   "outputs": [],
   "source": []
  },
  {
   "cell_type": "code",
   "execution_count": null,
   "metadata": {},
   "outputs": [],
   "source": []
  },
  {
   "cell_type": "code",
   "execution_count": null,
   "metadata": {},
   "outputs": [],
   "source": []
  },
  {
   "cell_type": "code",
   "execution_count": null,
   "metadata": {},
   "outputs": [],
   "source": []
  },
  {
   "cell_type": "code",
   "execution_count": null,
   "metadata": {},
   "outputs": [],
   "source": []
  },
  {
   "cell_type": "code",
   "execution_count": null,
   "metadata": {},
   "outputs": [],
   "source": []
  },
  {
   "cell_type": "code",
   "execution_count": null,
   "metadata": {},
   "outputs": [],
   "source": []
  },
  {
   "cell_type": "code",
   "execution_count": null,
   "metadata": {},
   "outputs": [],
   "source": []
  },
  {
   "cell_type": "code",
   "execution_count": null,
   "metadata": {},
   "outputs": [],
   "source": []
  },
  {
   "cell_type": "code",
   "execution_count": null,
   "metadata": {},
   "outputs": [],
   "source": []
  },
  {
   "cell_type": "code",
   "execution_count": null,
   "metadata": {},
   "outputs": [],
   "source": []
  },
  {
   "cell_type": "code",
   "execution_count": null,
   "metadata": {},
   "outputs": [],
   "source": []
  },
  {
   "cell_type": "code",
   "execution_count": null,
   "metadata": {},
   "outputs": [],
   "source": []
  },
  {
   "cell_type": "code",
   "execution_count": null,
   "metadata": {},
   "outputs": [],
   "source": []
  },
  {
   "cell_type": "code",
   "execution_count": null,
   "metadata": {},
   "outputs": [],
   "source": []
  },
  {
   "cell_type": "code",
   "execution_count": null,
   "metadata": {},
   "outputs": [],
   "source": []
  },
  {
   "cell_type": "code",
   "execution_count": null,
   "metadata": {},
   "outputs": [],
   "source": []
  },
  {
   "cell_type": "code",
   "execution_count": null,
   "metadata": {},
   "outputs": [],
   "source": []
  },
  {
   "cell_type": "code",
   "execution_count": null,
   "metadata": {},
   "outputs": [],
   "source": []
  },
  {
   "cell_type": "code",
   "execution_count": null,
   "metadata": {},
   "outputs": [],
   "source": []
  },
  {
   "cell_type": "code",
   "execution_count": null,
   "metadata": {},
   "outputs": [],
   "source": []
  },
  {
   "cell_type": "code",
   "execution_count": null,
   "metadata": {},
   "outputs": [],
   "source": []
  },
  {
   "cell_type": "code",
   "execution_count": null,
   "metadata": {},
   "outputs": [],
   "source": []
  },
  {
   "cell_type": "code",
   "execution_count": null,
   "metadata": {},
   "outputs": [],
   "source": []
  },
  {
   "cell_type": "code",
   "execution_count": null,
   "metadata": {},
   "outputs": [],
   "source": []
  },
  {
   "cell_type": "code",
   "execution_count": null,
   "metadata": {},
   "outputs": [],
   "source": []
  },
  {
   "cell_type": "code",
   "execution_count": null,
   "metadata": {},
   "outputs": [],
   "source": []
  },
  {
   "cell_type": "code",
   "execution_count": null,
   "metadata": {},
   "outputs": [],
   "source": []
  },
  {
   "cell_type": "code",
   "execution_count": null,
   "metadata": {},
   "outputs": [],
   "source": []
  },
  {
   "cell_type": "code",
   "execution_count": null,
   "metadata": {},
   "outputs": [],
   "source": []
  },
  {
   "cell_type": "code",
   "execution_count": null,
   "metadata": {},
   "outputs": [],
   "source": []
  },
  {
   "cell_type": "code",
   "execution_count": null,
   "metadata": {},
   "outputs": [],
   "source": []
  },
  {
   "cell_type": "code",
   "execution_count": null,
   "metadata": {},
   "outputs": [],
   "source": []
  },
  {
   "cell_type": "code",
   "execution_count": null,
   "metadata": {},
   "outputs": [],
   "source": []
  },
  {
   "cell_type": "code",
   "execution_count": null,
   "metadata": {},
   "outputs": [],
   "source": []
  },
  {
   "cell_type": "markdown",
   "metadata": {},
   "source": [
    "## 2. Visualisation"
   ]
  },
  {
   "cell_type": "code",
   "execution_count": null,
   "metadata": {},
   "outputs": [],
   "source": []
  },
  {
   "cell_type": "code",
   "execution_count": null,
   "metadata": {},
   "outputs": [],
   "source": []
  },
  {
   "cell_type": "code",
   "execution_count": null,
   "metadata": {},
   "outputs": [],
   "source": []
  }
 ],
 "metadata": {
  "kernelspec": {
   "display_name": "Python 3",
   "language": "python",
   "name": "python3"
  },
  "language_info": {
   "codemirror_mode": {
    "name": "ipython",
    "version": 3
   },
   "file_extension": ".py",
   "mimetype": "text/x-python",
   "name": "python",
   "nbconvert_exporter": "python",
   "pygments_lexer": "ipython3",
   "version": "3.7.1"
  }
 },
 "nbformat": 4,
 "nbformat_minor": 2
}
